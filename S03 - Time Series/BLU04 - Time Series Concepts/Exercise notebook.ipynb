{
 "cells": [
  {
   "cell_type": "markdown",
   "metadata": {
    "deletable": false,
    "editable": false,
    "nbgrader": {
     "grade": false,
     "grade_id": "cell-82a8cd0054634b6e",
     "locked": true,
     "schema_version": 3,
     "solution": false,
     "task": false
    }
   },
   "source": [
    "# BLU04 - Time Series Concepts: Exercise notebook"
   ]
  },
  {
   "cell_type": "markdown",
   "metadata": {
    "deletable": false,
    "editable": false,
    "nbgrader": {
     "grade": false,
     "grade_id": "cell-db2d786acdddc37d",
     "locked": true,
     "schema_version": 1,
     "solution": false
    }
   },
   "source": [
    "Yay! Exercises! "
   ]
  },
  {
   "cell_type": "code",
   "execution_count": 1,
   "metadata": {
    "deletable": false,
    "editable": false,
    "nbgrader": {
     "grade": false,
     "grade_id": "cell-5631f63a56ce36ad",
     "locked": true,
     "schema_version": 3,
     "solution": false,
     "task": false
    }
   },
   "outputs": [],
   "source": [
    "import pandas as pd\n",
    "from sklearn.linear_model import LinearRegression\n",
    "import numpy as np\n",
    "import hashlib # for grading purposes\n",
    "%matplotlib inline\n",
    "import utils\n",
    "from sklearn.impute import KNNImputer"
   ]
  },
  {
   "cell_type": "markdown",
   "metadata": {
    "deletable": false,
    "editable": false,
    "nbgrader": {
     "grade": false,
     "grade_id": "cell-5a13c9450f7cf9c8",
     "locked": true,
     "schema_version": 1,
     "solution": false
    }
   },
   "source": [
    "### You're hired\n",
    "\n",
    "You've been hired as the data scientist for a supermarket chain that wants to start extracting insights from their data. First you'll start with a specific store.\n",
    "\n",
    "Let's get our data:"
   ]
  },
  {
   "cell_type": "code",
   "execution_count": 2,
   "metadata": {
    "deletable": false,
    "editable": false,
    "nbgrader": {
     "grade": false,
     "grade_id": "cell-1cf2c842a2026f77",
     "locked": true,
     "schema_version": 3,
     "solution": false,
     "task": false
    }
   },
   "outputs": [
    {
     "data": {
      "text/html": [
       "<div>\n",
       "<style scoped>\n",
       "    .dataframe tbody tr th:only-of-type {\n",
       "        vertical-align: middle;\n",
       "    }\n",
       "\n",
       "    .dataframe tbody tr th {\n",
       "        vertical-align: top;\n",
       "    }\n",
       "\n",
       "    .dataframe thead th {\n",
       "        text-align: right;\n",
       "    }\n",
       "</style>\n",
       "<table border=\"1\" class=\"dataframe\">\n",
       "  <thead>\n",
       "    <tr style=\"text-align: right;\">\n",
       "      <th></th>\n",
       "      <th>date</th>\n",
       "      <th>customers</th>\n",
       "    </tr>\n",
       "  </thead>\n",
       "  <tbody>\n",
       "    <tr>\n",
       "      <th>67528</th>\n",
       "      <td>10/18/2016</td>\n",
       "      <td>1655</td>\n",
       "    </tr>\n",
       "    <tr>\n",
       "      <th>55251</th>\n",
       "      <td>02/27/2016</td>\n",
       "      <td>1314</td>\n",
       "    </tr>\n",
       "    <tr>\n",
       "      <th>49000</th>\n",
       "      <td>10/28/2015</td>\n",
       "      <td>1784</td>\n",
       "    </tr>\n",
       "    <tr>\n",
       "      <th>54244</th>\n",
       "      <td>02/08/2016</td>\n",
       "      <td>417</td>\n",
       "    </tr>\n",
       "    <tr>\n",
       "      <th>48311</th>\n",
       "      <td>10/15/2015</td>\n",
       "      <td>1725</td>\n",
       "    </tr>\n",
       "  </tbody>\n",
       "</table>\n",
       "</div>"
      ],
      "text/plain": [
       "             date  customers\n",
       "67528  10/18/2016       1655\n",
       "55251  02/27/2016       1314\n",
       "49000  10/28/2015       1784\n",
       "54244  02/08/2016        417\n",
       "48311  10/15/2015       1725"
      ]
     },
     "execution_count": 2,
     "metadata": {},
     "output_type": "execute_result"
    }
   ],
   "source": [
    "store = utils.get_store_data()\n",
    "store.head()"
   ]
  },
  {
   "cell_type": "markdown",
   "metadata": {
    "deletable": false,
    "editable": false,
    "nbgrader": {
     "grade": false,
     "grade_id": "cell-b8706c80d1b446cd",
     "locked": true,
     "schema_version": 3,
     "solution": false,
     "task": false
    }
   },
   "source": [
    "## Exercise 1: Index and datetime"
   ]
  },
  {
   "cell_type": "markdown",
   "metadata": {
    "deletable": false,
    "editable": false,
    "nbgrader": {
     "grade": false,
     "grade_id": "cell-d73283b149f131dd",
     "locked": true,
     "schema_version": 3,
     "solution": false,
     "task": false
    }
   },
   "source": [
    "#### 1.1) Make the index the datetime of the dates. "
   ]
  },
  {
   "cell_type": "code",
   "execution_count": 3,
   "metadata": {
    "deletable": false,
    "nbgrader": {
     "grade": false,
     "grade_id": "cell-c5dde6c9d4e1e881",
     "locked": false,
     "schema_version": 1,
     "solution": true,
     "task": false
    }
   },
   "outputs": [],
   "source": [
    "# We expect the solution to be a dataframe\n",
    "\n",
    "#store['date'] =\n",
    "#store =\n",
    "#store =            # Don't forget best practices\n",
    "\n",
    "# YOUR CODE HERE\n",
    "\n",
    "store['date'] = pd.to_datetime(store.date, infer_datetime_format=True)\n",
    "\n",
    "\n",
    "store = store.set_index('date',   \n",
    "                      drop=True) \n",
    "\n",
    "store = store.sort_index()\n"
   ]
  },
  {
   "cell_type": "code",
   "execution_count": 4,
   "metadata": {
    "deletable": false,
    "editable": false,
    "nbgrader": {
     "grade": true,
     "grade_id": "cell-018ff5132531d38c",
     "locked": true,
     "points": 1,
     "schema_version": 3,
     "solution": false,
     "task": false
    }
   },
   "outputs": [],
   "source": [
    "expected_hash = '24e6fe346ad970255e2da6db24d4721d0a240cbb5a00a58fe731b4ad767d6ab0'\n",
    "assert hashlib.sha256(str(store.iloc[25].name).encode()).hexdigest() == expected_hash\n",
    "assert hashlib.sha256(str(store.index.dtype).encode()).hexdigest() == '261738f2e43a1c47a16f043b46deb993943d61f4a2bbe5ef4b03c3fb1af362b5'\n",
    "\n",
    "\n",
    "# clue: if this assert is failing, and your iloc[25].name is '18/02/2015', \n",
    "# then you are missing the \"best practices\" part. \n",
    "# What did we say in the Learning notebook about this? "
   ]
  },
  {
   "cell_type": "markdown",
   "metadata": {
    "deletable": false,
    "editable": false,
    "nbgrader": {
     "grade": false,
     "grade_id": "cell-9d46ace3ca1ca427",
     "locked": true,
     "schema_version": 3,
     "solution": false,
     "task": false
    }
   },
   "source": [
    "## Exercise 2: Time series preprocessing"
   ]
  },
  {
   "cell_type": "markdown",
   "metadata": {
    "deletable": false,
    "editable": false,
    "nbgrader": {
     "grade": false,
     "grade_id": "cell-278bc0bcacfe2773",
     "locked": true,
     "schema_version": 3,
     "solution": false,
     "task": false
    }
   },
   "source": [
    "#### 2.1) Look out for duplicate timestamps (ungraded)"
   ]
  },
  {
   "cell_type": "markdown",
   "metadata": {
    "deletable": false,
    "editable": false,
    "nbgrader": {
     "grade": false,
     "grade_id": "cell-a825acbb533ea1f0",
     "locked": true,
     "schema_version": 3,
     "solution": false,
     "task": false
    }
   },
   "source": [
    "When working with time series, we should make sure we don't have more than one possible value for the same timestamp. How would you check if there are any duplicates?"
   ]
  },
  {
   "cell_type": "code",
   "execution_count": 5,
   "metadata": {},
   "outputs": [
    {
     "data": {
      "text/plain": [
       "957"
      ]
     },
     "execution_count": 5,
     "metadata": {},
     "output_type": "execute_result"
    }
   ],
   "source": [
    "## UNGRADED CELL\n",
    "# use this cell to write your code\n",
    "# how would you look for duplicate timestamps?\n",
    "# ...\n",
    "store.duplicated().sum()\n"
   ]
  },
  {
   "cell_type": "markdown",
   "metadata": {
    "deletable": false,
    "editable": false,
    "nbgrader": {
     "grade": false,
     "grade_id": "cell-407c9dd513e07ee5",
     "locked": true,
     "schema_version": 3,
     "solution": false,
     "task": false
    }
   },
   "source": [
    "#### 2.2) Accounting for missing days"
   ]
  },
  {
   "cell_type": "markdown",
   "metadata": {
    "deletable": false,
    "editable": false,
    "nbgrader": {
     "grade": false,
     "grade_id": "cell-558edf366e30e8b4",
     "locked": true,
     "schema_version": 3,
     "solution": false,
     "task": false
    }
   },
   "source": [
    "Sometimes datasets don't have rows corresponding to all timestamps, as a data scientist you should know if this is the case. Copy `store` to a new variable called `store_complete`, with no gap days. Fill the missing data with nulls."
   ]
  },
  {
   "cell_type": "code",
   "execution_count": 6,
   "metadata": {
    "deletable": false,
    "nbgrader": {
     "grade": false,
     "grade_id": "cell-e56f020937a5b22f",
     "locked": false,
     "schema_version": 3,
     "solution": true,
     "task": false
    }
   },
   "outputs": [],
   "source": [
    "# copy store to store_complete\n",
    "store_complete = store.copy()\n",
    "\n",
    "# change store_complete index so that it contains each of the days in the time range [2013-01-02, 2017-08-15]\n",
    "# fill missing data with nulls\n",
    "#store_complete = \n",
    "\n",
    "# YOUR CODE HERE\n",
    "store_complete = store_complete.asfreq('d', fill_value=None)\n"
   ]
  },
  {
   "cell_type": "code",
   "execution_count": 7,
   "metadata": {
    "deletable": false,
    "editable": false,
    "nbgrader": {
     "grade": true,
     "grade_id": "cell-fa53996d480dd867",
     "locked": true,
     "points": 1,
     "schema_version": 3,
     "solution": false,
     "task": false
    }
   },
   "outputs": [],
   "source": [
    "#### check number of nulls\n",
    "assert store_complete.isnull().sum()[0] != 0, \"You have 0 null values in the dataset! Remember that each missing day should correspond to a null in customers.\"\n",
    "assert store_complete.isnull().sum()[0] == 11, \"You should have found 11 days with missing data, no more no less.\"\n",
    "\n",
    "#### check store_complete dataframe integrity\n",
    "assert store_complete.shape[0] != 1676, \"Did you fill the index with the missing days?\"\n",
    "assert store_complete.shape[0] == 1687, \"The number of rows is not the expected.\"\n",
    "assert store_complete.shape[1] == 1, \"You shouldn't change the number of columns.\"\n",
    "assert str(store_complete[store_complete.customers.isnull()].index[6])[:10] == '2016-01-01', \"Do you have all the missing days? Is the index is ordered?\""
   ]
  },
  {
   "cell_type": "markdown",
   "metadata": {
    "deletable": false,
    "editable": false,
    "nbgrader": {
     "grade": false,
     "grade_id": "cell-b6278339d5f6e6bf",
     "locked": true,
     "schema_version": 3,
     "solution": false,
     "task": false
    }
   },
   "source": [
    "## Exercise 3: Working with timestamps"
   ]
  },
  {
   "cell_type": "markdown",
   "metadata": {
    "deletable": false,
    "editable": false,
    "nbgrader": {
     "grade": false,
     "grade_id": "cell-5d9d2353db3910f1",
     "locked": true,
     "schema_version": 3,
     "solution": false,
     "task": false
    }
   },
   "source": [
    "#### 3.1) Best day in December 2015\n",
    "\n",
    "What was the best day in terms of customers in December 2015?"
   ]
  },
  {
   "cell_type": "code",
   "execution_count": 8,
   "metadata": {
    "deletable": false,
    "nbgrader": {
     "grade": false,
     "grade_id": "cell-f3ba0f907ca7e1b7",
     "locked": false,
     "schema_version": 1,
     "solution": true
    }
   },
   "outputs": [],
   "source": [
    "# hint: the answer should be a timestamp\n",
    "\n",
    "#best_day =\n",
    "\n",
    "# YOUR CODE HERE\n",
    "\n",
    "best_day = ((store_complete.loc[\"12/2015\"].customers.idxmax()))\n"
   ]
  },
  {
   "cell_type": "code",
   "execution_count": 9,
   "metadata": {
    "deletable": false,
    "editable": false,
    "nbgrader": {
     "grade": true,
     "grade_id": "cell-141eb4112e911043",
     "locked": true,
     "points": 1,
     "schema_version": 3,
     "solution": false,
     "task": false
    }
   },
   "outputs": [
    {
     "name": "stdout",
     "output_type": "stream",
     "text": [
      "The best day in December 2015 was day 23. Talk about last minute shoppers!...\n"
     ]
    }
   ],
   "source": [
    "expected_hash = '880a9391c251561f4af225dcfc9d982090357054828e1f79e5e99fc44b2242d1'\n",
    "assert hashlib.sha256(str(best_day).encode()).hexdigest() == expected_hash\n",
    "\n",
    "print(f\"The best day in December 2015 was day {str(best_day)[-11:-9]}. Talk about last minute shoppers!...\")"
   ]
  },
  {
   "cell_type": "markdown",
   "metadata": {
    "deletable": false,
    "editable": false,
    "nbgrader": {
     "grade": false,
     "grade_id": "cell-20106072ecdc80bd",
     "locked": true,
     "schema_version": 3,
     "solution": false,
     "task": false
    }
   },
   "source": [
    "#### 3.2) Worst monday\n",
    "\n",
    "Last monday there were only 20 customers, and your boss said he's never seen such a low count of customers on a monday. To check if your boss is correct, can you find the minimum number of customers that we've ever had on a monday?\n",
    "\n",
    "- _hint #1: you can use the methods at the bottom of this [page](https://pandas.pydata.org/pandas-docs/stable/reference/api/pandas.DatetimeIndex.html) directly on the index_  \n",
    "- _hint #2: when operating directly on the index, you do not need to use `.dt` to use the methods_"
   ]
  },
  {
   "cell_type": "code",
   "execution_count": 10,
   "metadata": {
    "deletable": false,
    "nbgrader": {
     "grade": false,
     "grade_id": "cell-089cdded3864f17b",
     "locked": false,
     "schema_version": 1,
     "solution": true,
     "task": false
    }
   },
   "outputs": [],
   "source": [
    "#min_customers_monday =\n",
    "\n",
    "# YOUR CODE HERE\n",
    "\n",
    "is_monday = store_complete.index.get_level_values(0).day_name() == 'Monday'\n",
    "\n",
    "min_customers_monday = (store_complete.loc[is_monday].min())\n"
   ]
  },
  {
   "cell_type": "code",
   "execution_count": 11,
   "metadata": {
    "deletable": false,
    "editable": false,
    "nbgrader": {
     "grade": true,
     "grade_id": "cell-6d882e41cf9413ae",
     "locked": true,
     "points": 2,
     "schema_version": 3,
     "solution": false,
     "task": false
    }
   },
   "outputs": [
    {
     "name": "stdout",
     "output_type": "stream",
     "text": [
      "Yep! The lowest count we ever had on a monday was 10 customers. Don't tell your boss.\n"
     ]
    }
   ],
   "source": [
    "expected_hash = '4a44dc15364204a80fe80e9039455cc1608281820fe2b24f1e5233ade6af1dd5'\n",
    "assert hashlib.sha256(str(int(min_customers_monday)).encode()).hexdigest() == expected_hash\n",
    "\n",
    "print(f\"Yep! The lowest count we ever had on a monday was {int(min_customers_monday)} customers. Don't tell your boss.\")"
   ]
  },
  {
   "cell_type": "markdown",
   "metadata": {
    "deletable": false,
    "editable": false,
    "nbgrader": {
     "grade": false,
     "grade_id": "cell-0b8da8c48b4de3af",
     "locked": true,
     "schema_version": 3,
     "solution": false,
     "task": false
    }
   },
   "source": [
    "## Exercise 4: Time series methods"
   ]
  },
  {
   "cell_type": "markdown",
   "metadata": {
    "deletable": false,
    "editable": false,
    "nbgrader": {
     "grade": false,
     "grade_id": "cell-ee1325836f0e198b",
     "locked": true,
     "schema_version": 3,
     "solution": false,
     "task": false
    }
   },
   "source": [
    "#### 4.1) Shopping rush\n",
    "\n",
    "A new pandemic has started, and everyone came to buy soap and isopropyl alcohol. Your boss swears to have never seen such an absolute increase in sales from one day to the next - \"Yesterday there were 100 customers, today there were 5000.\"\n",
    "\n",
    "To confirm if what your boss is saying is true, can you find the maximum increase in sales from one day to the next?"
   ]
  },
  {
   "cell_type": "code",
   "execution_count": 12,
   "metadata": {
    "deletable": false,
    "nbgrader": {
     "grade": false,
     "grade_id": "cell-f19f56a68b7febcb",
     "locked": false,
     "schema_version": 1,
     "solution": true,
     "task": false
    }
   },
   "outputs": [],
   "source": [
    "# hint: the solution expects a float\n",
    "\n",
    "#max_increase = \n",
    "\n",
    "# YOUR CODE HERE\n",
    "\n",
    "\n",
    "max_increase =  store_complete.customers.diff().max()\n"
   ]
  },
  {
   "cell_type": "code",
   "execution_count": 13,
   "metadata": {
    "deletable": false,
    "editable": false,
    "nbgrader": {
     "grade": true,
     "grade_id": "cell-0703bbeda85d0834",
     "locked": true,
     "points": 1,
     "schema_version": 3,
     "solution": false,
     "task": false
    }
   },
   "outputs": [],
   "source": [
    "expected_hash = 'aa4b0d224e2b4488c6e3c5692347a0e26322d86dcb6bf01ab937e15d76037ee4'\n",
    "assert hashlib.sha256(str(int(max_increase)).encode()).hexdigest() == expected_hash"
   ]
  },
  {
   "cell_type": "markdown",
   "metadata": {
    "deletable": false,
    "editable": false,
    "nbgrader": {
     "grade": false,
     "grade_id": "cell-63c93292193b0090",
     "locked": true,
     "schema_version": 3,
     "solution": false,
     "task": false
    }
   },
   "source": [
    "#### 4.2) Bad week\n",
    "\n",
    "After that shopping rush of the last few days, we had a very slow week, with a mean amount of customers per day of 1000. What was the last week we had less than 1000 customers per day (`last_bad_week`)?"
   ]
  },
  {
   "cell_type": "code",
   "execution_count": 14,
   "metadata": {
    "deletable": false,
    "nbgrader": {
     "grade": false,
     "grade_id": "cell-3745ea4d56722003",
     "locked": false,
     "schema_version": 1,
     "solution": true,
     "task": false
    }
   },
   "outputs": [],
   "source": [
    "# We expect the answer to be a weekly time period (freq='W-SUN'), so answers  \n",
    "# which are of the form \"the first monday of that week\" will not pass the grader. \n",
    "# hint: by default pandas uses freq='W-SUN'\n",
    "#mean_weekly_customers = \n",
    "#last_bad_week = \n",
    "\n",
    "mean_weekly_customers =  store_complete.resample('W-SUN').mean()\n",
    "\n",
    "\n",
    "last_bad_week =  mean_weekly_customers.customers.idxmin()\n"
   ]
  },
  {
   "cell_type": "code",
   "execution_count": 15,
   "metadata": {
    "deletable": false,
    "editable": false,
    "nbgrader": {
     "grade": true,
     "grade_id": "cell-e8248641ed113328",
     "locked": true,
     "points": 2,
     "schema_version": 3,
     "solution": false,
     "task": false
    }
   },
   "outputs": [],
   "source": [
    "expected_hash = '9d46cb8cb3052fab17285fcf2dc16249b9ccb978f113b0718ff44a8553c189bc'\n",
    "assert hashlib.sha256(str(last_bad_week).encode()).hexdigest() == expected_hash"
   ]
  },
  {
   "cell_type": "markdown",
   "metadata": {
    "deletable": false,
    "editable": false,
    "nbgrader": {
     "grade": false,
     "grade_id": "cell-8122f006159bae99",
     "locked": true,
     "schema_version": 3,
     "solution": false,
     "task": false
    }
   },
   "source": [
    "---"
   ]
  },
  {
   "cell_type": "markdown",
   "metadata": {
    "deletable": false,
    "editable": false,
    "nbgrader": {
     "grade": false,
     "grade_id": "cell-56d1a5764f9b4860",
     "locked": true,
     "schema_version": 3,
     "solution": false,
     "task": false
    }
   },
   "source": [
    "### Congrats!\n",
    "\n",
    "Your work is proving useful, so your boss has asked to expand your analysis to the whole chain. \n",
    "\n",
    "Let's get the new data:"
   ]
  },
  {
   "cell_type": "code",
   "execution_count": 16,
   "metadata": {
    "deletable": false,
    "editable": false,
    "nbgrader": {
     "grade": false,
     "grade_id": "cell-cad95b3a90fe0f8d",
     "locked": true,
     "schema_version": 3,
     "solution": false,
     "task": false
    }
   },
   "outputs": [
    {
     "data": {
      "text/html": [
       "<div>\n",
       "<style scoped>\n",
       "    .dataframe tbody tr th:only-of-type {\n",
       "        vertical-align: middle;\n",
       "    }\n",
       "\n",
       "    .dataframe tbody tr th {\n",
       "        vertical-align: top;\n",
       "    }\n",
       "\n",
       "    .dataframe thead th {\n",
       "        text-align: right;\n",
       "    }\n",
       "</style>\n",
       "<table border=\"1\" class=\"dataframe\">\n",
       "  <thead>\n",
       "    <tr style=\"text-align: right;\">\n",
       "      <th></th>\n",
       "      <th>date</th>\n",
       "      <th>store_nbr</th>\n",
       "      <th>customers</th>\n",
       "    </tr>\n",
       "  </thead>\n",
       "  <tbody>\n",
       "    <tr>\n",
       "      <th>43273</th>\n",
       "      <td>07/09/2015</td>\n",
       "      <td>7</td>\n",
       "      <td>1830</td>\n",
       "    </tr>\n",
       "    <tr>\n",
       "      <th>18371</th>\n",
       "      <td>02/02/2014</td>\n",
       "      <td>6</td>\n",
       "      <td>2210</td>\n",
       "    </tr>\n",
       "    <tr>\n",
       "      <th>32615</th>\n",
       "      <td>12/01/2014</td>\n",
       "      <td>10</td>\n",
       "      <td>1107</td>\n",
       "    </tr>\n",
       "    <tr>\n",
       "      <th>62678</th>\n",
       "      <td>07/16/2016</td>\n",
       "      <td>10</td>\n",
       "      <td>1002</td>\n",
       "    </tr>\n",
       "    <tr>\n",
       "      <th>58823</th>\n",
       "      <td>05/04/2016</td>\n",
       "      <td>24</td>\n",
       "      <td>2306</td>\n",
       "    </tr>\n",
       "  </tbody>\n",
       "</table>\n",
       "</div>"
      ],
      "text/plain": [
       "             date  store_nbr  customers\n",
       "43273  07/09/2015          7       1830\n",
       "18371  02/02/2014          6       2210\n",
       "32615  12/01/2014         10       1107\n",
       "62678  07/16/2016         10       1002\n",
       "58823  05/04/2016         24       2306"
      ]
     },
     "execution_count": 16,
     "metadata": {},
     "output_type": "execute_result"
    }
   ],
   "source": [
    "chain = utils.get_stores_data()\n",
    "chain.head()"
   ]
  },
  {
   "cell_type": "code",
   "execution_count": 17,
   "metadata": {
    "deletable": false,
    "editable": false,
    "nbgrader": {
     "grade": false,
     "grade_id": "cell-76bf1854f1a0871d",
     "locked": true,
     "schema_version": 1,
     "solution": false
    }
   },
   "outputs": [
    {
     "name": "stdout",
     "output_type": "stream",
     "text": [
      "We now have 83488 data points. Wooooow!\n"
     ]
    }
   ],
   "source": [
    "print('We now have %0.0f data points. Wooooow!' % len(chain))"
   ]
  },
  {
   "cell_type": "markdown",
   "metadata": {
    "deletable": false,
    "editable": false,
    "nbgrader": {
     "grade": false,
     "grade_id": "cell-ed2483e8e17c72b5",
     "locked": true,
     "schema_version": 1,
     "solution": false
    }
   },
   "source": [
    "The thing is, we can't just set the index to be the day, as we now have multiple stores on the same day. \n",
    "\n",
    "Looks like we have to go into multi-indexing..."
   ]
  },
  {
   "cell_type": "markdown",
   "metadata": {
    "deletable": false,
    "editable": false,
    "nbgrader": {
     "grade": false,
     "grade_id": "cell-6e67b8daa5d7502d",
     "locked": true,
     "schema_version": 3,
     "solution": false,
     "task": false
    }
   },
   "source": [
    "## Exercise 5: Multi-indexing"
   ]
  },
  {
   "cell_type": "markdown",
   "metadata": {
    "deletable": false,
    "editable": false,
    "nbgrader": {
     "grade": false,
     "grade_id": "cell-e013da3aa9d00a70",
     "locked": true,
     "schema_version": 3,
     "solution": false,
     "task": false
    }
   },
   "source": [
    "#### 5.1) make the date into a datetime, and then set the index to be `[date, store_nbr]`"
   ]
  },
  {
   "cell_type": "code",
   "execution_count": 18,
   "metadata": {
    "deletable": false,
    "nbgrader": {
     "grade": false,
     "grade_id": "cell-76e9757d88ddc4b1",
     "locked": false,
     "schema_version": 1,
     "solution": true,
     "task": false
    }
   },
   "outputs": [],
   "source": [
    "#chain['date'] = \n",
    "#chain = \n",
    "#chain =\n",
    "\n",
    "# YOUR CODE HERE\n",
    "chain['date'] = pd.to_datetime(chain.date, infer_datetime_format=True)\n",
    "chain = chain.set_index(['date','store_nbr'])\n",
    "chain = chain.sort_index()"
   ]
  },
  {
   "cell_type": "code",
   "execution_count": 19,
   "metadata": {
    "deletable": false,
    "editable": false,
    "nbgrader": {
     "grade": true,
     "grade_id": "cell-90a9c56f23c1116b",
     "locked": true,
     "points": 1,
     "schema_version": 3,
     "solution": false,
     "task": false
    }
   },
   "outputs": [],
   "source": [
    "assert hashlib.sha256(str(chain.index.get_level_values(0).dtype).encode()).hexdigest() == \\\n",
    "        '261738f2e43a1c47a16f043b46deb993943d61f4a2bbe5ef4b03c3fb1af362b5', \"First level of index should be a datetime!\"\n",
    "assert hashlib.sha256(str(chain.index.get_level_values(0)).encode()).hexdigest() ==  \\\n",
    "        'aff1142eb44c03cc16656f3c3541ade7b5c151abcb4340fb14a058a7fec7e46b', \"Is the index sorted? Never forget to sort your time series.\"\n",
    "assert hashlib.sha256(str(chain.index.get_level_values(1)).encode()).hexdigest() ==  \\\n",
    "        'd28cc6e9308dd2e399e100566cc5366b0ef79b74d84a5d666d792c4514704bfb', \"Check if you selected the correct values for the second level.\""
   ]
  },
  {
   "cell_type": "markdown",
   "metadata": {
    "deletable": false,
    "editable": false,
    "nbgrader": {
     "grade": false,
     "grade_id": "cell-9133d869946ecfee",
     "locked": true,
     "schema_version": 3,
     "solution": false,
     "task": false
    }
   },
   "source": [
    "#### 5.2) Customers on shop 20, March 2016\n",
    "\n",
    "What's the maximum daily number of customers, on store 20, on March 2016?"
   ]
  },
  {
   "cell_type": "code",
   "execution_count": 20,
   "metadata": {
    "deletable": false,
    "nbgrader": {
     "grade": false,
     "grade_id": "cell-bc9fe27354d7f35b",
     "locked": false,
     "schema_version": 1,
     "solution": true,
     "task": false
    }
   },
   "outputs": [],
   "source": [
    "# hint: the answer should be a timestamp\n",
    "\n",
    "#max_store20 =\n",
    "\n",
    "# YOUR CODE HERE\n",
    "idx = pd.IndexSlice\n",
    "\n",
    "max_store20 = int(chain.loc[idx[\"03/2016\", 20], :].max())\n"
   ]
  },
  {
   "cell_type": "code",
   "execution_count": 21,
   "metadata": {
    "deletable": false,
    "editable": false,
    "nbgrader": {
     "grade": true,
     "grade_id": "cell-ec809d4ad7cf82c7",
     "locked": true,
     "points": 2,
     "schema_version": 3,
     "solution": false,
     "task": false
    }
   },
   "outputs": [
    {
     "name": "stdout",
     "output_type": "stream",
     "text": [
      "Correct! The maximum daily number of customers on March 2016 was 2253.\n"
     ]
    }
   ],
   "source": [
    "expected_hash = '605e9e90d5370dfd14f2b61f34cbc58c2c9cf5686160cc483a0c5a4b4f421fc9'\n",
    "assert hashlib.sha256(str(max_store20).encode()).hexdigest() == expected_hash\n",
    "\n",
    "print(f\"Correct! The maximum daily number of customers on March 2016 was {max_store20}.\")"
   ]
  },
  {
   "cell_type": "markdown",
   "metadata": {
    "deletable": false,
    "editable": false,
    "nbgrader": {
     "grade": false,
     "grade_id": "cell-5edabf7ec5d8ab98",
     "locked": true,
     "schema_version": 3,
     "solution": false,
     "task": false
    }
   },
   "source": [
    "#### 5.3) how many stores opened in 2015?"
   ]
  },
  {
   "cell_type": "code",
   "execution_count": 22,
   "metadata": {
    "deletable": false,
    "nbgrader": {
     "grade": false,
     "grade_id": "cell-ff6e9c588b6ab2bf",
     "locked": false,
     "schema_version": 1,
     "solution": true,
     "task": false
    }
   },
   "outputs": [],
   "source": [
    "# hint: you can assume that no stores closed in 2015.\n",
    "\n",
    "#nr_stores_2014 =\n",
    "#nr_stores_2015 = \n",
    "#nr_stores_opened_2015 = \n",
    "\n",
    "# YOUR CODE HERE\n",
    "nr_stores_2014 = chain.loc[idx[\"2014\",:],:].index.get_level_values('store_nbr').nunique()\n",
    "\n",
    "nr_stores_2015 = chain.loc[idx[\"2015\",:],:].index.get_level_values('store_nbr').nunique()\n",
    "\n",
    "nr_stores_opened_2015 = (nr_stores_2015 - nr_stores_2014)\n"
   ]
  },
  {
   "cell_type": "code",
   "execution_count": 23,
   "metadata": {
    "deletable": false,
    "editable": false,
    "nbgrader": {
     "grade": true,
     "grade_id": "cell-85511006b783f6f0",
     "locked": true,
     "points": 2,
     "schema_version": 3,
     "solution": false,
     "task": false
    }
   },
   "outputs": [],
   "source": [
    "expected_hash = 'ef2d127de37b942baad06145e54b0c619a1f22327b2ebbcfbec78f5564afe39d'\n",
    "assert hashlib.sha256(str(nr_stores_opened_2015).encode()).hexdigest() == expected_hash"
   ]
  },
  {
   "cell_type": "markdown",
   "metadata": {
    "deletable": false,
    "editable": false,
    "nbgrader": {
     "grade": false,
     "grade_id": "cell-d5b44698b2e6a12d",
     "locked": true,
     "schema_version": 3,
     "solution": false,
     "task": false
    }
   },
   "source": [
    "#### 5.4) Record number of customers\n",
    "\n",
    "Find the maximum number of customers per day on each store. The result should be a pandas series where the index corresponds to the `store_nbr` and the values to the corresponding maximum number of customers on record."
   ]
  },
  {
   "cell_type": "code",
   "execution_count": 24,
   "metadata": {
    "deletable": false,
    "nbgrader": {
     "grade": false,
     "grade_id": "cell-21a479aedaccf32e",
     "locked": false,
     "schema_version": 3,
     "solution": true,
     "task": false
    }
   },
   "outputs": [],
   "source": [
    "# max_per_store = \n",
    "\n",
    "# YOUR CODE HERE\n",
    "\n",
    "max_per_store = chain.groupby(level='store_nbr').max()"
   ]
  },
  {
   "cell_type": "code",
   "execution_count": 25,
   "metadata": {
    "deletable": false,
    "editable": false,
    "nbgrader": {
     "grade": true,
     "grade_id": "cell-56add98c830a14a7",
     "locked": true,
     "points": 1,
     "schema_version": 3,
     "solution": false,
     "task": false
    }
   },
   "outputs": [
    {
     "name": "stdout",
     "output_type": "stream",
     "text": [
      "Good job!! Also, the store with the record count of customers in one day was store 44, with a total of 8359 customers. Now that's a lot of customers!...\n"
     ]
    }
   ],
   "source": [
    "assert max_per_store.shape[0] == 54, \"There should be 54 stores in record_per_store's index.\"\n",
    "expected_hash_1 = '9cf876e274c8bbc32e1ad874ee32f4d7c10c9a3f14a77931ea1f27acedad9d09'\n",
    "expected_hash_2 = 'cfb05fff77b9b26d027b12c345d05bd1d453619318c52e827458b865860f6a85'\n",
    "assert hashlib.sha256(str(max_per_store.iloc[5, :].values[0]).encode()).hexdigest() == expected_hash_1\n",
    "assert hashlib.sha256(str(max_per_store.iloc[35, :].values[0]).encode()).hexdigest() == expected_hash_2\n",
    "\n",
    "print(f\"Good job!! Also, the store with the record count of customers in one day was store {max_per_store.idxmax()[0]}, with a total of {max_per_store.max()[0]} customers. Now that's a lot of customers!...\")"
   ]
  },
  {
   "cell_type": "markdown",
   "metadata": {
    "deletable": false,
    "editable": false,
    "nbgrader": {
     "grade": false,
     "grade_id": "cell-871790c5edde3d83",
     "locked": true,
     "schema_version": 3,
     "solution": false,
     "task": false
    }
   },
   "source": [
    "## Exercise 6: Time series modelling concepts"
   ]
  },
  {
   "cell_type": "markdown",
   "metadata": {
    "deletable": false,
    "editable": false,
    "nbgrader": {
     "grade": false,
     "grade_id": "cell-81819cb9c95d70a2",
     "locked": true,
     "schema_version": 3,
     "solution": false,
     "task": false
    }
   },
   "source": [
    "#### 6.1) Store 20\n",
    "\n",
    "You've been asked to make an analysis on store 20. You remember what you learned on time series  at that awesome Academy in 2020. Let's impress your boss!"
   ]
  },
  {
   "cell_type": "markdown",
   "metadata": {
    "deletable": false,
    "editable": false,
    "nbgrader": {
     "grade": false,
     "grade_id": "cell-d59925cd2a02be00",
     "locked": true,
     "schema_version": 3,
     "solution": false,
     "task": false
    }
   },
   "source": [
    "#### 6.1.1)  Preprocessing\n",
    "\n",
    "Let's select all data for store 20, and make sure that we have all consecutive days in our time series.\n",
    "\n",
    "- Using cross sections, select the data for store `20` from `chain`, and store it in **a new dataframe called `store_20`**, with an index corresponding to the dates and a column with the values in `customers`.\n",
    "\n",
    "- Make sure you have a continuous datetime index, like we did before. Fill the values for any  missing days with nulls."
   ]
  },
  {
   "cell_type": "code",
   "execution_count": 26,
   "metadata": {
    "deletable": false,
    "nbgrader": {
     "grade": false,
     "grade_id": "cell-ffe1ea4e86e33e31",
     "locked": false,
     "schema_version": 3,
     "solution": true,
     "task": false
    }
   },
   "outputs": [],
   "source": [
    "# store_20 = \n",
    "\n",
    "# YOUR CODE HERE\n",
    "store_20 = chain.xs(20,  # <---- msft\n",
    "        level='store_nbr',                # <---- which is at index level \"Stock\"\n",
    "        drop_level=True).asfreq('d', fill_value=None)\n"
   ]
  },
  {
   "cell_type": "code",
   "execution_count": 27,
   "metadata": {
    "deletable": false,
    "editable": false,
    "nbgrader": {
     "grade": true,
     "grade_id": "cell-0d57fe4b68eba34c",
     "locked": true,
     "points": 1,
     "schema_version": 3,
     "solution": false,
     "task": false
    }
   },
   "outputs": [],
   "source": [
    "assert store_20.shape != (909, 1), \"Did you forget to make the index continuous?\"\n",
    "assert store_20.shape == (915, 1), \"There should be 915 timepoints, including nulls, in store_20.\"\n",
    "expected_hash = 'db3ce696964d3f1a802772d5133b59c5a54b445241c5efae6a2e6cef5b6dd4e4'\n",
    "assert hashlib.sha256(str(int(store_20.loc['2015-02-16'][0])).encode()).hexdigest() == expected_hash, \"Did you change any values?\"\n",
    "assert store_20.isnull().sum()[0] == 6, \"The values for missing days should be filled as nulls.\""
   ]
  },
  {
   "cell_type": "markdown",
   "metadata": {
    "deletable": false,
    "editable": false,
    "nbgrader": {
     "grade": false,
     "grade_id": "cell-d1675ece9d7ebb68",
     "locked": true,
     "schema_version": 3,
     "solution": false,
     "task": false
    }
   },
   "source": [
    "#### 6.1.2) Seasonality on store 20\n",
    "\n",
    "Does the total number of customers that go to store 20 have a stronger weekly or bi-weekly seasonality?"
   ]
  },
  {
   "cell_type": "code",
   "execution_count": 30,
   "metadata": {
    "deletable": false,
    "nbgrader": {
     "grade": false,
     "grade_id": "cell-90ce7e7916ff582b",
     "locked": false,
     "schema_version": 1,
     "solution": true,
     "task": false
    }
   },
   "outputs": [
    {
     "ename": "ValueError",
     "evalue": "<Week: weekday=6> is a non-fixed frequency",
     "output_type": "error",
     "traceback": [
      "\u001b[0;31m---------------------------------------------------------------------------\u001b[0m",
      "\u001b[0;31mValueError\u001b[0m                                Traceback (most recent call last)",
      "\u001b[0;32m<ipython-input-30-06d0cb4771e5>\u001b[0m in \u001b[0;36m<module>\u001b[0;34m\u001b[0m\n\u001b[1;32m     19\u001b[0m \u001b[0;31m# YOUR CODE HERE\u001b[0m\u001b[0;34m\u001b[0m\u001b[0;34m\u001b[0m\u001b[0;34m\u001b[0m\u001b[0m\n\u001b[1;32m     20\u001b[0m \u001b[0mstore_20\u001b[0m\u001b[0;34m.\u001b[0m\u001b[0mcustomers\u001b[0m\u001b[0;34m.\u001b[0m\u001b[0mplot\u001b[0m\u001b[0;34m(\u001b[0m\u001b[0;34m)\u001b[0m\u001b[0;34m\u001b[0m\u001b[0;34m\u001b[0m\u001b[0m\n\u001b[0;32m---> 21\u001b[0;31m \u001b[0msales_per_day_week_before\u001b[0m \u001b[0;34m=\u001b[0m \u001b[0mstore_20\u001b[0m\u001b[0;34m.\u001b[0m\u001b[0mrolling\u001b[0m\u001b[0;34m(\u001b[0m\u001b[0;34m'W'\u001b[0m\u001b[0;34m,\u001b[0m \u001b[0mmin_periods\u001b[0m\u001b[0;34m=\u001b[0m\u001b[0;36m0\u001b[0m\u001b[0;34m)\u001b[0m\u001b[0;34m.\u001b[0m\u001b[0mcustomers\u001b[0m\u001b[0;34m.\u001b[0m\u001b[0msum\u001b[0m\u001b[0;34m(\u001b[0m\u001b[0;34m)\u001b[0m\u001b[0;34m\u001b[0m\u001b[0;34m\u001b[0m\u001b[0m\n\u001b[0m\u001b[1;32m     22\u001b[0m \u001b[0mprint\u001b[0m\u001b[0;34m(\u001b[0m\u001b[0msales_per_day_week_before\u001b[0m\u001b[0;34m.\u001b[0m\u001b[0mplot\u001b[0m\u001b[0;34m(\u001b[0m\u001b[0;34m)\u001b[0m\u001b[0;34m)\u001b[0m\u001b[0;34m\u001b[0m\u001b[0;34m\u001b[0m\u001b[0m\n\u001b[1;32m     23\u001b[0m \u001b[0msales_per_day_2_weeks_before\u001b[0m \u001b[0;34m=\u001b[0m \u001b[0mstore_20\u001b[0m\u001b[0;34m.\u001b[0m\u001b[0mrolling\u001b[0m\u001b[0;34m(\u001b[0m\u001b[0;34m'2W'\u001b[0m\u001b[0;34m,\u001b[0m \u001b[0mmin_periods\u001b[0m\u001b[0;34m=\u001b[0m\u001b[0;36m0\u001b[0m\u001b[0;34m)\u001b[0m\u001b[0;34m.\u001b[0m\u001b[0mcustomers\u001b[0m\u001b[0;34m.\u001b[0m\u001b[0msum\u001b[0m\u001b[0;34m(\u001b[0m\u001b[0;34m)\u001b[0m\u001b[0;34m\u001b[0m\u001b[0;34m\u001b[0m\u001b[0m\n",
      "\u001b[0;32m~/.virtualenvs/blu06/lib/python3.7/site-packages/pandas/core/generic.py\u001b[0m in \u001b[0;36mrolling\u001b[0;34m(self, window, min_periods, center, win_type, on, axis, closed)\u001b[0m\n\u001b[1;32m  10540\u001b[0m                 \u001b[0mon\u001b[0m\u001b[0;34m=\u001b[0m\u001b[0mon\u001b[0m\u001b[0;34m,\u001b[0m\u001b[0;34m\u001b[0m\u001b[0;34m\u001b[0m\u001b[0m\n\u001b[1;32m  10541\u001b[0m                 \u001b[0maxis\u001b[0m\u001b[0;34m=\u001b[0m\u001b[0maxis\u001b[0m\u001b[0;34m,\u001b[0m\u001b[0;34m\u001b[0m\u001b[0;34m\u001b[0m\u001b[0m\n\u001b[0;32m> 10542\u001b[0;31m                 \u001b[0mclosed\u001b[0m\u001b[0;34m=\u001b[0m\u001b[0mclosed\u001b[0m\u001b[0;34m,\u001b[0m\u001b[0;34m\u001b[0m\u001b[0;34m\u001b[0m\u001b[0m\n\u001b[0m\u001b[1;32m  10543\u001b[0m             )\n\u001b[1;32m  10544\u001b[0m \u001b[0;34m\u001b[0m\u001b[0m\n",
      "\u001b[0;32m~/.virtualenvs/blu06/lib/python3.7/site-packages/pandas/core/window/rolling.py\u001b[0m in \u001b[0;36m__init__\u001b[0;34m(self, obj, window, min_periods, center, win_type, axis, on, closed, **kwargs)\u001b[0m\n\u001b[1;32m    167\u001b[0m         \u001b[0mself\u001b[0m\u001b[0;34m.\u001b[0m\u001b[0mwin_freq\u001b[0m \u001b[0;34m=\u001b[0m \u001b[0;32mNone\u001b[0m\u001b[0;34m\u001b[0m\u001b[0;34m\u001b[0m\u001b[0m\n\u001b[1;32m    168\u001b[0m         \u001b[0mself\u001b[0m\u001b[0;34m.\u001b[0m\u001b[0maxis\u001b[0m \u001b[0;34m=\u001b[0m \u001b[0mobj\u001b[0m\u001b[0;34m.\u001b[0m\u001b[0m_get_axis_number\u001b[0m\u001b[0;34m(\u001b[0m\u001b[0maxis\u001b[0m\u001b[0;34m)\u001b[0m \u001b[0;32mif\u001b[0m \u001b[0maxis\u001b[0m \u001b[0;32mis\u001b[0m \u001b[0;32mnot\u001b[0m \u001b[0;32mNone\u001b[0m \u001b[0;32melse\u001b[0m \u001b[0;32mNone\u001b[0m\u001b[0;34m\u001b[0m\u001b[0;34m\u001b[0m\u001b[0m\n\u001b[0;32m--> 169\u001b[0;31m         \u001b[0mself\u001b[0m\u001b[0;34m.\u001b[0m\u001b[0mvalidate\u001b[0m\u001b[0;34m(\u001b[0m\u001b[0;34m)\u001b[0m\u001b[0;34m\u001b[0m\u001b[0;34m\u001b[0m\u001b[0m\n\u001b[0m\u001b[1;32m    170\u001b[0m \u001b[0;34m\u001b[0m\u001b[0m\n\u001b[1;32m    171\u001b[0m     \u001b[0;34m@\u001b[0m\u001b[0mproperty\u001b[0m\u001b[0;34m\u001b[0m\u001b[0;34m\u001b[0m\u001b[0m\n",
      "\u001b[0;32m~/.virtualenvs/blu06/lib/python3.7/site-packages/pandas/core/window/rolling.py\u001b[0m in \u001b[0;36mvalidate\u001b[0;34m(self)\u001b[0m\n\u001b[1;32m   1950\u001b[0m             \u001b[0;31m# this will raise ValueError on non-fixed freqs\u001b[0m\u001b[0;34m\u001b[0m\u001b[0;34m\u001b[0m\u001b[0;34m\u001b[0m\u001b[0m\n\u001b[1;32m   1951\u001b[0m             \u001b[0mself\u001b[0m\u001b[0;34m.\u001b[0m\u001b[0mwin_freq\u001b[0m \u001b[0;34m=\u001b[0m \u001b[0mself\u001b[0m\u001b[0;34m.\u001b[0m\u001b[0mwindow\u001b[0m\u001b[0;34m\u001b[0m\u001b[0;34m\u001b[0m\u001b[0m\n\u001b[0;32m-> 1952\u001b[0;31m             \u001b[0mself\u001b[0m\u001b[0;34m.\u001b[0m\u001b[0mwindow\u001b[0m \u001b[0;34m=\u001b[0m \u001b[0mfreq\u001b[0m\u001b[0;34m.\u001b[0m\u001b[0mnanos\u001b[0m\u001b[0;34m\u001b[0m\u001b[0;34m\u001b[0m\u001b[0m\n\u001b[0m\u001b[1;32m   1953\u001b[0m             \u001b[0mself\u001b[0m\u001b[0;34m.\u001b[0m\u001b[0mwin_type\u001b[0m \u001b[0;34m=\u001b[0m \u001b[0;34m\"freq\"\u001b[0m\u001b[0;34m\u001b[0m\u001b[0;34m\u001b[0m\u001b[0m\n\u001b[1;32m   1954\u001b[0m \u001b[0;34m\u001b[0m\u001b[0m\n",
      "\u001b[0;32mpandas/_libs/tslibs/offsets.pyx\u001b[0m in \u001b[0;36mpandas._libs.tslibs.offsets.BaseOffset.nanos.__get__\u001b[0;34m()\u001b[0m\n",
      "\u001b[0;31mValueError\u001b[0m: <Week: weekday=6> is a non-fixed frequency"
     ]
    },
    {
     "data": {
      "image/png": "[encoded data removed]",
      "text/plain": [
       "<Figure size 432x288 with 1 Axes>"
      ]
     },
     "metadata": {
      "needs_background": "light"
     },
     "output_type": "display_data"
    }
   ],
   "source": [
    "# We expect you to use correlation as a proxy for seasonality.\n",
    "\n",
    "# hint 1: the order suggested below has a reason. You can think about what would \n",
    "# happen if you did it in the opposite order.\n",
    "\n",
    "# hint2: we expect you to use correlation as a proxy for seasonality. \n",
    "# the grader expects you to use the pandas method for correlation\n",
    "\n",
    "# hint3: use a positive shift\n",
    "\n",
    "# the 2 variables below should be of type pandas.core.series.Series\n",
    "#sales_per_day_week_before = \n",
    "#sales_per_day_2_weeks_before = \n",
    "\n",
    "# the 2 variables below should be floats\n",
    "#weekly_corr = \n",
    "#biweekly_corr = \n",
    "\n",
    "# YOUR CODE HERE\n",
    "store_20.customers.plot()\n",
    "sales_per_day_week_before = store_20.rolling(7, min_periods=0).customers.sum()\n",
    "print(sales_per_day_week_before.plot())\n",
    "sales_per_day_2_weeks_before = store_20.rolling(14, min_periods=0).customers.sum()\n",
    "#print(sales_per_day_2_weeks_before.loc['2016'])\n",
    "#weekly_corr = \n",
    "#biweekly_corr = "
   ]
  },
  {
   "cell_type": "code",
   "execution_count": 29,
   "metadata": {
    "deletable": false,
    "editable": false,
    "nbgrader": {
     "grade": true,
     "grade_id": "cell-f44cea818496f41b",
     "locked": true,
     "points": 2,
     "schema_version": 3,
     "solution": false,
     "task": false
    }
   },
   "outputs": [
    {
     "ename": "AssertionError",
     "evalue": "Did you shift the data correctly?",
     "output_type": "error",
     "traceback": [
      "\u001b[0;31m---------------------------------------------------------------------------\u001b[0m",
      "\u001b[0;31mAssertionError\u001b[0m                            Traceback (most recent call last)",
      "\u001b[0;32m<ipython-input-29-5774f9df264a>\u001b[0m in \u001b[0;36m<module>\u001b[0;34m\u001b[0m\n\u001b[0;32m----> 1\u001b[0;31m \u001b[0;32massert\u001b[0m \u001b[0mint\u001b[0m\u001b[0;34m(\u001b[0m\u001b[0msales_per_day_week_before\u001b[0m\u001b[0;34m.\u001b[0m\u001b[0mloc\u001b[0m\u001b[0;34m[\u001b[0m\u001b[0;34m'2016-01-02'\u001b[0m\u001b[0;34m]\u001b[0m\u001b[0;34m)\u001b[0m \u001b[0;34m==\u001b[0m \u001b[0mint\u001b[0m\u001b[0;34m(\u001b[0m\u001b[0msales_per_day_2_weeks_before\u001b[0m\u001b[0;34m.\u001b[0m\u001b[0mloc\u001b[0m\u001b[0;34m[\u001b[0m\u001b[0;34m'2016-01-09'\u001b[0m\u001b[0;34m]\u001b[0m\u001b[0;34m)\u001b[0m\u001b[0;34m,\u001b[0m \u001b[0;34m\"Did you shift the data correctly?\"\u001b[0m\u001b[0;34m\u001b[0m\u001b[0;34m\u001b[0m\u001b[0m\n\u001b[0m\u001b[1;32m      2\u001b[0m \u001b[0mnp\u001b[0m\u001b[0;34m.\u001b[0m\u001b[0mtesting\u001b[0m\u001b[0;34m.\u001b[0m\u001b[0massert_almost_equal\u001b[0m\u001b[0;34m(\u001b[0m\u001b[0mweekly_corr\u001b[0m\u001b[0;34m,\u001b[0m \u001b[0;36m0.70\u001b[0m\u001b[0;34m,\u001b[0m \u001b[0mdecimal\u001b[0m\u001b[0;34m=\u001b[0m\u001b[0;36m2\u001b[0m\u001b[0;34m,\u001b[0m \u001b[0merr_msg\u001b[0m\u001b[0;34m=\u001b[0m\u001b[0;34m\"Are you using the pandas method for correlation?\"\u001b[0m\u001b[0;34m)\u001b[0m\u001b[0;34m\u001b[0m\u001b[0;34m\u001b[0m\u001b[0m\n\u001b[1;32m      3\u001b[0m \u001b[0mnp\u001b[0m\u001b[0;34m.\u001b[0m\u001b[0mtesting\u001b[0m\u001b[0;34m.\u001b[0m\u001b[0massert_almost_equal\u001b[0m\u001b[0;34m(\u001b[0m\u001b[0mbiweekly_corr\u001b[0m\u001b[0;34m,\u001b[0m \u001b[0;36m0.62\u001b[0m\u001b[0;34m,\u001b[0m \u001b[0mdecimal\u001b[0m\u001b[0;34m=\u001b[0m\u001b[0;36m2\u001b[0m\u001b[0;34m,\u001b[0m \u001b[0merr_msg\u001b[0m\u001b[0;34m=\u001b[0m\u001b[0;34m\"Are you using the pandas method for correlation?\"\u001b[0m\u001b[0;34m)\u001b[0m\u001b[0;34m\u001b[0m\u001b[0;34m\u001b[0m\u001b[0m\n",
      "\u001b[0;31mAssertionError\u001b[0m: Did you shift the data correctly?"
     ]
    }
   ],
   "source": [
    "assert int(sales_per_day_week_before.loc['2016-01-02']) == int(sales_per_day_2_weeks_before.loc['2016-01-09']), \"Did you shift the data correctly?\"\n",
    "np.testing.assert_almost_equal(weekly_corr, 0.70, decimal=2, err_msg=\"Are you using the pandas method for correlation?\")\n",
    "np.testing.assert_almost_equal(biweekly_corr, 0.62, decimal=2, err_msg=\"Are you using the pandas method for correlation?\")"
   ]
  },
  {
   "cell_type": "markdown",
   "metadata": {
    "deletable": false,
    "editable": false,
    "nbgrader": {
     "grade": false,
     "grade_id": "cell-62431725c5e7519a",
     "locked": true,
     "schema_version": 3,
     "solution": false,
     "task": false
    }
   },
   "source": [
    "Based on your findings, you conclude the weekly seasonality is stronger than the bi-weekly seasonality on store 20."
   ]
  },
  {
   "cell_type": "markdown",
   "metadata": {
    "deletable": false,
    "editable": false,
    "nbgrader": {
     "grade": false,
     "grade_id": "cell-b3eb9420d4d4966f",
     "locked": true,
     "schema_version": 3,
     "solution": false,
     "task": false
    }
   },
   "source": [
    "#### 6.3) What is the store with the strongest positive trend?\n",
    "\n",
    "You were very fast and impressed your boss. The problem is: now your boss wants you to dive deeper and analyze all stores data. He wants to know **which store has the strongest positive trend.**\n",
    "\n",
    "Remember that you have all stores data inside the variable `chain`.\n",
    "\n",
    "For each store time series you create, don't forget to **fill the missing dates using a `KNNImputer`**.\n",
    "\n",
    "Not going home earlier after all, are we?"
   ]
  },
  {
   "cell_type": "code",
   "execution_count": null,
   "metadata": {
    "deletable": false,
    "nbgrader": {
     "grade": false,
     "grade_id": "cell-8c43928a919c7736",
     "locked": false,
     "schema_version": 3,
     "solution": true,
     "task": false
    }
   },
   "outputs": [],
   "source": [
    "# This one is a bit harder and there are several ways to solve it. For this reason the\n",
    "# body of the solution is not presented as in the previous questions. \n",
    "\n",
    "# A few clues:\n",
    "# most solutions are going to require a for loop to run through the various stores\n",
    "# assume linear trends, where the trend is characterized by the slope of the linear regression\n",
    "# this is just an EDA, we're not building a predictive model, so you don't need to split your dataset\n",
    "# remember, the knn should be used per store \n",
    "\n",
    "# max_trend_store = \n",
    "\n",
    "\n",
    "# YOUR CODE HERE\n",
    "raise NotImplementedError()"
   ]
  },
  {
   "cell_type": "code",
   "execution_count": null,
   "metadata": {
    "deletable": false,
    "editable": false,
    "nbgrader": {
     "grade": true,
     "grade_id": "cell-26706f4c9eaf8c28",
     "locked": true,
     "points": 3,
     "schema_version": 3,
     "solution": false,
     "task": false
    }
   },
   "outputs": [],
   "source": [
    "expected_hash = '0e17daca5f3e175f448bacace3bc0da47d0655a74c8dd0dc497a3afbdad95f1f'\n",
    "assert hashlib.sha256(str(max_trend_store).encode()).hexdigest() == expected_hash\n",
    "\n",
    "print(\"Correct! Your boss is ecstatic about your work and decides to give you a 200% raise!...\\nWho cares about going home earlier after all?\")"
   ]
  },
  {
   "cell_type": "markdown",
   "metadata": {
    "deletable": false,
    "editable": false,
    "nbgrader": {
     "grade": false,
     "grade_id": "cell-e3e90db18afff67a",
     "locked": true,
     "schema_version": 3,
     "solution": false,
     "task": false
    }
   },
   "source": [
    "---"
   ]
  }
 ],
 "metadata": {
  "kernelspec": {
   "display_name": "Python 3",
   "language": "python",
   "name": "python3"
  },
  "language_info": {
   "codemirror_mode": {
    "name": "ipython",
    "version": 3
   },
   "file_extension": ".py",
   "mimetype": "text/x-python",
   "name": "python",
   "nbconvert_exporter": "python",
   "pygments_lexer": "ipython3",
   "version": "3.7.3"
  }
 },
 "nbformat": 4,
 "nbformat_minor": 2
}
