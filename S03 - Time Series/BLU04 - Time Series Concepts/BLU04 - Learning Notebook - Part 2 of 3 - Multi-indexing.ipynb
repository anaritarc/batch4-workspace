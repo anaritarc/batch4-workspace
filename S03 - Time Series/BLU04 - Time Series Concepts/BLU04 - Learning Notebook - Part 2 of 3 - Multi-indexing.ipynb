{
 "cells": [
  {
   "cell_type": "markdown",
   "metadata": {},
   "source": [
    "# BLU04 - Learning Notebook - Part 2 of 3 - Multi-indexing"
   ]
  },
  {
   "cell_type": "markdown",
   "metadata": {},
   "source": [
    "## Basic multi-index concept"
   ]
  },
  {
   "cell_type": "markdown",
   "metadata": {},
   "source": [
    "Up to here, we've been working under the assumption that our data is two dimensional. That's why it fits so well in a tabular form, and would do quite well in a simple spreadsheet.\n",
    "\n",
    "Let's change that! "
   ]
  },
  {
   "cell_type": "code",
   "execution_count": 1,
   "metadata": {},
   "outputs": [],
   "source": [
    "import pandas as pd \n",
    "from datetime import datetime\n",
    "%matplotlib inline \n",
    "from matplotlib import pyplot as plt \n",
    "plt.rcParams['figure.figsize'] = [16, 4]"
   ]
  },
  {
   "cell_type": "markdown",
   "metadata": {},
   "source": [
    "Let's take a toy dataset, with some supermarket foods:"
   ]
  },
  {
   "cell_type": "code",
   "execution_count": 2,
   "metadata": {},
   "outputs": [
    {
     "data": {
      "text/html": [
       "<div>\n",
       "<style scoped>\n",
       "    .dataframe tbody tr th:only-of-type {\n",
       "        vertical-align: middle;\n",
       "    }\n",
       "\n",
       "    .dataframe tbody tr th {\n",
       "        vertical-align: top;\n",
       "    }\n",
       "\n",
       "    .dataframe thead th {\n",
       "        text-align: right;\n",
       "    }\n",
       "</style>\n",
       "<table border=\"1\" class=\"dataframe\">\n",
       "  <thead>\n",
       "    <tr style=\"text-align: right;\">\n",
       "      <th></th>\n",
       "      <th>Store</th>\n",
       "      <th>Product</th>\n",
       "      <th>Price</th>\n",
       "      <th>Quality</th>\n",
       "    </tr>\n",
       "  </thead>\n",
       "  <tbody>\n",
       "    <tr>\n",
       "      <th>0</th>\n",
       "      <td>Incontinente</td>\n",
       "      <td>Apples</td>\n",
       "      <td>3.0</td>\n",
       "      <td>2.0</td>\n",
       "    </tr>\n",
       "    <tr>\n",
       "      <th>1</th>\n",
       "      <td>Incontinente</td>\n",
       "      <td>Bananas</td>\n",
       "      <td>2.0</td>\n",
       "      <td>4.0</td>\n",
       "    </tr>\n",
       "    <tr>\n",
       "      <th>2</th>\n",
       "      <td>Incontinente</td>\n",
       "      <td>Rice</td>\n",
       "      <td>1.0</td>\n",
       "      <td>3.0</td>\n",
       "    </tr>\n",
       "    <tr>\n",
       "      <th>3</th>\n",
       "      <td>Incontinente</td>\n",
       "      <td>Olives</td>\n",
       "      <td>4.0</td>\n",
       "      <td>2.0</td>\n",
       "    </tr>\n",
       "    <tr>\n",
       "      <th>4</th>\n",
       "      <td>Dingo Poce</td>\n",
       "      <td>Apples</td>\n",
       "      <td>2.0</td>\n",
       "      <td>2.0</td>\n",
       "    </tr>\n",
       "  </tbody>\n",
       "</table>\n",
       "</div>"
      ],
      "text/plain": [
       "          Store  Product  Price  Quality\n",
       "0  Incontinente   Apples    3.0      2.0\n",
       "1  Incontinente  Bananas    2.0      4.0\n",
       "2  Incontinente     Rice    1.0      3.0\n",
       "3  Incontinente   Olives    4.0      2.0\n",
       "4    Dingo Poce   Apples    2.0      2.0"
      ]
     },
     "execution_count": 2,
     "metadata": {},
     "output_type": "execute_result"
    }
   ],
   "source": [
    "food = pd.read_csv('data/food.csv')\n",
    "food.head()"
   ]
  },
  {
   "cell_type": "markdown",
   "metadata": {},
   "source": [
    "Let's think about indexes. So far, we had, for each row, some unique ID. But in the above case, we have several supermarkets and several products. \n",
    "\n",
    "So if, for instance, we had to merge this with another dataset, we would want to use \"supermarket/food\" pairs, so that we have **unique indexes**. \n",
    "\n",
    "In this case, our prices and quality depend on the **Store** AND on the **Product**. So our index needs to contain both. \n",
    "\n",
    "Having unique indexes is super useful. To the point that you might be tempted to do this: "
   ]
  },
  {
   "cell_type": "code",
   "execution_count": 3,
   "metadata": {},
   "outputs": [],
   "source": [
    "possible_index = food['Store'] + '_' + food['Product']"
   ]
  },
  {
   "cell_type": "code",
   "execution_count": 4,
   "metadata": {},
   "outputs": [
    {
     "data": {
      "text/html": [
       "<div>\n",
       "<style scoped>\n",
       "    .dataframe tbody tr th:only-of-type {\n",
       "        vertical-align: middle;\n",
       "    }\n",
       "\n",
       "    .dataframe tbody tr th {\n",
       "        vertical-align: top;\n",
       "    }\n",
       "\n",
       "    .dataframe thead th {\n",
       "        text-align: right;\n",
       "    }\n",
       "</style>\n",
       "<table border=\"1\" class=\"dataframe\">\n",
       "  <thead>\n",
       "    <tr style=\"text-align: right;\">\n",
       "      <th></th>\n",
       "      <th>Store</th>\n",
       "      <th>Product</th>\n",
       "      <th>Price</th>\n",
       "      <th>Quality</th>\n",
       "    </tr>\n",
       "  </thead>\n",
       "  <tbody>\n",
       "    <tr>\n",
       "      <th>Incontinente_Apples</th>\n",
       "      <td>Incontinente</td>\n",
       "      <td>Apples</td>\n",
       "      <td>3.0</td>\n",
       "      <td>2.0</td>\n",
       "    </tr>\n",
       "    <tr>\n",
       "      <th>Incontinente_Bananas</th>\n",
       "      <td>Incontinente</td>\n",
       "      <td>Bananas</td>\n",
       "      <td>2.0</td>\n",
       "      <td>4.0</td>\n",
       "    </tr>\n",
       "    <tr>\n",
       "      <th>Incontinente_Rice</th>\n",
       "      <td>Incontinente</td>\n",
       "      <td>Rice</td>\n",
       "      <td>1.0</td>\n",
       "      <td>3.0</td>\n",
       "    </tr>\n",
       "    <tr>\n",
       "      <th>Incontinente_Olives</th>\n",
       "      <td>Incontinente</td>\n",
       "      <td>Olives</td>\n",
       "      <td>4.0</td>\n",
       "      <td>2.0</td>\n",
       "    </tr>\n",
       "    <tr>\n",
       "      <th>Dingo Poce_Apples</th>\n",
       "      <td>Dingo Poce</td>\n",
       "      <td>Apples</td>\n",
       "      <td>2.0</td>\n",
       "      <td>2.0</td>\n",
       "    </tr>\n",
       "  </tbody>\n",
       "</table>\n",
       "</div>"
      ],
      "text/plain": [
       "                             Store  Product  Price  Quality\n",
       "Incontinente_Apples   Incontinente   Apples    3.0      2.0\n",
       "Incontinente_Bananas  Incontinente  Bananas    2.0      4.0\n",
       "Incontinente_Rice     Incontinente     Rice    1.0      3.0\n",
       "Incontinente_Olives   Incontinente   Olives    4.0      2.0\n",
       "Dingo Poce_Apples       Dingo Poce   Apples    2.0      2.0"
      ]
     },
     "execution_count": 4,
     "metadata": {},
     "output_type": "execute_result"
    }
   ],
   "source": [
    "food.set_index(possible_index).head()"
   ]
  },
  {
   "cell_type": "markdown",
   "metadata": {},
   "source": [
    "I mean... it's not great, but we can now select it, or merge it with other data. \n",
    "\n",
    "But Pandas can help us do this much, much better: "
   ]
  },
  {
   "cell_type": "code",
   "execution_count": 5,
   "metadata": {},
   "outputs": [
    {
     "data": {
      "text/html": [
       "<div>\n",
       "<style scoped>\n",
       "    .dataframe tbody tr th:only-of-type {\n",
       "        vertical-align: middle;\n",
       "    }\n",
       "\n",
       "    .dataframe tbody tr th {\n",
       "        vertical-align: top;\n",
       "    }\n",
       "\n",
       "    .dataframe thead th {\n",
       "        text-align: right;\n",
       "    }\n",
       "</style>\n",
       "<table border=\"1\" class=\"dataframe\">\n",
       "  <thead>\n",
       "    <tr style=\"text-align: right;\">\n",
       "      <th></th>\n",
       "      <th></th>\n",
       "      <th>Price</th>\n",
       "      <th>Quality</th>\n",
       "    </tr>\n",
       "    <tr>\n",
       "      <th>Store</th>\n",
       "      <th>Product</th>\n",
       "      <th></th>\n",
       "      <th></th>\n",
       "    </tr>\n",
       "  </thead>\n",
       "  <tbody>\n",
       "    <tr>\n",
       "      <th rowspan=\"4\" valign=\"top\">Incontinente</th>\n",
       "      <th>Apples</th>\n",
       "      <td>3.0</td>\n",
       "      <td>2.0</td>\n",
       "    </tr>\n",
       "    <tr>\n",
       "      <th>Bananas</th>\n",
       "      <td>2.0</td>\n",
       "      <td>4.0</td>\n",
       "    </tr>\n",
       "    <tr>\n",
       "      <th>Rice</th>\n",
       "      <td>1.0</td>\n",
       "      <td>3.0</td>\n",
       "    </tr>\n",
       "    <tr>\n",
       "      <th>Olives</th>\n",
       "      <td>4.0</td>\n",
       "      <td>2.0</td>\n",
       "    </tr>\n",
       "    <tr>\n",
       "      <th rowspan=\"4\" valign=\"top\">Dingo Poce</th>\n",
       "      <th>Apples</th>\n",
       "      <td>2.0</td>\n",
       "      <td>2.0</td>\n",
       "    </tr>\n",
       "    <tr>\n",
       "      <th>Bananas</th>\n",
       "      <td>3.0</td>\n",
       "      <td>3.0</td>\n",
       "    </tr>\n",
       "    <tr>\n",
       "      <th>Rice</th>\n",
       "      <td>1.0</td>\n",
       "      <td>4.0</td>\n",
       "    </tr>\n",
       "    <tr>\n",
       "      <th>Dog food</th>\n",
       "      <td>7.0</td>\n",
       "      <td>1.0</td>\n",
       "    </tr>\n",
       "    <tr>\n",
       "      <th rowspan=\"3\" valign=\"top\">Dumbo</th>\n",
       "      <th>Rice</th>\n",
       "      <td>5.0</td>\n",
       "      <td>4.0</td>\n",
       "    </tr>\n",
       "    <tr>\n",
       "      <th>Dog food</th>\n",
       "      <td>1.0</td>\n",
       "      <td>2.0</td>\n",
       "    </tr>\n",
       "    <tr>\n",
       "      <th>Apples</th>\n",
       "      <td>2.0</td>\n",
       "      <td>3.0</td>\n",
       "    </tr>\n",
       "  </tbody>\n",
       "</table>\n",
       "</div>"
      ],
      "text/plain": [
       "                       Price  Quality\n",
       "Store        Product                 \n",
       "Incontinente Apples      3.0      2.0\n",
       "             Bananas     2.0      4.0\n",
       "             Rice        1.0      3.0\n",
       "             Olives      4.0      2.0\n",
       "Dingo Poce   Apples      2.0      2.0\n",
       "             Bananas     3.0      3.0\n",
       "             Rice        1.0      4.0\n",
       "             Dog food    7.0      1.0\n",
       "Dumbo        Rice        5.0      4.0\n",
       "             Dog food    1.0      2.0\n",
       "             Apples      2.0      3.0"
      ]
     },
     "execution_count": 5,
     "metadata": {},
     "output_type": "execute_result"
    }
   ],
   "source": [
    "food = food.set_index(['Store', 'Product'])\n",
    "\n",
    "food"
   ]
  },
  {
   "cell_type": "markdown",
   "metadata": {},
   "source": [
    "Multi-indexes are crazy useful, especially when the datasets get bigger. They allow us to go into higher dimentions than two dimentions, and keep the intuitive \"tabular\" structure. \n",
    "\n"
   ]
  },
  {
   "cell_type": "markdown",
   "metadata": {},
   "source": [
    "Let's learn how to select from this! "
   ]
  },
  {
   "cell_type": "markdown",
   "metadata": {},
   "source": [
    "## Selecting in multi-indexes"
   ]
  },
  {
   "cell_type": "markdown",
   "metadata": {},
   "source": [
    "### loc"
   ]
  },
  {
   "cell_type": "markdown",
   "metadata": {},
   "source": [
    "Remember loc? Loc is awesome :) \n",
    "\n",
    "Remember, loc allows you to select by doing `data.loc[index, columns]`\n",
    "\n",
    "Now that we have multiple index levels, we will have to use it a bit more explicitly. "
   ]
  },
  {
   "cell_type": "code",
   "execution_count": 6,
   "metadata": {},
   "outputs": [
    {
     "data": {
      "text/html": [
       "<div>\n",
       "<style scoped>\n",
       "    .dataframe tbody tr th:only-of-type {\n",
       "        vertical-align: middle;\n",
       "    }\n",
       "\n",
       "    .dataframe tbody tr th {\n",
       "        vertical-align: top;\n",
       "    }\n",
       "\n",
       "    .dataframe thead th {\n",
       "        text-align: right;\n",
       "    }\n",
       "</style>\n",
       "<table border=\"1\" class=\"dataframe\">\n",
       "  <thead>\n",
       "    <tr style=\"text-align: right;\">\n",
       "      <th></th>\n",
       "      <th></th>\n",
       "      <th>Price</th>\n",
       "      <th>Quality</th>\n",
       "    </tr>\n",
       "    <tr>\n",
       "      <th>Store</th>\n",
       "      <th>Product</th>\n",
       "      <th></th>\n",
       "      <th></th>\n",
       "    </tr>\n",
       "  </thead>\n",
       "  <tbody>\n",
       "    <tr>\n",
       "      <th rowspan=\"4\" valign=\"top\">Incontinente</th>\n",
       "      <th>Apples</th>\n",
       "      <td>3.0</td>\n",
       "      <td>2.0</td>\n",
       "    </tr>\n",
       "    <tr>\n",
       "      <th>Bananas</th>\n",
       "      <td>2.0</td>\n",
       "      <td>4.0</td>\n",
       "    </tr>\n",
       "    <tr>\n",
       "      <th>Rice</th>\n",
       "      <td>1.0</td>\n",
       "      <td>3.0</td>\n",
       "    </tr>\n",
       "    <tr>\n",
       "      <th>Olives</th>\n",
       "      <td>4.0</td>\n",
       "      <td>2.0</td>\n",
       "    </tr>\n",
       "    <tr>\n",
       "      <th rowspan=\"4\" valign=\"top\">Dingo Poce</th>\n",
       "      <th>Apples</th>\n",
       "      <td>2.0</td>\n",
       "      <td>2.0</td>\n",
       "    </tr>\n",
       "    <tr>\n",
       "      <th>Bananas</th>\n",
       "      <td>3.0</td>\n",
       "      <td>3.0</td>\n",
       "    </tr>\n",
       "    <tr>\n",
       "      <th>Rice</th>\n",
       "      <td>1.0</td>\n",
       "      <td>4.0</td>\n",
       "    </tr>\n",
       "    <tr>\n",
       "      <th>Dog food</th>\n",
       "      <td>7.0</td>\n",
       "      <td>1.0</td>\n",
       "    </tr>\n",
       "    <tr>\n",
       "      <th rowspan=\"3\" valign=\"top\">Dumbo</th>\n",
       "      <th>Rice</th>\n",
       "      <td>5.0</td>\n",
       "      <td>4.0</td>\n",
       "    </tr>\n",
       "    <tr>\n",
       "      <th>Dog food</th>\n",
       "      <td>1.0</td>\n",
       "      <td>2.0</td>\n",
       "    </tr>\n",
       "    <tr>\n",
       "      <th>Apples</th>\n",
       "      <td>2.0</td>\n",
       "      <td>3.0</td>\n",
       "    </tr>\n",
       "  </tbody>\n",
       "</table>\n",
       "</div>"
      ],
      "text/plain": [
       "                       Price  Quality\n",
       "Store        Product                 \n",
       "Incontinente Apples      3.0      2.0\n",
       "             Bananas     2.0      4.0\n",
       "             Rice        1.0      3.0\n",
       "             Olives      4.0      2.0\n",
       "Dingo Poce   Apples      2.0      2.0\n",
       "             Bananas     3.0      3.0\n",
       "             Rice        1.0      4.0\n",
       "             Dog food    7.0      1.0\n",
       "Dumbo        Rice        5.0      4.0\n",
       "             Dog food    1.0      2.0\n",
       "             Apples      2.0      3.0"
      ]
     },
     "execution_count": 6,
     "metadata": {},
     "output_type": "execute_result"
    }
   ],
   "source": [
    "food"
   ]
  },
  {
   "cell_type": "markdown",
   "metadata": {},
   "source": [
    "Let's say we wanted to get the price of Apples, at Dingo Poce. If this were just a 1 level index, we would just say `data.loc[row, column]`. \n",
    "\n",
    "However, we have two levels of index. Maybe we must pass the index part as a tuple?\n",
    "\n",
    "In other words, can we get our answer with `data.loc[(first_index_level, _second_index_level), column]`?"
   ]
  },
  {
   "cell_type": "code",
   "execution_count": 7,
   "metadata": {},
   "outputs": [
    {
     "data": {
      "text/plain": [
       "2.0"
      ]
     },
     "execution_count": 7,
     "metadata": {},
     "output_type": "execute_result"
    }
   ],
   "source": [
    "food.loc[('Dingo Poce', 'Apples'), 'Price']\n",
    "\n",
    "# note: this is not the best way to do this, if you are using this for reference, read down to idx"
   ]
  },
  {
   "cell_type": "markdown",
   "metadata": {},
   "source": [
    "We can! _(spoiler alert: we're going to get in trouble with this)_"
   ]
  },
  {
   "cell_type": "markdown",
   "metadata": {},
   "source": [
    " Let's get all of the prices at Dingo Poce"
   ]
  },
  {
   "cell_type": "code",
   "execution_count": 8,
   "metadata": {},
   "outputs": [
    {
     "name": "stderr",
     "output_type": "stream",
     "text": [
      "/Users/felgueira/Library/Python/3.7/lib/python/site-packages/pandas/core/indexing.py:1762: PerformanceWarning: indexing past lexsort depth may impact performance.\n",
      "  return self._getitem_tuple(key)\n"
     ]
    },
    {
     "data": {
      "text/plain": [
       "Product\n",
       "Apples      2.0\n",
       "Bananas     3.0\n",
       "Rice        1.0\n",
       "Dog food    7.0\n",
       "Name: Price, dtype: float64"
      ]
     },
     "execution_count": 8,
     "metadata": {},
     "output_type": "execute_result"
    }
   ],
   "source": [
    "# note that the first part is a tuple of (Dingo Poce, <nothing>)\n",
    "food.loc[('Dingo Poce',), 'Price']\n",
    "\n",
    "# this cell should throw a performance warning. It only does it the first time you run it though."
   ]
  },
  {
   "cell_type": "markdown",
   "metadata": {},
   "source": [
    "What's this? `PerformanceWarning: indexing past lexsort depth may impact performance.`? That looks serious!\n",
    "\n",
    "If you want to get into the details, check out this chapter in [the documentation](http://pandas.pydata.org/pandas-docs/stable/advanced.html#the-need-for-sortedness-with-multiindex), but if you just want to know what to do remember this: \n",
    "\n",
    "> **_Always, for the sake of your own mental sanity, sort your indexes in a multi-index._**\n",
    "\n",
    "This will not only increase performance, but also avoid some bugs from hell. So, let's sort our index!"
   ]
  },
  {
   "cell_type": "code",
   "execution_count": 9,
   "metadata": {},
   "outputs": [],
   "source": [
    "food = food.sort_index()"
   ]
  },
  {
   "cell_type": "markdown",
   "metadata": {},
   "source": [
    "Now, maybe we want the apples, everywhere? "
   ]
  },
  {
   "cell_type": "code",
   "execution_count": 10,
   "metadata": {},
   "outputs": [],
   "source": [
    "# will raise SyntaxError\n",
    "# food.loc[(,'Apples'), 'Price']"
   ]
  },
  {
   "cell_type": "markdown",
   "metadata": {},
   "source": [
    "Ok, right. That makes no sense. Maybe if we use `:`? "
   ]
  },
  {
   "cell_type": "code",
   "execution_count": 11,
   "metadata": {},
   "outputs": [],
   "source": [
    "# will raise SyntaxError\n",
    "# food.loc[(:,'Apples'), 'Price']"
   ]
  },
  {
   "cell_type": "markdown",
   "metadata": {},
   "source": [
    "Hmm... looks like we got as far as we could with our hackiness. Formally, what we are asking for is called [index slices](https://pandas.pydata.org/pandas-docs/stable/generated/pandas.IndexSlice.html). I'll teach you some [syntactic sugar](https://en.wikipedia.org/wiki/Syntactic_sugar) for this in a second, but let's go old school first, with actual slices. \n",
    "\n",
    "Remember, our question is **_\"What is the price of apples, at all stores?\"_**"
   ]
  },
  {
   "cell_type": "code",
   "execution_count": 12,
   "metadata": {},
   "outputs": [
    {
     "data": {
      "text/plain": [
       "Store         Product\n",
       "Dingo Poce    Apples     2.0\n",
       "Dumbo         Apples     2.0\n",
       "Incontinente  Apples     3.0\n",
       "Name: Price, dtype: float64"
      ]
     },
     "execution_count": 12,
     "metadata": {},
     "output_type": "execute_result"
    }
   ],
   "source": [
    "food.loc[(slice(None), slice('Apples', 'Apples')), 'Price']"
   ]
  },
  {
   "cell_type": "markdown",
   "metadata": {},
   "source": [
    "[Python slices](https://www.programiz.com/python-programming/methods/built-in/slice) have starts and ends, so you can use them to select, as long as things are sorted: "
   ]
  },
  {
   "cell_type": "code",
   "execution_count": 13,
   "metadata": {},
   "outputs": [
    {
     "data": {
      "text/plain": [
       "Store         Product\n",
       "Dingo Poce    Apples     2.0\n",
       "              Bananas    3.0\n",
       "Dumbo         Apples     2.0\n",
       "Incontinente  Apples     3.0\n",
       "              Bananas    2.0\n",
       "Name: Price, dtype: float64"
      ]
     },
     "execution_count": 13,
     "metadata": {},
     "output_type": "execute_result"
    }
   ],
   "source": [
    "food.loc[(slice(None), slice('Apples', 'Bananas')), 'Price']"
   ]
  },
  {
   "cell_type": "markdown",
   "metadata": {},
   "source": [
    "Well, that worked! We had to write the word \"slice\" a couple of times, but it got our answer. Also, what the hell is up with that `('Apples', 'Apples)` thing? \n",
    "\n",
    "Well, as they are regular [Python slices](https://www.programiz.com/python-programming/methods/built-in/slice), we need to use the syntax `slice(start, stop, step)`. Which isn't very Pandas-like."
   ]
  },
  {
   "cell_type": "markdown",
   "metadata": {},
   "source": [
    "So now, as promised... "
   ]
  },
  {
   "cell_type": "markdown",
   "metadata": {},
   "source": [
    "![](https://encrypted-tbn0.gstatic.com/images?q=tbn:ANd9GcSDH-Vflk72pHd443Eatl9mvEfpSt_Ca32UfjDovk-QhwDbo__tew)"
   ]
  },
  {
   "cell_type": "markdown",
   "metadata": {},
   "source": [
    "**Time for some syntactic sugar!** Technically, the following is just convention, but it will make your life easier, and you will see lots of code that uses this, so it's a good idea to get familiar with it. "
   ]
  },
  {
   "cell_type": "markdown",
   "metadata": {},
   "source": [
    "We will use `pd.IndexSlice`, which in pandas is generally called `idx` for a convenience. It replaces the need to say \"slice\" all over the place. \n",
    "\n",
    "Index slices do exactly what the name suggests: they take slices from the index. Other than that, we use the same approach as with the \"normal\" `loc[slice(), slice(), something]`. \n",
    "\n",
    "So in this case, we have two index levels, so we will have: \n",
    "    `data.loc[idx[index_level_0, index_level_1], columns]`"
   ]
  },
  {
   "cell_type": "code",
   "execution_count": 14,
   "metadata": {},
   "outputs": [],
   "source": [
    "idx = pd.IndexSlice  # <---- convention, get ready to copy paste this a lot "
   ]
  },
  {
   "cell_type": "code",
   "execution_count": 15,
   "metadata": {},
   "outputs": [
    {
     "data": {
      "text/plain": [
       "Store         Product\n",
       "Dingo Poce    Apples     2.0\n",
       "Dumbo         Apples     2.0\n",
       "Incontinente  Apples     3.0\n",
       "Name: Price, dtype: float64"
      ]
     },
     "execution_count": 15,
     "metadata": {},
     "output_type": "execute_result"
    }
   ],
   "source": [
    "food.loc[idx[: , 'Apples'], 'Price']"
   ]
  },
  {
   "cell_type": "markdown",
   "metadata": {},
   "source": [
    "Quick summary before we move on. The following three are equivalent: "
   ]
  },
  {
   "cell_type": "code",
   "execution_count": 16,
   "metadata": {},
   "outputs": [],
   "source": [
    "# get me, at any supermarket, the apples, and I'm only interested in the price \n",
    "\n",
    "# The way that breaks Python, and hearts \n",
    "# food.loc[(:,'Apples'), 'Price']  <--- syntax error :( \n",
    "\n",
    "# The slicy way \n",
    "food.loc[(slice(None), slice('Apples', 'Apples')), 'Price'];\n",
    "\n",
    "# The \"pandas insider\" way \n",
    "food.loc[idx[: , 'Apples'], 'Price'];"
   ]
  },
  {
   "cell_type": "markdown",
   "metadata": {},
   "source": [
    "Great! Now that I've [fully converted you](https://i.imgflip.com/29imng.jpg) to Pandas convention, I will use [advanced indexing with idx](https://pandas.pydata.org/pandas-docs/stable/advanced.html#using-slicers) through the rest of the BLUs. \n",
    "\n",
    "Let's answer another question: _What are all the prices at Dingo Poce?_"
   ]
  },
  {
   "cell_type": "code",
   "execution_count": 17,
   "metadata": {},
   "outputs": [
    {
     "data": {
      "text/html": [
       "<div>\n",
       "<style scoped>\n",
       "    .dataframe tbody tr th:only-of-type {\n",
       "        vertical-align: middle;\n",
       "    }\n",
       "\n",
       "    .dataframe tbody tr th {\n",
       "        vertical-align: top;\n",
       "    }\n",
       "\n",
       "    .dataframe thead th {\n",
       "        text-align: right;\n",
       "    }\n",
       "</style>\n",
       "<table border=\"1\" class=\"dataframe\">\n",
       "  <thead>\n",
       "    <tr style=\"text-align: right;\">\n",
       "      <th></th>\n",
       "      <th></th>\n",
       "      <th>Price</th>\n",
       "      <th>Quality</th>\n",
       "    </tr>\n",
       "    <tr>\n",
       "      <th>Store</th>\n",
       "      <th>Product</th>\n",
       "      <th></th>\n",
       "      <th></th>\n",
       "    </tr>\n",
       "  </thead>\n",
       "  <tbody>\n",
       "    <tr>\n",
       "      <th rowspan=\"4\" valign=\"top\">Dingo Poce</th>\n",
       "      <th>Apples</th>\n",
       "      <td>2.0</td>\n",
       "      <td>2.0</td>\n",
       "    </tr>\n",
       "    <tr>\n",
       "      <th>Bananas</th>\n",
       "      <td>3.0</td>\n",
       "      <td>3.0</td>\n",
       "    </tr>\n",
       "    <tr>\n",
       "      <th>Dog food</th>\n",
       "      <td>7.0</td>\n",
       "      <td>1.0</td>\n",
       "    </tr>\n",
       "    <tr>\n",
       "      <th>Rice</th>\n",
       "      <td>1.0</td>\n",
       "      <td>4.0</td>\n",
       "    </tr>\n",
       "  </tbody>\n",
       "</table>\n",
       "</div>"
      ],
      "text/plain": [
       "                     Price  Quality\n",
       "Store      Product                 \n",
       "Dingo Poce Apples      2.0      2.0\n",
       "           Bananas     3.0      3.0\n",
       "           Dog food    7.0      1.0\n",
       "           Rice        1.0      4.0"
      ]
     },
     "execution_count": 17,
     "metadata": {},
     "output_type": "execute_result"
    }
   ],
   "source": [
    "# from food, \n",
    "# A) get the slice of the index \n",
    "# B) where the index_level_0 is 'Dingo Poce', \n",
    "# C) and everything on the second level (:)\n",
    "# D) also, give me all the columns (:)\n",
    "\n",
    "# food.loc[A[B, C], D]\n",
    "food.loc[idx['Dingo Poce', :], :]"
   ]
  },
  {
   "cell_type": "markdown",
   "metadata": {},
   "source": [
    "Now you may be asking yourself the following: \n",
    "\n",
    "> _\"sure, but I've been calling loc with just one argument, because I'm cool. Maybe I can do that here?\"_"
   ]
  },
  {
   "cell_type": "code",
   "execution_count": 18,
   "metadata": {},
   "outputs": [
    {
     "data": {
      "text/html": [
       "<div>\n",
       "<style scoped>\n",
       "    .dataframe tbody tr th:only-of-type {\n",
       "        vertical-align: middle;\n",
       "    }\n",
       "\n",
       "    .dataframe tbody tr th {\n",
       "        vertical-align: top;\n",
       "    }\n",
       "\n",
       "    .dataframe thead th {\n",
       "        text-align: right;\n",
       "    }\n",
       "</style>\n",
       "<table border=\"1\" class=\"dataframe\">\n",
       "  <thead>\n",
       "    <tr style=\"text-align: right;\">\n",
       "      <th></th>\n",
       "      <th>Price</th>\n",
       "      <th>Quality</th>\n",
       "    </tr>\n",
       "    <tr>\n",
       "      <th>Product</th>\n",
       "      <th></th>\n",
       "      <th></th>\n",
       "    </tr>\n",
       "  </thead>\n",
       "  <tbody>\n",
       "    <tr>\n",
       "      <th>Apples</th>\n",
       "      <td>2.0</td>\n",
       "      <td>2.0</td>\n",
       "    </tr>\n",
       "    <tr>\n",
       "      <th>Bananas</th>\n",
       "      <td>3.0</td>\n",
       "      <td>3.0</td>\n",
       "    </tr>\n",
       "    <tr>\n",
       "      <th>Dog food</th>\n",
       "      <td>7.0</td>\n",
       "      <td>1.0</td>\n",
       "    </tr>\n",
       "    <tr>\n",
       "      <th>Rice</th>\n",
       "      <td>1.0</td>\n",
       "      <td>4.0</td>\n",
       "    </tr>\n",
       "  </tbody>\n",
       "</table>\n",
       "</div>"
      ],
      "text/plain": [
       "          Price  Quality\n",
       "Product                 \n",
       "Apples      2.0      2.0\n",
       "Bananas     3.0      3.0\n",
       "Dog food    7.0      1.0\n",
       "Rice        1.0      4.0"
      ]
     },
     "execution_count": 18,
     "metadata": {},
     "output_type": "execute_result"
    }
   ],
   "source": [
    "# Oy! Pandas! Get me Dingo Poce, and you figure out what I mean! \n",
    "food.loc['Dingo Poce']"
   ]
  },
  {
   "cell_type": "markdown",
   "metadata": {},
   "source": [
    "This will work, as long as you are selecting from the first level of the index.  \n",
    "Pandas kind of has to say _\"hmmm... I'm going to go ahead and assume you **meant** `food.loc['Dingo Poce', :, :]`\"_\n",
    "\n",
    "The problem with not being explicit is that now that we're in multi-index land, things can go wrong. What if I wanted to select from the second level (let's say we want \"all the apples\")?"
   ]
  },
  {
   "cell_type": "code",
   "execution_count": 19,
   "metadata": {},
   "outputs": [
    {
     "name": "stdout",
     "output_type": "stream",
     "text": [
      "We got this error: 'Apples'\n"
     ]
    }
   ],
   "source": [
    "# this is going to blow up, so let's catch the error \n",
    "try:\n",
    "    # Oy! Pandas! Get me Apples, and you figure out what I mean!\n",
    "    food.loc['Apples']\n",
    "# catch the error \n",
    "except KeyError as key_err:\n",
    "    # print it \n",
    "    print('We got this error: %s' % key_err)"
   ]
  },
  {
   "cell_type": "markdown",
   "metadata": {},
   "source": [
    "Kind of makes sense, right?  \n",
    "It doesn't know in which level of axis we mean, and we because we didn't say anything, it just looked for a Store called _Apples_ (the _\"Apples store\"_ ), and didn't find any. \n",
    "\n",
    "So let's establish a rule here: \n",
    "> **\"Always be explicit, even when implicit has a good chance of working.**\"\n",
    "\n",
    "The reason is that when things fail, and you get used to using the \"slightly incorrect way\" and expecting Pandas to forgive you, you will suffer. Big time. \n",
    "\n",
    "So, let's be explicit: "
   ]
  },
  {
   "cell_type": "code",
   "execution_count": 20,
   "metadata": {},
   "outputs": [
    {
     "data": {
      "text/html": [
       "<div>\n",
       "<style scoped>\n",
       "    .dataframe tbody tr th:only-of-type {\n",
       "        vertical-align: middle;\n",
       "    }\n",
       "\n",
       "    .dataframe tbody tr th {\n",
       "        vertical-align: top;\n",
       "    }\n",
       "\n",
       "    .dataframe thead th {\n",
       "        text-align: right;\n",
       "    }\n",
       "</style>\n",
       "<table border=\"1\" class=\"dataframe\">\n",
       "  <thead>\n",
       "    <tr style=\"text-align: right;\">\n",
       "      <th></th>\n",
       "      <th></th>\n",
       "      <th>Price</th>\n",
       "      <th>Quality</th>\n",
       "    </tr>\n",
       "    <tr>\n",
       "      <th>Store</th>\n",
       "      <th>Product</th>\n",
       "      <th></th>\n",
       "      <th></th>\n",
       "    </tr>\n",
       "  </thead>\n",
       "  <tbody>\n",
       "    <tr>\n",
       "      <th>Dingo Poce</th>\n",
       "      <th>Apples</th>\n",
       "      <td>2.0</td>\n",
       "      <td>2.0</td>\n",
       "    </tr>\n",
       "    <tr>\n",
       "      <th>Dumbo</th>\n",
       "      <th>Apples</th>\n",
       "      <td>2.0</td>\n",
       "      <td>3.0</td>\n",
       "    </tr>\n",
       "    <tr>\n",
       "      <th>Incontinente</th>\n",
       "      <th>Apples</th>\n",
       "      <td>3.0</td>\n",
       "      <td>2.0</td>\n",
       "    </tr>\n",
       "  </tbody>\n",
       "</table>\n",
       "</div>"
      ],
      "text/plain": [
       "                      Price  Quality\n",
       "Store        Product                \n",
       "Dingo Poce   Apples     2.0      2.0\n",
       "Dumbo        Apples     2.0      3.0\n",
       "Incontinente Apples     3.0      2.0"
      ]
     },
     "execution_count": 20,
     "metadata": {},
     "output_type": "execute_result"
    }
   ],
   "source": [
    "# from food, \n",
    "# A) get the slice of the index \n",
    "# B) where we want everything from the first level of the index \n",
    "# C) and only the apples from the second level of the index \n",
    "# D) again, all of the columns \n",
    "\n",
    "# food.loc[A[B, C], D]\n",
    "food.loc[idx[:, 'Apples'], :]\n",
    "\n",
    "# idx is love. idx is life. "
   ]
  },
  {
   "cell_type": "markdown",
   "metadata": {},
   "source": [
    "That works! Let's do a few more, for practice: "
   ]
  },
  {
   "cell_type": "markdown",
   "metadata": {},
   "source": [
    "##### _\"The apples at Dingo Poce\"_"
   ]
  },
  {
   "cell_type": "code",
   "execution_count": 21,
   "metadata": {},
   "outputs": [
    {
     "data": {
      "text/plain": [
       "Price      2.0\n",
       "Quality    2.0\n",
       "Name: (Dingo Poce, Apples), dtype: float64"
      ]
     },
     "execution_count": 21,
     "metadata": {},
     "output_type": "execute_result"
    }
   ],
   "source": [
    "food.loc[idx['Dingo Poce', 'Apples'], :]"
   ]
  },
  {
   "cell_type": "markdown",
   "metadata": {},
   "source": [
    "##### _\"The price of Bananas, at any store\"_"
   ]
  },
  {
   "cell_type": "code",
   "execution_count": 22,
   "metadata": {},
   "outputs": [
    {
     "data": {
      "text/plain": [
       "Store         Product\n",
       "Dingo Poce    Bananas    3.0\n",
       "Incontinente  Bananas    2.0\n",
       "Name: Price, dtype: float64"
      ]
     },
     "execution_count": 22,
     "metadata": {},
     "output_type": "execute_result"
    }
   ],
   "source": [
    "food.loc[idx[:, 'Bananas'], 'Price']"
   ]
  },
  {
   "cell_type": "markdown",
   "metadata": {},
   "source": [
    "##### _\"The quality of Olives, at any Incontinente\"_"
   ]
  },
  {
   "cell_type": "code",
   "execution_count": 23,
   "metadata": {},
   "outputs": [
    {
     "data": {
      "text/plain": [
       "2.0"
      ]
     },
     "execution_count": 23,
     "metadata": {},
     "output_type": "execute_result"
    }
   ],
   "source": [
    "food.loc[idx['Incontinente', 'Olives'], 'Quality']"
   ]
  },
  {
   "cell_type": "markdown",
   "metadata": {},
   "source": [
    "##### _\"The quality of Rice and Bananas, at any Incontinente\"_"
   ]
  },
  {
   "cell_type": "code",
   "execution_count": 24,
   "metadata": {},
   "outputs": [
    {
     "data": {
      "text/plain": [
       "Store         Product\n",
       "Incontinente  Bananas    4.0\n",
       "              Rice       3.0\n",
       "Name: Quality, dtype: float64"
      ]
     },
     "execution_count": 24,
     "metadata": {},
     "output_type": "execute_result"
    }
   ],
   "source": [
    "# notice that we can pass a list to the second half of the index slice\n",
    "food.loc[idx['Incontinente', ['Bananas', 'Rice']], 'Quality']"
   ]
  },
  {
   "cell_type": "markdown",
   "metadata": {},
   "source": [
    "---- "
   ]
  },
  {
   "cell_type": "markdown",
   "metadata": {},
   "source": [
    "### Slicing in multi-indexes "
   ]
  },
  {
   "cell_type": "markdown",
   "metadata": {},
   "source": [
    "Sometimes instead of listing the values we want, we might want to take slices. \n",
    "\n",
    "Here it will be by alphabetical order (to keep the example simple), but we will see how powerful this is later when we bring in the timeseries. \n",
    "\n",
    "From a syntax point of view, slicing means passing `start: end` to our `.loc`, instead of explicitly naming every entry. \n",
    "\n",
    "Let's get the quality of the products \"from bananas to rice\" in Incontinente (from \"b\" to \"r\"). This would be problematic if the dataset were not sorted. "
   ]
  },
  {
   "cell_type": "code",
   "execution_count": 25,
   "metadata": {},
   "outputs": [
    {
     "data": {
      "text/plain": [
       "Store         Product\n",
       "Incontinente  Bananas    4.0\n",
       "              Olives     2.0\n",
       "              Rice       3.0\n",
       "Name: Quality, dtype: float64"
      ]
     },
     "execution_count": 25,
     "metadata": {},
     "output_type": "execute_result"
    }
   ],
   "source": [
    "# Notice the nomenclature \"start: end\" \n",
    "food.loc[idx['Incontinente', 'Bananas': 'Rice'], 'Quality']"
   ]
  },
  {
   "cell_type": "markdown",
   "metadata": {},
   "source": [
    "**Optional:** You can also slice on partial string values _(in a more Pythonesque, and less Pandasesque way)_ , but beware of the right-inclusive problem. "
   ]
  },
  {
   "cell_type": "code",
   "execution_count": 26,
   "metadata": {},
   "outputs": [
    {
     "data": {
      "text/plain": [
       "Store         Product\n",
       "Incontinente  Bananas    4.0\n",
       "              Olives     2.0\n",
       "              Rice       3.0\n",
       "Name: Quality, dtype: float64"
      ]
     },
     "execution_count": 26,
     "metadata": {},
     "output_type": "execute_result"
    }
   ],
   "source": [
    "# Notice the nomenclature \"start: end\" \n",
    "food.loc[idx['Incontinente', 'B': 'S'], 'Quality']"
   ]
  },
  {
   "cell_type": "markdown",
   "metadata": {},
   "source": [
    "### Groupby (group-apply-combine) in multi-indexes"
   ]
  },
  {
   "cell_type": "markdown",
   "metadata": {},
   "source": [
    "Let's say we want to know the lowest prices at which we can get each product.  \n",
    "\n",
    "In the case of this tiny dataset, we can just look directly at the data, or select each product at the time and then take the `.min`, but we will use this very simply question to illustrate a powerful concept. "
   ]
  },
  {
   "cell_type": "code",
   "execution_count": 27,
   "metadata": {},
   "outputs": [
    {
     "data": {
      "text/html": [
       "<div>\n",
       "<style scoped>\n",
       "    .dataframe tbody tr th:only-of-type {\n",
       "        vertical-align: middle;\n",
       "    }\n",
       "\n",
       "    .dataframe tbody tr th {\n",
       "        vertical-align: top;\n",
       "    }\n",
       "\n",
       "    .dataframe thead th {\n",
       "        text-align: right;\n",
       "    }\n",
       "</style>\n",
       "<table border=\"1\" class=\"dataframe\">\n",
       "  <thead>\n",
       "    <tr style=\"text-align: right;\">\n",
       "      <th></th>\n",
       "      <th></th>\n",
       "      <th>Price</th>\n",
       "      <th>Quality</th>\n",
       "    </tr>\n",
       "    <tr>\n",
       "      <th>Store</th>\n",
       "      <th>Product</th>\n",
       "      <th></th>\n",
       "      <th></th>\n",
       "    </tr>\n",
       "  </thead>\n",
       "  <tbody>\n",
       "    <tr>\n",
       "      <th rowspan=\"4\" valign=\"top\">Dingo Poce</th>\n",
       "      <th>Apples</th>\n",
       "      <td>2.0</td>\n",
       "      <td>2.0</td>\n",
       "    </tr>\n",
       "    <tr>\n",
       "      <th>Bananas</th>\n",
       "      <td>3.0</td>\n",
       "      <td>3.0</td>\n",
       "    </tr>\n",
       "    <tr>\n",
       "      <th>Dog food</th>\n",
       "      <td>7.0</td>\n",
       "      <td>1.0</td>\n",
       "    </tr>\n",
       "    <tr>\n",
       "      <th>Rice</th>\n",
       "      <td>1.0</td>\n",
       "      <td>4.0</td>\n",
       "    </tr>\n",
       "    <tr>\n",
       "      <th rowspan=\"3\" valign=\"top\">Dumbo</th>\n",
       "      <th>Apples</th>\n",
       "      <td>2.0</td>\n",
       "      <td>3.0</td>\n",
       "    </tr>\n",
       "    <tr>\n",
       "      <th>Dog food</th>\n",
       "      <td>1.0</td>\n",
       "      <td>2.0</td>\n",
       "    </tr>\n",
       "    <tr>\n",
       "      <th>Rice</th>\n",
       "      <td>5.0</td>\n",
       "      <td>4.0</td>\n",
       "    </tr>\n",
       "    <tr>\n",
       "      <th rowspan=\"4\" valign=\"top\">Incontinente</th>\n",
       "      <th>Apples</th>\n",
       "      <td>3.0</td>\n",
       "      <td>2.0</td>\n",
       "    </tr>\n",
       "    <tr>\n",
       "      <th>Bananas</th>\n",
       "      <td>2.0</td>\n",
       "      <td>4.0</td>\n",
       "    </tr>\n",
       "    <tr>\n",
       "      <th>Olives</th>\n",
       "      <td>4.0</td>\n",
       "      <td>2.0</td>\n",
       "    </tr>\n",
       "    <tr>\n",
       "      <th>Rice</th>\n",
       "      <td>1.0</td>\n",
       "      <td>3.0</td>\n",
       "    </tr>\n",
       "  </tbody>\n",
       "</table>\n",
       "</div>"
      ],
      "text/plain": [
       "                       Price  Quality\n",
       "Store        Product                 \n",
       "Dingo Poce   Apples      2.0      2.0\n",
       "             Bananas     3.0      3.0\n",
       "             Dog food    7.0      1.0\n",
       "             Rice        1.0      4.0\n",
       "Dumbo        Apples      2.0      3.0\n",
       "             Dog food    1.0      2.0\n",
       "             Rice        5.0      4.0\n",
       "Incontinente Apples      3.0      2.0\n",
       "             Bananas     2.0      4.0\n",
       "             Olives      4.0      2.0\n",
       "             Rice        1.0      3.0"
      ]
     },
     "execution_count": 27,
     "metadata": {},
     "output_type": "execute_result"
    }
   ],
   "source": [
    "food"
   ]
  },
  {
   "cell_type": "code",
   "execution_count": 28,
   "metadata": {},
   "outputs": [
    {
     "data": {
      "text/plain": [
       "Product\n",
       "Apples      2.0\n",
       "Bananas     2.0\n",
       "Dog food    1.0\n",
       "Olives      4.0\n",
       "Rice        1.0\n",
       "Name: Price, dtype: float64"
      ]
     },
     "execution_count": 28,
     "metadata": {},
     "output_type": "execute_result"
    }
   ],
   "source": [
    "food.groupby(level='Product').Price.min()"
   ]
  },
  {
   "cell_type": "markdown",
   "metadata": {},
   "source": [
    "Eh... that's cool, but a better questions is _\"Where should I buy each product, and how much will it cost there?\"_"
   ]
  },
  {
   "cell_type": "code",
   "execution_count": 29,
   "metadata": {},
   "outputs": [
    {
     "data": {
      "text/html": [
       "<div>\n",
       "<style scoped>\n",
       "    .dataframe tbody tr th:only-of-type {\n",
       "        vertical-align: middle;\n",
       "    }\n",
       "\n",
       "    .dataframe tbody tr th {\n",
       "        vertical-align: top;\n",
       "    }\n",
       "\n",
       "    .dataframe thead th {\n",
       "        text-align: right;\n",
       "    }\n",
       "</style>\n",
       "<table border=\"1\" class=\"dataframe\">\n",
       "  <thead>\n",
       "    <tr style=\"text-align: right;\">\n",
       "      <th></th>\n",
       "      <th></th>\n",
       "      <th>Price</th>\n",
       "      <th>Quality</th>\n",
       "    </tr>\n",
       "    <tr>\n",
       "      <th>Store</th>\n",
       "      <th>Product</th>\n",
       "      <th></th>\n",
       "      <th></th>\n",
       "    </tr>\n",
       "  </thead>\n",
       "  <tbody>\n",
       "    <tr>\n",
       "      <th>Dingo Poce</th>\n",
       "      <th>Apples</th>\n",
       "      <td>2.0</td>\n",
       "      <td>2.0</td>\n",
       "    </tr>\n",
       "    <tr>\n",
       "      <th>Dumbo</th>\n",
       "      <th>Apples</th>\n",
       "      <td>2.0</td>\n",
       "      <td>3.0</td>\n",
       "    </tr>\n",
       "  </tbody>\n",
       "</table>\n",
       "</div>"
      ],
      "text/plain": [
       "                    Price  Quality\n",
       "Store      Product                \n",
       "Dingo Poce Apples     2.0      2.0\n",
       "Dumbo      Apples     2.0      3.0"
      ]
     },
     "execution_count": 29,
     "metadata": {},
     "output_type": "execute_result"
    }
   ],
   "source": [
    "apples_data = food.loc[idx[:, 'Apples'], :]\n",
    "apples_data.loc[apples_data.Price == apples_data.Price.min()]"
   ]
  },
  {
   "cell_type": "markdown",
   "metadata": {},
   "source": [
    "Where is each product cheaper?"
   ]
  },
  {
   "cell_type": "code",
   "execution_count": 30,
   "metadata": {},
   "outputs": [
    {
     "data": {
      "text/plain": [
       "Product\n",
       "Apples         (Dingo Poce, Apples)\n",
       "Bananas     (Incontinente, Bananas)\n",
       "Dog food          (Dumbo, Dog food)\n",
       "Olives       (Incontinente, Olives)\n",
       "Rice             (Dingo Poce, Rice)\n",
       "Name: Price, dtype: object"
      ]
     },
     "execution_count": 30,
     "metadata": {},
     "output_type": "execute_result"
    }
   ],
   "source": [
    "food.groupby(level='Product').Price.idxmin()"
   ]
  },
  {
   "cell_type": "markdown",
   "metadata": {},
   "source": [
    "**Important!** [idxmin](https://www.google.com/url?sa=t&rct=j&q=&esrc=s&source=web&cd=1&cad=rja&uact=8&ved=0ahUKEwjO9Z_n0OTaAhWHiywKHXLoDp8QFggpMAA&url=https%3A%2F%2Fpandas.pydata.org%2Fpandas-docs%2Fstable%2Fgenerated%2Fpandas.DataFrame.idxmin.html&usg=AOvVaw05Ahs2GI2lkoZacYuqRpEx), while quick and easy to use, finds only \"the first index where the min is found\". \n",
    "\n",
    "If you want to find all of the stores where the price is min, you need to use the slightly more advanced methods in the following section. 90% of the time though, idxmin is enough for practical purposes."
   ]
  },
  {
   "cell_type": "markdown",
   "metadata": {},
   "source": [
    "So we found out where the food is cheapest. But now I'm worried about the quality... \n",
    "\n",
    "We already know where things are cheaper, let's call it `where_stuff_is_cheapest`"
   ]
  },
  {
   "cell_type": "code",
   "execution_count": 31,
   "metadata": {},
   "outputs": [],
   "source": [
    "where_stuff_is_cheapest = food.groupby(level='Product').Price.idxmin()"
   ]
  },
  {
   "cell_type": "code",
   "execution_count": 32,
   "metadata": {},
   "outputs": [
    {
     "data": {
      "text/plain": [
       "Product\n",
       "Apples        (Dingo Poce, Apples)\n",
       "Bananas    (Incontinente, Bananas)\n",
       "Name: Price, dtype: object"
      ]
     },
     "execution_count": 32,
     "metadata": {},
     "output_type": "execute_result"
    }
   ],
   "source": [
    "where_stuff_is_cheapest.head(2)"
   ]
  },
  {
   "cell_type": "markdown",
   "metadata": {},
   "source": [
    "Now we can use this to select. Notice we don't need `idx`, because our index is already a tuple. "
   ]
  },
  {
   "cell_type": "code",
   "execution_count": 33,
   "metadata": {},
   "outputs": [
    {
     "data": {
      "text/html": [
       "<div>\n",
       "<style scoped>\n",
       "    .dataframe tbody tr th:only-of-type {\n",
       "        vertical-align: middle;\n",
       "    }\n",
       "\n",
       "    .dataframe tbody tr th {\n",
       "        vertical-align: top;\n",
       "    }\n",
       "\n",
       "    .dataframe thead th {\n",
       "        text-align: right;\n",
       "    }\n",
       "</style>\n",
       "<table border=\"1\" class=\"dataframe\">\n",
       "  <thead>\n",
       "    <tr style=\"text-align: right;\">\n",
       "      <th></th>\n",
       "      <th></th>\n",
       "      <th>Quality</th>\n",
       "      <th>Price</th>\n",
       "    </tr>\n",
       "    <tr>\n",
       "      <th>Store</th>\n",
       "      <th>Product</th>\n",
       "      <th></th>\n",
       "      <th></th>\n",
       "    </tr>\n",
       "  </thead>\n",
       "  <tbody>\n",
       "    <tr>\n",
       "      <th>Dingo Poce</th>\n",
       "      <th>Apples</th>\n",
       "      <td>2.0</td>\n",
       "      <td>2.0</td>\n",
       "    </tr>\n",
       "    <tr>\n",
       "      <th>Incontinente</th>\n",
       "      <th>Bananas</th>\n",
       "      <td>4.0</td>\n",
       "      <td>2.0</td>\n",
       "    </tr>\n",
       "    <tr>\n",
       "      <th>Dumbo</th>\n",
       "      <th>Dog food</th>\n",
       "      <td>2.0</td>\n",
       "      <td>1.0</td>\n",
       "    </tr>\n",
       "    <tr>\n",
       "      <th>Incontinente</th>\n",
       "      <th>Olives</th>\n",
       "      <td>2.0</td>\n",
       "      <td>4.0</td>\n",
       "    </tr>\n",
       "    <tr>\n",
       "      <th>Dingo Poce</th>\n",
       "      <th>Rice</th>\n",
       "      <td>4.0</td>\n",
       "      <td>1.0</td>\n",
       "    </tr>\n",
       "  </tbody>\n",
       "</table>\n",
       "</div>"
      ],
      "text/plain": [
       "                       Quality  Price\n",
       "Store        Product                 \n",
       "Dingo Poce   Apples        2.0    2.0\n",
       "Incontinente Bananas       4.0    2.0\n",
       "Dumbo        Dog food      2.0    1.0\n",
       "Incontinente Olives        2.0    4.0\n",
       "Dingo Poce   Rice          4.0    1.0"
      ]
     },
     "execution_count": 33,
     "metadata": {},
     "output_type": "execute_result"
    }
   ],
   "source": [
    "# food, where the indexes of the minimum prices are, with the columns Quality and Price \n",
    "food.loc[where_stuff_is_cheapest, ['Quality', 'Price']]"
   ]
  },
  {
   "cell_type": "markdown",
   "metadata": {},
   "source": [
    "So... the minimum price, but only where the quality is higher than 3? "
   ]
  },
  {
   "cell_type": "code",
   "execution_count": 34,
   "metadata": {},
   "outputs": [
    {
     "data": {
      "text/html": [
       "<div>\n",
       "<style scoped>\n",
       "    .dataframe tbody tr th:only-of-type {\n",
       "        vertical-align: middle;\n",
       "    }\n",
       "\n",
       "    .dataframe tbody tr th {\n",
       "        vertical-align: top;\n",
       "    }\n",
       "\n",
       "    .dataframe thead th {\n",
       "        text-align: right;\n",
       "    }\n",
       "</style>\n",
       "<table border=\"1\" class=\"dataframe\">\n",
       "  <thead>\n",
       "    <tr style=\"text-align: right;\">\n",
       "      <th></th>\n",
       "      <th></th>\n",
       "      <th>Quality</th>\n",
       "      <th>Price</th>\n",
       "    </tr>\n",
       "    <tr>\n",
       "      <th>Store</th>\n",
       "      <th>Product</th>\n",
       "      <th></th>\n",
       "      <th></th>\n",
       "    </tr>\n",
       "  </thead>\n",
       "  <tbody>\n",
       "    <tr>\n",
       "      <th>Dumbo</th>\n",
       "      <th>Apples</th>\n",
       "      <td>3.0</td>\n",
       "      <td>2.0</td>\n",
       "    </tr>\n",
       "    <tr>\n",
       "      <th>Incontinente</th>\n",
       "      <th>Bananas</th>\n",
       "      <td>4.0</td>\n",
       "      <td>2.0</td>\n",
       "    </tr>\n",
       "    <tr>\n",
       "      <th>Dingo Poce</th>\n",
       "      <th>Rice</th>\n",
       "      <td>4.0</td>\n",
       "      <td>1.0</td>\n",
       "    </tr>\n",
       "  </tbody>\n",
       "</table>\n",
       "</div>"
      ],
      "text/plain": [
       "                      Quality  Price\n",
       "Store        Product                \n",
       "Dumbo        Apples       3.0    2.0\n",
       "Incontinente Bananas      4.0    2.0\n",
       "Dingo Poce   Rice         4.0    1.0"
      ]
     },
     "execution_count": 34,
     "metadata": {},
     "output_type": "execute_result"
    }
   ],
   "source": [
    "# Sigh.... ok, so food where the quality is at least 3...\n",
    "at_least_3_quality_food = food.loc[food.Quality >=3]\n",
    "\n",
    "# get the indexes where the lowest price occurs \n",
    "index_where_lowest_price = at_least_3_quality_food.groupby(level='Product').Price.idxmin()\n",
    "\n",
    "# now from the food where the quality is at least 3, \n",
    "# get the indexes where the price is minimum, \n",
    "# and show both quality and price\n",
    "at_least_3_quality_food.loc[index_where_lowest_price, ['Quality', 'Price']]"
   ]
  },
  {
   "cell_type": "markdown",
   "metadata": {},
   "source": [
    "It's so beautiful! "
   ]
  },
  {
   "cell_type": "markdown",
   "metadata": {},
   "source": [
    "## Bring in the timeseries! "
   ]
  },
  {
   "cell_type": "markdown",
   "metadata": {},
   "source": [
    "Ok, so that was a basic idea of multi-indexing. But that's not what you are here for, you are here for timeseries!\n",
    "\n",
    "Let's get back to business! "
   ]
  },
  {
   "cell_type": "markdown",
   "metadata": {},
   "source": [
    "Let's take all of the stocks from an exchange between 2007 and 2011"
   ]
  },
  {
   "cell_type": "code",
   "execution_count": 35,
   "metadata": {},
   "outputs": [],
   "source": [
    "data = pd.read_csv('data/stocks.csv')"
   ]
  },
  {
   "cell_type": "code",
   "execution_count": 36,
   "metadata": {},
   "outputs": [
    {
     "data": {
      "text/html": [
       "<div>\n",
       "<style scoped>\n",
       "    .dataframe tbody tr th:only-of-type {\n",
       "        vertical-align: middle;\n",
       "    }\n",
       "\n",
       "    .dataframe tbody tr th {\n",
       "        vertical-align: top;\n",
       "    }\n",
       "\n",
       "    .dataframe thead th {\n",
       "        text-align: right;\n",
       "    }\n",
       "</style>\n",
       "<table border=\"1\" class=\"dataframe\">\n",
       "  <thead>\n",
       "    <tr style=\"text-align: right;\">\n",
       "      <th></th>\n",
       "      <th>Date</th>\n",
       "      <th>Stock</th>\n",
       "      <th>Open</th>\n",
       "      <th>High</th>\n",
       "      <th>Low</th>\n",
       "      <th>Close</th>\n",
       "      <th>Volume</th>\n",
       "    </tr>\n",
       "  </thead>\n",
       "  <tbody>\n",
       "    <tr>\n",
       "      <th>0</th>\n",
       "      <td>2007-01-03</td>\n",
       "      <td>nhc</td>\n",
       "      <td>46.2710</td>\n",
       "      <td>46.4810</td>\n",
       "      <td>45.5640</td>\n",
       "      <td>46.2710</td>\n",
       "      <td>26244</td>\n",
       "    </tr>\n",
       "    <tr>\n",
       "      <th>1</th>\n",
       "      <td>2007-01-03</td>\n",
       "      <td>vhi</td>\n",
       "      <td>3.0205</td>\n",
       "      <td>3.0205</td>\n",
       "      <td>2.8661</td>\n",
       "      <td>2.9215</td>\n",
       "      <td>94069</td>\n",
       "    </tr>\n",
       "    <tr>\n",
       "      <th>2</th>\n",
       "      <td>2007-01-03</td>\n",
       "      <td>bpt</td>\n",
       "      <td>37.5560</td>\n",
       "      <td>37.5560</td>\n",
       "      <td>37.0750</td>\n",
       "      <td>37.1820</td>\n",
       "      <td>489258</td>\n",
       "    </tr>\n",
       "    <tr>\n",
       "      <th>3</th>\n",
       "      <td>2007-01-03</td>\n",
       "      <td>cet</td>\n",
       "      <td>12.4790</td>\n",
       "      <td>12.4960</td>\n",
       "      <td>12.4060</td>\n",
       "      <td>12.4250</td>\n",
       "      <td>36413</td>\n",
       "    </tr>\n",
       "    <tr>\n",
       "      <th>4</th>\n",
       "      <td>2007-01-03</td>\n",
       "      <td>lndc</td>\n",
       "      <td>10.7000</td>\n",
       "      <td>11.3700</td>\n",
       "      <td>10.5000</td>\n",
       "      <td>11.3400</td>\n",
       "      <td>245349</td>\n",
       "    </tr>\n",
       "  </tbody>\n",
       "</table>\n",
       "</div>"
      ],
      "text/plain": [
       "         Date Stock     Open     High      Low    Close  Volume\n",
       "0  2007-01-03   nhc  46.2710  46.4810  45.5640  46.2710   26244\n",
       "1  2007-01-03   vhi   3.0205   3.0205   2.8661   2.9215   94069\n",
       "2  2007-01-03   bpt  37.5560  37.5560  37.0750  37.1820  489258\n",
       "3  2007-01-03   cet  12.4790  12.4960  12.4060  12.4250   36413\n",
       "4  2007-01-03  lndc  10.7000  11.3700  10.5000  11.3400  245349"
      ]
     },
     "execution_count": 36,
     "metadata": {},
     "output_type": "execute_result"
    }
   ],
   "source": [
    "data.head()"
   ]
  },
  {
   "cell_type": "markdown",
   "metadata": {},
   "source": [
    "How much data do we have? "
   ]
  },
  {
   "cell_type": "code",
   "execution_count": 37,
   "metadata": {},
   "outputs": [
    {
     "data": {
      "text/plain": [
       "(475041, 7)"
      ]
     },
     "execution_count": 37,
     "metadata": {},
     "output_type": "execute_result"
    }
   ],
   "source": [
    "data.shape"
   ]
  },
  {
   "cell_type": "markdown",
   "metadata": {},
   "source": [
    "Cool, and we already know how to fix datetimes: "
   ]
  },
  {
   "cell_type": "code",
   "execution_count": 38,
   "metadata": {},
   "outputs": [],
   "source": [
    "data['Date'] = pd.to_datetime(data['Date'])"
   ]
  },
  {
   "cell_type": "markdown",
   "metadata": {},
   "source": [
    "Now, consider this sentence carefully: \n",
    "\n",
    "> _**For each stock, for each date**, we have an Open, High, Low, Close, and Volume_"
   ]
  },
  {
   "cell_type": "markdown",
   "metadata": {},
   "source": [
    "Which means that we have a multi-index, with both date, and stock! "
   ]
  },
  {
   "cell_type": "code",
   "execution_count": 39,
   "metadata": {
    "scrolled": true
   },
   "outputs": [
    {
     "data": {
      "text/html": [
       "<div>\n",
       "<style scoped>\n",
       "    .dataframe tbody tr th:only-of-type {\n",
       "        vertical-align: middle;\n",
       "    }\n",
       "\n",
       "    .dataframe tbody tr th {\n",
       "        vertical-align: top;\n",
       "    }\n",
       "\n",
       "    .dataframe thead th {\n",
       "        text-align: right;\n",
       "    }\n",
       "</style>\n",
       "<table border=\"1\" class=\"dataframe\">\n",
       "  <thead>\n",
       "    <tr style=\"text-align: right;\">\n",
       "      <th></th>\n",
       "      <th></th>\n",
       "      <th>Open</th>\n",
       "      <th>High</th>\n",
       "      <th>Low</th>\n",
       "      <th>Close</th>\n",
       "      <th>Volume</th>\n",
       "    </tr>\n",
       "    <tr>\n",
       "      <th>Date</th>\n",
       "      <th>Stock</th>\n",
       "      <th></th>\n",
       "      <th></th>\n",
       "      <th></th>\n",
       "      <th></th>\n",
       "      <th></th>\n",
       "    </tr>\n",
       "  </thead>\n",
       "  <tbody>\n",
       "    <tr>\n",
       "      <th rowspan=\"5\" valign=\"top\">2007-01-03</th>\n",
       "      <th>nhc</th>\n",
       "      <td>46.2710</td>\n",
       "      <td>46.4810</td>\n",
       "      <td>45.5640</td>\n",
       "      <td>46.2710</td>\n",
       "      <td>26244</td>\n",
       "    </tr>\n",
       "    <tr>\n",
       "      <th>vhi</th>\n",
       "      <td>3.0205</td>\n",
       "      <td>3.0205</td>\n",
       "      <td>2.8661</td>\n",
       "      <td>2.9215</td>\n",
       "      <td>94069</td>\n",
       "    </tr>\n",
       "    <tr>\n",
       "      <th>bpt</th>\n",
       "      <td>37.5560</td>\n",
       "      <td>37.5560</td>\n",
       "      <td>37.0750</td>\n",
       "      <td>37.1820</td>\n",
       "      <td>489258</td>\n",
       "    </tr>\n",
       "    <tr>\n",
       "      <th>cet</th>\n",
       "      <td>12.4790</td>\n",
       "      <td>12.4960</td>\n",
       "      <td>12.4060</td>\n",
       "      <td>12.4250</td>\n",
       "      <td>36413</td>\n",
       "    </tr>\n",
       "    <tr>\n",
       "      <th>lndc</th>\n",
       "      <td>10.7000</td>\n",
       "      <td>11.3700</td>\n",
       "      <td>10.5000</td>\n",
       "      <td>11.3400</td>\n",
       "      <td>245349</td>\n",
       "    </tr>\n",
       "  </tbody>\n",
       "</table>\n",
       "</div>"
      ],
      "text/plain": [
       "                     Open     High      Low    Close  Volume\n",
       "Date       Stock                                            \n",
       "2007-01-03 nhc    46.2710  46.4810  45.5640  46.2710   26244\n",
       "           vhi     3.0205   3.0205   2.8661   2.9215   94069\n",
       "           bpt    37.5560  37.5560  37.0750  37.1820  489258\n",
       "           cet    12.4790  12.4960  12.4060  12.4250   36413\n",
       "           lndc   10.7000  11.3700  10.5000  11.3400  245349"
      ]
     },
     "execution_count": 39,
     "metadata": {},
     "output_type": "execute_result"
    }
   ],
   "source": [
    "data = data.set_index(['Date', 'Stock'])\n",
    "data.head()"
   ]
  },
  {
   "cell_type": "markdown",
   "metadata": {},
   "source": [
    "As mentioned before, we must sort our index:"
   ]
  },
  {
   "cell_type": "code",
   "execution_count": 40,
   "metadata": {},
   "outputs": [
    {
     "data": {
      "text/html": [
       "<div>\n",
       "<style scoped>\n",
       "    .dataframe tbody tr th:only-of-type {\n",
       "        vertical-align: middle;\n",
       "    }\n",
       "\n",
       "    .dataframe tbody tr th {\n",
       "        vertical-align: top;\n",
       "    }\n",
       "\n",
       "    .dataframe thead th {\n",
       "        text-align: right;\n",
       "    }\n",
       "</style>\n",
       "<table border=\"1\" class=\"dataframe\">\n",
       "  <thead>\n",
       "    <tr style=\"text-align: right;\">\n",
       "      <th></th>\n",
       "      <th></th>\n",
       "      <th>Open</th>\n",
       "      <th>High</th>\n",
       "      <th>Low</th>\n",
       "      <th>Close</th>\n",
       "      <th>Volume</th>\n",
       "    </tr>\n",
       "    <tr>\n",
       "      <th>Date</th>\n",
       "      <th>Stock</th>\n",
       "      <th></th>\n",
       "      <th></th>\n",
       "      <th></th>\n",
       "      <th></th>\n",
       "      <th></th>\n",
       "    </tr>\n",
       "  </thead>\n",
       "  <tbody>\n",
       "    <tr>\n",
       "      <th rowspan=\"5\" valign=\"top\">2007-01-03</th>\n",
       "      <th>aap</th>\n",
       "      <td>35.139</td>\n",
       "      <td>35.621</td>\n",
       "      <td>34.527</td>\n",
       "      <td>35.011</td>\n",
       "      <td>776642</td>\n",
       "    </tr>\n",
       "    <tr>\n",
       "      <th>abb</th>\n",
       "      <td>13.422</td>\n",
       "      <td>13.429</td>\n",
       "      <td>13.105</td>\n",
       "      <td>13.192</td>\n",
       "      <td>4030670</td>\n",
       "    </tr>\n",
       "    <tr>\n",
       "      <th>achn</th>\n",
       "      <td>16.430</td>\n",
       "      <td>17.280</td>\n",
       "      <td>16.060</td>\n",
       "      <td>17.280</td>\n",
       "      <td>55226</td>\n",
       "    </tr>\n",
       "    <tr>\n",
       "      <th>achv</th>\n",
       "      <td>1227.600</td>\n",
       "      <td>1231.560</td>\n",
       "      <td>1158.300</td>\n",
       "      <td>1191.960</td>\n",
       "      <td>785</td>\n",
       "    </tr>\n",
       "    <tr>\n",
       "      <th>adm</th>\n",
       "      <td>27.457</td>\n",
       "      <td>27.864</td>\n",
       "      <td>27.065</td>\n",
       "      <td>27.269</td>\n",
       "      <td>8670704</td>\n",
       "    </tr>\n",
       "  </tbody>\n",
       "</table>\n",
       "</div>"
      ],
      "text/plain": [
       "                      Open      High       Low     Close   Volume\n",
       "Date       Stock                                                 \n",
       "2007-01-03 aap      35.139    35.621    34.527    35.011   776642\n",
       "           abb      13.422    13.429    13.105    13.192  4030670\n",
       "           achn     16.430    17.280    16.060    17.280    55226\n",
       "           achv   1227.600  1231.560  1158.300  1191.960      785\n",
       "           adm      27.457    27.864    27.065    27.269  8670704"
      ]
     },
     "execution_count": 40,
     "metadata": {},
     "output_type": "execute_result"
    }
   ],
   "source": [
    "data = data.sort_index()\n",
    "data.head()"
   ]
  },
  {
   "cell_type": "markdown",
   "metadata": {},
   "source": [
    "##### Select Microsoft (msft):"
   ]
  },
  {
   "cell_type": "code",
   "execution_count": 41,
   "metadata": {},
   "outputs": [
    {
     "data": {
      "text/html": [
       "<div>\n",
       "<style scoped>\n",
       "    .dataframe tbody tr th:only-of-type {\n",
       "        vertical-align: middle;\n",
       "    }\n",
       "\n",
       "    .dataframe tbody tr th {\n",
       "        vertical-align: top;\n",
       "    }\n",
       "\n",
       "    .dataframe thead th {\n",
       "        text-align: right;\n",
       "    }\n",
       "</style>\n",
       "<table border=\"1\" class=\"dataframe\">\n",
       "  <thead>\n",
       "    <tr style=\"text-align: right;\">\n",
       "      <th></th>\n",
       "      <th></th>\n",
       "      <th>Open</th>\n",
       "      <th>High</th>\n",
       "      <th>Low</th>\n",
       "      <th>Close</th>\n",
       "      <th>Volume</th>\n",
       "    </tr>\n",
       "    <tr>\n",
       "      <th>Date</th>\n",
       "      <th>Stock</th>\n",
       "      <th></th>\n",
       "      <th></th>\n",
       "      <th></th>\n",
       "      <th></th>\n",
       "      <th></th>\n",
       "    </tr>\n",
       "  </thead>\n",
       "  <tbody>\n",
       "    <tr>\n",
       "      <th>2007-01-03</th>\n",
       "      <th>msft</th>\n",
       "      <td>25.073</td>\n",
       "      <td>25.367</td>\n",
       "      <td>24.655</td>\n",
       "      <td>25.041</td>\n",
       "      <td>91732862</td>\n",
       "    </tr>\n",
       "    <tr>\n",
       "      <th>2007-01-04</th>\n",
       "      <th>msft</th>\n",
       "      <td>24.898</td>\n",
       "      <td>25.132</td>\n",
       "      <td>24.688</td>\n",
       "      <td>24.998</td>\n",
       "      <td>54581739</td>\n",
       "    </tr>\n",
       "    <tr>\n",
       "      <th>2007-01-05</th>\n",
       "      <th>msft</th>\n",
       "      <td>24.832</td>\n",
       "      <td>24.948</td>\n",
       "      <td>24.697</td>\n",
       "      <td>24.856</td>\n",
       "      <td>53189559</td>\n",
       "    </tr>\n",
       "    <tr>\n",
       "      <th>2007-01-08</th>\n",
       "      <th>msft</th>\n",
       "      <td>24.864</td>\n",
       "      <td>25.242</td>\n",
       "      <td>24.764</td>\n",
       "      <td>25.099</td>\n",
       "      <td>59801289</td>\n",
       "    </tr>\n",
       "    <tr>\n",
       "      <th>2007-01-09</th>\n",
       "      <th>msft</th>\n",
       "      <td>25.141</td>\n",
       "      <td>25.308</td>\n",
       "      <td>24.930</td>\n",
       "      <td>25.123</td>\n",
       "      <td>53215396</td>\n",
       "    </tr>\n",
       "  </tbody>\n",
       "</table>\n",
       "</div>"
      ],
      "text/plain": [
       "                    Open    High     Low   Close    Volume\n",
       "Date       Stock                                          \n",
       "2007-01-03 msft   25.073  25.367  24.655  25.041  91732862\n",
       "2007-01-04 msft   24.898  25.132  24.688  24.998  54581739\n",
       "2007-01-05 msft   24.832  24.948  24.697  24.856  53189559\n",
       "2007-01-08 msft   24.864  25.242  24.764  25.099  59801289\n",
       "2007-01-09 msft   25.141  25.308  24.930  25.123  53215396"
      ]
     },
     "execution_count": 41,
     "metadata": {},
     "output_type": "execute_result"
    }
   ],
   "source": [
    "data.loc[idx[:, 'msft'], :].head()"
   ]
  },
  {
   "cell_type": "markdown",
   "metadata": {},
   "source": [
    "##### Select all stocks from May  20th, 2009 "
   ]
  },
  {
   "cell_type": "code",
   "execution_count": 42,
   "metadata": {},
   "outputs": [
    {
     "data": {
      "text/html": [
       "<div>\n",
       "<style scoped>\n",
       "    .dataframe tbody tr th:only-of-type {\n",
       "        vertical-align: middle;\n",
       "    }\n",
       "\n",
       "    .dataframe tbody tr th {\n",
       "        vertical-align: top;\n",
       "    }\n",
       "\n",
       "    .dataframe thead th {\n",
       "        text-align: right;\n",
       "    }\n",
       "</style>\n",
       "<table border=\"1\" class=\"dataframe\">\n",
       "  <thead>\n",
       "    <tr style=\"text-align: right;\">\n",
       "      <th></th>\n",
       "      <th></th>\n",
       "      <th>Open</th>\n",
       "      <th>High</th>\n",
       "      <th>Low</th>\n",
       "      <th>Close</th>\n",
       "      <th>Volume</th>\n",
       "    </tr>\n",
       "    <tr>\n",
       "      <th>Date</th>\n",
       "      <th>Stock</th>\n",
       "      <th></th>\n",
       "      <th></th>\n",
       "      <th></th>\n",
       "      <th></th>\n",
       "      <th></th>\n",
       "    </tr>\n",
       "  </thead>\n",
       "  <tbody>\n",
       "    <tr>\n",
       "      <th rowspan=\"10\" valign=\"top\">2009-05-20</th>\n",
       "      <th>aap</th>\n",
       "      <td>43.258</td>\n",
       "      <td>43.327</td>\n",
       "      <td>41.790</td>\n",
       "      <td>42.203</td>\n",
       "      <td>3000018</td>\n",
       "    </tr>\n",
       "    <tr>\n",
       "      <th>abb</th>\n",
       "      <td>12.090</td>\n",
       "      <td>12.344</td>\n",
       "      <td>12.051</td>\n",
       "      <td>12.076</td>\n",
       "      <td>5429434</td>\n",
       "    </tr>\n",
       "    <tr>\n",
       "      <th>achn</th>\n",
       "      <td>1.530</td>\n",
       "      <td>1.530</td>\n",
       "      <td>1.400</td>\n",
       "      <td>1.460</td>\n",
       "      <td>20597</td>\n",
       "    </tr>\n",
       "    <tr>\n",
       "      <th>achv</th>\n",
       "      <td>154.990</td>\n",
       "      <td>157.960</td>\n",
       "      <td>141.130</td>\n",
       "      <td>151.800</td>\n",
       "      <td>34405</td>\n",
       "    </tr>\n",
       "    <tr>\n",
       "      <th>adm</th>\n",
       "      <td>22.098</td>\n",
       "      <td>22.949</td>\n",
       "      <td>22.021</td>\n",
       "      <td>22.557</td>\n",
       "      <td>9876717</td>\n",
       "    </tr>\n",
       "    <tr>\n",
       "      <th>adsk</th>\n",
       "      <td>19.480</td>\n",
       "      <td>19.880</td>\n",
       "      <td>19.000</td>\n",
       "      <td>19.140</td>\n",
       "      <td>3886829</td>\n",
       "    </tr>\n",
       "    <tr>\n",
       "      <th>ae</th>\n",
       "      <td>14.057</td>\n",
       "      <td>14.057</td>\n",
       "      <td>13.561</td>\n",
       "      <td>13.854</td>\n",
       "      <td>5924</td>\n",
       "    </tr>\n",
       "    <tr>\n",
       "      <th>aehr</th>\n",
       "      <td>1.010</td>\n",
       "      <td>1.040</td>\n",
       "      <td>1.000</td>\n",
       "      <td>1.010</td>\n",
       "      <td>81591</td>\n",
       "    </tr>\n",
       "    <tr>\n",
       "      <th>aeo</th>\n",
       "      <td>10.449</td>\n",
       "      <td>10.991</td>\n",
       "      <td>10.177</td>\n",
       "      <td>10.228</td>\n",
       "      <td>6613587</td>\n",
       "    </tr>\n",
       "    <tr>\n",
       "      <th>aezs</th>\n",
       "      <td>804.000</td>\n",
       "      <td>828.000</td>\n",
       "      <td>798.000</td>\n",
       "      <td>798.000</td>\n",
       "      <td>44</td>\n",
       "    </tr>\n",
       "  </tbody>\n",
       "</table>\n",
       "</div>"
      ],
      "text/plain": [
       "                     Open     High      Low    Close   Volume\n",
       "Date       Stock                                             \n",
       "2009-05-20 aap     43.258   43.327   41.790   42.203  3000018\n",
       "           abb     12.090   12.344   12.051   12.076  5429434\n",
       "           achn     1.530    1.530    1.400    1.460    20597\n",
       "           achv   154.990  157.960  141.130  151.800    34405\n",
       "           adm     22.098   22.949   22.021   22.557  9876717\n",
       "           adsk    19.480   19.880   19.000   19.140  3886829\n",
       "           ae      14.057   14.057   13.561   13.854     5924\n",
       "           aehr     1.010    1.040    1.000    1.010    81591\n",
       "           aeo     10.449   10.991   10.177   10.228  6613587\n",
       "           aezs   804.000  828.000  798.000  798.000       44"
      ]
     },
     "execution_count": 42,
     "metadata": {},
     "output_type": "execute_result"
    }
   ],
   "source": [
    "data.loc[idx['May 20th, 2009', :], :].head(10)"
   ]
  },
  {
   "cell_type": "markdown",
   "metadata": {},
   "source": [
    "##### Select the Close price of Microsoft, IBM and Ebay, between June 10th and June 14th, 2008?"
   ]
  },
  {
   "cell_type": "code",
   "execution_count": 43,
   "metadata": {},
   "outputs": [
    {
     "data": {
      "text/plain": [
       "Date        Stock\n",
       "2008-06-10  ebay      12.197\n",
       "            ibm      105.170\n",
       "            msft      23.389\n",
       "2008-06-11  ebay      11.667\n",
       "            ibm      102.920\n",
       "            msft      22.744\n",
       "2008-06-12  ebay      11.818\n",
       "            ibm      103.420\n",
       "            msft      23.682\n",
       "2008-06-13  ebay      11.944\n",
       "            ibm      105.350\n",
       "            msft      24.377\n",
       "Name: Close, dtype: float64"
      ]
     },
     "execution_count": 43,
     "metadata": {},
     "output_type": "execute_result"
    }
   ],
   "source": [
    "close_prices_tech_3 = data.loc[idx['June 10th, 2008':'June 14th, 2008', ['msft', 'ibm' ,'ebay']], 'Close']\n",
    "\n",
    "close_prices_tech_3"
   ]
  },
  {
   "cell_type": "markdown",
   "metadata": {},
   "source": [
    "##### Once you have the data at this stage, you can [unstack](https://pandas.pydata.org/pandas-docs/stable/generated/pandas.DataFrame.unstack.html). \n",
    "\n",
    "Unstack essentially takes the first level of the index and keeps it as the index, and takes the second level and makes it the columns. "
   ]
  },
  {
   "cell_type": "code",
   "execution_count": 44,
   "metadata": {},
   "outputs": [
    {
     "data": {
      "text/html": [
       "<div>\n",
       "<style scoped>\n",
       "    .dataframe tbody tr th:only-of-type {\n",
       "        vertical-align: middle;\n",
       "    }\n",
       "\n",
       "    .dataframe tbody tr th {\n",
       "        vertical-align: top;\n",
       "    }\n",
       "\n",
       "    .dataframe thead th {\n",
       "        text-align: right;\n",
       "    }\n",
       "</style>\n",
       "<table border=\"1\" class=\"dataframe\">\n",
       "  <thead>\n",
       "    <tr style=\"text-align: right;\">\n",
       "      <th>Stock</th>\n",
       "      <th>ebay</th>\n",
       "      <th>ibm</th>\n",
       "      <th>msft</th>\n",
       "    </tr>\n",
       "    <tr>\n",
       "      <th>Date</th>\n",
       "      <th></th>\n",
       "      <th></th>\n",
       "      <th></th>\n",
       "    </tr>\n",
       "  </thead>\n",
       "  <tbody>\n",
       "    <tr>\n",
       "      <th>2008-06-10</th>\n",
       "      <td>12.197</td>\n",
       "      <td>105.17</td>\n",
       "      <td>23.389</td>\n",
       "    </tr>\n",
       "    <tr>\n",
       "      <th>2008-06-11</th>\n",
       "      <td>11.667</td>\n",
       "      <td>102.92</td>\n",
       "      <td>22.744</td>\n",
       "    </tr>\n",
       "    <tr>\n",
       "      <th>2008-06-12</th>\n",
       "      <td>11.818</td>\n",
       "      <td>103.42</td>\n",
       "      <td>23.682</td>\n",
       "    </tr>\n",
       "    <tr>\n",
       "      <th>2008-06-13</th>\n",
       "      <td>11.944</td>\n",
       "      <td>105.35</td>\n",
       "      <td>24.377</td>\n",
       "    </tr>\n",
       "  </tbody>\n",
       "</table>\n",
       "</div>"
      ],
      "text/plain": [
       "Stock         ebay     ibm    msft\n",
       "Date                              \n",
       "2008-06-10  12.197  105.17  23.389\n",
       "2008-06-11  11.667  102.92  22.744\n",
       "2008-06-12  11.818  103.42  23.682\n",
       "2008-06-13  11.944  105.35  24.377"
      ]
     },
     "execution_count": 44,
     "metadata": {},
     "output_type": "execute_result"
    }
   ],
   "source": [
    "close_prices_tech_3.unstack()"
   ]
  },
  {
   "cell_type": "markdown",
   "metadata": {},
   "source": [
    "Remember that if you're going to be indexing a certain interval several times it's probably better to create a python slice:"
   ]
  },
  {
   "cell_type": "code",
   "execution_count": 70,
   "metadata": {},
   "outputs": [
    {
     "data": {
      "text/plain": [
       "Date        Stock\n",
       "2008-06-10  ebay      12.197\n",
       "            ibm      105.170\n",
       "            msft      23.389\n",
       "2008-06-11  ebay      11.667\n",
       "            ibm      102.920\n",
       "            msft      22.744\n",
       "2008-06-12  ebay      11.818\n",
       "            ibm      103.420\n",
       "            msft      23.682\n",
       "2008-06-13  ebay      11.944\n",
       "            ibm      105.350\n",
       "            msft      24.377\n",
       "Name: Close, dtype: float64"
      ]
     },
     "execution_count": 70,
     "metadata": {},
     "output_type": "execute_result"
    }
   ],
   "source": [
    "interval = slice('June 10th, 2008','June 14th, 2008')\n",
    "data.loc[idx[interval, ['msft', 'ibm' ,'ebay']], 'Close']"
   ]
  },
  {
   "cell_type": "markdown",
   "metadata": {},
   "source": [
    "#### Working with the index directly "
   ]
  },
  {
   "cell_type": "markdown",
   "metadata": {},
   "source": [
    "For fun, we can also ask questions such as: \n",
    "> _\"What was the average price of stocks on Mondays?\"_ "
   ]
  },
  {
   "cell_type": "markdown",
   "metadata": {},
   "source": [
    "For this we will use a boolean mask, and a new method, [get_level_values](https://www.google.com/url?sa=t&rct=j&q=&esrc=s&source=web&cd=1&cad=rja&uact=8&ved=0ahUKEwjTisXGrOjaAhXHzRQKHSfJCq8QFggpMAA&url=https%3A%2F%2Fpandas.pydata.org%2Fpandas-docs%2Fstable%2Fgenerated%2Fpandas.Index.get_level_values.html&usg=AOvVaw3XDga7SdrZkID3lvOtiaDz)"
   ]
  },
  {
   "cell_type": "code",
   "execution_count": 45,
   "metadata": {
    "scrolled": true
   },
   "outputs": [
    {
     "name": "stdout",
     "output_type": "stream",
     "text": [
      "Mean Monday price: 49.90\n"
     ]
    }
   ],
   "source": [
    "# Make a boolean mask, as to whether the day is Monday. \n",
    "# Notice two things: \n",
    "# 1. the use of get_level_values(0), to get the index at the dates level\n",
    "# 2. the use of .weekday_name directly on the index (no need for .dt)\n",
    "is_monday = data.index.get_level_values(0).day_name() == 'Monday'\n",
    "\n",
    "# Now use that boolean mask to get the data for Mondays, then get the mean close price\n",
    "mondays_data = data.loc[is_monday].Close.mean()\n",
    "\n",
    "print('Mean Monday price: %0.2f' % mondays_data)"
   ]
  },
  {
   "cell_type": "markdown",
   "metadata": {},
   "source": [
    "## Plotting \n",
    "#### (and why `xs` is sometimes a useful alternative) "
   ]
  },
  {
   "cell_type": "markdown",
   "metadata": {},
   "source": [
    "##### Plot the close prices for Microsoft:"
   ]
  },
  {
   "cell_type": "markdown",
   "metadata": {},
   "source": [
    "Using the previous approach, let's try to make a plot:"
   ]
  },
  {
   "cell_type": "code",
   "execution_count": 47,
   "metadata": {},
   "outputs": [
    {
     "data": {
      "text/plain": [
       "<matplotlib.axes._subplots.AxesSubplot at 0x111cf4c50>"
      ]
     },
     "execution_count": 47,
     "metadata": {},
     "output_type": "execute_result"
    },
    {
     "data": {
      "image/png": "[encoded data removed]",
      "text/plain": [
       "<Figure size 1152x288 with 1 Axes>"
      ]
     },
     "metadata": {
      "needs_background": "light"
     },
     "output_type": "display_data"
    }
   ],
   "source": [
    "data.loc[idx[:, 'msft'], 'Close'].plot()"
   ]
  },
  {
   "cell_type": "markdown",
   "metadata": {},
   "source": [
    "Well that's annoying, it didn't make a pretty X axis with the dates, because the index is date, stock. "
   ]
  },
  {
   "cell_type": "markdown",
   "metadata": {},
   "source": [
    "The reason is slightly annoying: even though we only have msft in the index, it still exists: "
   ]
  },
  {
   "cell_type": "code",
   "execution_count": 48,
   "metadata": {},
   "outputs": [
    {
     "data": {
      "text/plain": [
       "Date        Stock\n",
       "2007-01-03  msft     25.041\n",
       "2007-01-04  msft     24.998\n",
       "2007-01-05  msft     24.856\n",
       "2007-01-08  msft     25.099\n",
       "2007-01-09  msft     25.123\n",
       "Name: Close, dtype: float64"
      ]
     },
     "execution_count": 48,
     "metadata": {},
     "output_type": "execute_result"
    }
   ],
   "source": [
    "data.loc[idx[:, 'msft'], 'Close'].head(5)"
   ]
  },
  {
   "cell_type": "markdown",
   "metadata": {},
   "source": [
    "One hacky way to do this would be to say \"ok fine, just make the index the dates, and then plot it\":"
   ]
  },
  {
   "cell_type": "code",
   "execution_count": 49,
   "metadata": {},
   "outputs": [
    {
     "data": {
      "text/plain": [
       "Date        Stock\n",
       "2007-01-03  msft     25.041\n",
       "2007-01-04  msft     24.998\n",
       "Name: Close, dtype: float64"
      ]
     },
     "execution_count": 49,
     "metadata": {},
     "output_type": "execute_result"
    }
   ],
   "source": [
    "msft_close = data.loc[idx[:, 'msft'], 'Close']\n",
    "\n",
    "msft_close.head(2)"
   ]
  },
  {
   "cell_type": "markdown",
   "metadata": {},
   "source": [
    "Now we can actually change the index by hand, and say we just want that level: "
   ]
  },
  {
   "cell_type": "code",
   "execution_count": 50,
   "metadata": {},
   "outputs": [
    {
     "data": {
      "text/plain": [
       "Date\n",
       "2007-01-03    25.041\n",
       "2007-01-04    24.998\n",
       "Name: Close, dtype: float64"
      ]
     },
     "execution_count": 50,
     "metadata": {},
     "output_type": "execute_result"
    }
   ],
   "source": [
    "msft_close.index = msft_close.index.get_level_values('Date')\n",
    "msft_close.head(2)"
   ]
  },
  {
   "cell_type": "markdown",
   "metadata": {},
   "source": [
    "And now finally do our pretty plot: "
   ]
  },
  {
   "cell_type": "code",
   "execution_count": 51,
   "metadata": {},
   "outputs": [
    {
     "data": {
      "text/plain": [
       "<matplotlib.axes._subplots.AxesSubplot at 0x1140847d0>"
      ]
     },
     "execution_count": 51,
     "metadata": {},
     "output_type": "execute_result"
    },
    {
     "data": {
      "image/png": "[encoded data removed]",
      "text/plain": [
       "<Figure size 1152x288 with 1 Axes>"
      ]
     },
     "metadata": {
      "needs_background": "light"
     },
     "output_type": "display_data"
    }
   ],
   "source": [
    "msft_close.plot()"
   ]
  },
  {
   "cell_type": "markdown",
   "metadata": {},
   "source": [
    "However there is another way, which is to use cross sections, with [`xs`](https://pandas.pydata.org/pandas-docs/stable/generated/pandas.DataFrame.xs.html): "
   ]
  },
  {
   "cell_type": "code",
   "execution_count": 52,
   "metadata": {},
   "outputs": [
    {
     "data": {
      "text/html": [
       "<div>\n",
       "<style scoped>\n",
       "    .dataframe tbody tr th:only-of-type {\n",
       "        vertical-align: middle;\n",
       "    }\n",
       "\n",
       "    .dataframe tbody tr th {\n",
       "        vertical-align: top;\n",
       "    }\n",
       "\n",
       "    .dataframe thead th {\n",
       "        text-align: right;\n",
       "    }\n",
       "</style>\n",
       "<table border=\"1\" class=\"dataframe\">\n",
       "  <thead>\n",
       "    <tr style=\"text-align: right;\">\n",
       "      <th></th>\n",
       "      <th>Open</th>\n",
       "      <th>High</th>\n",
       "      <th>Low</th>\n",
       "      <th>Close</th>\n",
       "      <th>Volume</th>\n",
       "    </tr>\n",
       "    <tr>\n",
       "      <th>Date</th>\n",
       "      <th></th>\n",
       "      <th></th>\n",
       "      <th></th>\n",
       "      <th></th>\n",
       "      <th></th>\n",
       "    </tr>\n",
       "  </thead>\n",
       "  <tbody>\n",
       "    <tr>\n",
       "      <th>2007-01-03</th>\n",
       "      <td>25.073</td>\n",
       "      <td>25.367</td>\n",
       "      <td>24.655</td>\n",
       "      <td>25.041</td>\n",
       "      <td>91732862</td>\n",
       "    </tr>\n",
       "    <tr>\n",
       "      <th>2007-01-04</th>\n",
       "      <td>24.898</td>\n",
       "      <td>25.132</td>\n",
       "      <td>24.688</td>\n",
       "      <td>24.998</td>\n",
       "      <td>54581739</td>\n",
       "    </tr>\n",
       "    <tr>\n",
       "      <th>2007-01-05</th>\n",
       "      <td>24.832</td>\n",
       "      <td>24.948</td>\n",
       "      <td>24.697</td>\n",
       "      <td>24.856</td>\n",
       "      <td>53189559</td>\n",
       "    </tr>\n",
       "    <tr>\n",
       "      <th>2007-01-08</th>\n",
       "      <td>24.864</td>\n",
       "      <td>25.242</td>\n",
       "      <td>24.764</td>\n",
       "      <td>25.099</td>\n",
       "      <td>59801289</td>\n",
       "    </tr>\n",
       "    <tr>\n",
       "      <th>2007-01-09</th>\n",
       "      <td>25.141</td>\n",
       "      <td>25.308</td>\n",
       "      <td>24.930</td>\n",
       "      <td>25.123</td>\n",
       "      <td>53215396</td>\n",
       "    </tr>\n",
       "  </tbody>\n",
       "</table>\n",
       "</div>"
      ],
      "text/plain": [
       "              Open    High     Low   Close    Volume\n",
       "Date                                                \n",
       "2007-01-03  25.073  25.367  24.655  25.041  91732862\n",
       "2007-01-04  24.898  25.132  24.688  24.998  54581739\n",
       "2007-01-05  24.832  24.948  24.697  24.856  53189559\n",
       "2007-01-08  24.864  25.242  24.764  25.099  59801289\n",
       "2007-01-09  25.141  25.308  24.930  25.123  53215396"
      ]
     },
     "execution_count": 52,
     "metadata": {},
     "output_type": "execute_result"
    }
   ],
   "source": [
    "data.xs('msft',                       # <---- msft\n",
    "        level='Stock',                # <---- which is at index level \"Stock\"\n",
    "        drop_level=True).head()       # <---- Get rid of the level, so that the index shows the dates"
   ]
  },
  {
   "cell_type": "markdown",
   "metadata": {},
   "source": [
    "And now, plot it! "
   ]
  },
  {
   "cell_type": "code",
   "execution_count": 53,
   "metadata": {},
   "outputs": [
    {
     "data": {
      "text/plain": [
       "<matplotlib.axes._subplots.AxesSubplot at 0x114100910>"
      ]
     },
     "execution_count": 53,
     "metadata": {},
     "output_type": "execute_result"
    },
    {
     "data": {
      "image/png": "[encoded data removed]",
      "text/plain": [
       "<Figure size 1152x288 with 1 Axes>"
      ]
     },
     "metadata": {
      "needs_background": "light"
     },
     "output_type": "display_data"
    }
   ],
   "source": [
    "data.xs('msft', level='Stock', drop_level=True).Close.plot()"
   ]
  },
  {
   "cell_type": "markdown",
   "metadata": {},
   "source": [
    "As with so much in Pandas, there is more than one way to do things, and you will probably run into `xs(...)` sometimes, `loc[idx[...]]` other times. \n",
    "\n",
    "A suggestions is to get used to using `loc`, as it is more general and more powerful, but to know that when you get stuck, you can always pick up an alternative (you'll see a lot of `xs` in StackOverflow answers)"
   ]
  },
  {
   "cell_type": "markdown",
   "metadata": {},
   "source": [
    "## Groupby, and operations "
   ]
  },
  {
   "cell_type": "markdown",
   "metadata": {},
   "source": [
    "After this detour, let's get back to our main dataset: "
   ]
  },
  {
   "cell_type": "code",
   "execution_count": 54,
   "metadata": {},
   "outputs": [
    {
     "data": {
      "text/html": [
       "<div>\n",
       "<style scoped>\n",
       "    .dataframe tbody tr th:only-of-type {\n",
       "        vertical-align: middle;\n",
       "    }\n",
       "\n",
       "    .dataframe tbody tr th {\n",
       "        vertical-align: top;\n",
       "    }\n",
       "\n",
       "    .dataframe thead th {\n",
       "        text-align: right;\n",
       "    }\n",
       "</style>\n",
       "<table border=\"1\" class=\"dataframe\">\n",
       "  <thead>\n",
       "    <tr style=\"text-align: right;\">\n",
       "      <th></th>\n",
       "      <th></th>\n",
       "      <th>Open</th>\n",
       "      <th>High</th>\n",
       "      <th>Low</th>\n",
       "      <th>Close</th>\n",
       "      <th>Volume</th>\n",
       "    </tr>\n",
       "    <tr>\n",
       "      <th>Date</th>\n",
       "      <th>Stock</th>\n",
       "      <th></th>\n",
       "      <th></th>\n",
       "      <th></th>\n",
       "      <th></th>\n",
       "      <th></th>\n",
       "    </tr>\n",
       "  </thead>\n",
       "  <tbody>\n",
       "    <tr>\n",
       "      <th rowspan=\"3\" valign=\"top\">2007-01-03</th>\n",
       "      <th>aap</th>\n",
       "      <td>35.139</td>\n",
       "      <td>35.621</td>\n",
       "      <td>34.527</td>\n",
       "      <td>35.011</td>\n",
       "      <td>776642</td>\n",
       "    </tr>\n",
       "    <tr>\n",
       "      <th>abb</th>\n",
       "      <td>13.422</td>\n",
       "      <td>13.429</td>\n",
       "      <td>13.105</td>\n",
       "      <td>13.192</td>\n",
       "      <td>4030670</td>\n",
       "    </tr>\n",
       "    <tr>\n",
       "      <th>achn</th>\n",
       "      <td>16.430</td>\n",
       "      <td>17.280</td>\n",
       "      <td>16.060</td>\n",
       "      <td>17.280</td>\n",
       "      <td>55226</td>\n",
       "    </tr>\n",
       "  </tbody>\n",
       "</table>\n",
       "</div>"
      ],
      "text/plain": [
       "                    Open    High     Low   Close   Volume\n",
       "Date       Stock                                         \n",
       "2007-01-03 aap    35.139  35.621  34.527  35.011   776642\n",
       "           abb    13.422  13.429  13.105  13.192  4030670\n",
       "           achn   16.430  17.280  16.060  17.280    55226"
      ]
     },
     "execution_count": 54,
     "metadata": {},
     "output_type": "execute_result"
    }
   ],
   "source": [
    "data.head(3)"
   ]
  },
  {
   "cell_type": "markdown",
   "metadata": {},
   "source": [
    "Let's think about the following question. We want to calculate the percentage difference, from day to day. \n",
    "\n",
    "Can we just sort the data by stock, and then do `.pct_change`?  (spoiler alert: the answer is going to be \"No\")"
   ]
  },
  {
   "cell_type": "code",
   "execution_count": 55,
   "metadata": {},
   "outputs": [
    {
     "data": {
      "text/plain": [
       "Date        Stock\n",
       "2007-01-03  aap           NaN\n",
       "2007-01-04  aap      0.006455\n",
       "2007-01-05  aap     -0.022136\n",
       "2007-01-08  aap      0.003454\n",
       "2007-01-09  aap      0.008561\n",
       "Name: Close, dtype: float64"
      ]
     },
     "execution_count": 55,
     "metadata": {},
     "output_type": "execute_result"
    }
   ],
   "source": [
    "data.sort_index(level=['Stock', 'Date']).Close.pct_change().head()"
   ]
  },
  {
   "cell_type": "markdown",
   "metadata": {},
   "source": [
    "So seems sensible enough... \n",
    "\n",
    "However, let's inspect a row where we transition from one stock to the other:"
   ]
  },
  {
   "cell_type": "code",
   "execution_count": 56,
   "metadata": {},
   "outputs": [
    {
     "data": {
      "text/plain": [
       "Date        Stock\n",
       "2010-12-29  aap      0.003022\n",
       "2010-12-30  aap      0.004068\n",
       "2010-12-31  aap     -0.008545\n",
       "2007-01-03  abb     -0.797327\n",
       "2007-01-04  abb     -0.031762\n",
       "2007-01-05  abb     -0.018790\n",
       "Name: Close, dtype: float64"
      ]
     },
     "execution_count": 56,
     "metadata": {},
     "output_type": "execute_result"
    }
   ],
   "source": [
    "# how long is stock 1?\n",
    "end_of_first_stock = len(data.loc[idx[:, 'aap'], :])\n",
    "# show the transition point:\n",
    "data.sort_index(level=['Stock', 'Date']).Close.pct_change().iloc[end_of_first_stock - 3: end_of_first_stock + 3]"
   ]
  },
  {
   "cell_type": "markdown",
   "metadata": {},
   "source": [
    "So what did we do on that transition? We subtracted one stock, on one day, to another stock on a different year! "
   ]
  },
  {
   "cell_type": "markdown",
   "metadata": {},
   "source": [
    "**What's the right way to do this?** _(well, the chapter IS called Groupby...)_"
   ]
  },
  {
   "cell_type": "code",
   "execution_count": 57,
   "metadata": {},
   "outputs": [
    {
     "data": {
      "text/plain": [
       "Date        Stock\n",
       "2007-01-03  aap     NaN\n",
       "            abb     NaN\n",
       "            achn    NaN\n",
       "            achv    NaN\n",
       "            adm     NaN\n",
       "Name: Close, dtype: float64"
      ]
     },
     "execution_count": 57,
     "metadata": {},
     "output_type": "execute_result"
    }
   ],
   "source": [
    "# group by the stock, and then take the Close, and calculate percentage change \n",
    "data.groupby(level='Stock').Close.pct_change().head()"
   ]
  },
  {
   "cell_type": "markdown",
   "metadata": {},
   "source": [
    "Wait what? Oh, right. On the first day, there isn't a previous day to calculate change. Let's take a look at another day: "
   ]
  },
  {
   "cell_type": "code",
   "execution_count": 58,
   "metadata": {},
   "outputs": [
    {
     "data": {
      "text/plain": [
       "Date        Stock\n",
       "2008-05-05  aap     -0.018962\n",
       "            abb      0.004548\n",
       "            achn     0.045946\n",
       "            achv     0.020468\n",
       "            adm      0.003425\n",
       "Name: Close, dtype: float64"
      ]
     },
     "execution_count": 58,
     "metadata": {},
     "output_type": "execute_result"
    }
   ],
   "source": [
    "# exceptionally I'm using the \"lazy\" way to do loc here, for the sake of simplicity:\n",
    "\n",
    "data.groupby(level='Stock').Close.pct_change().loc['May 5th 2008'].head()"
   ]
  },
  {
   "cell_type": "markdown",
   "metadata": {},
   "source": [
    "Let's manually check this. What was the price for `abb` on `2008-05-05`?"
   ]
  },
  {
   "cell_type": "code",
   "execution_count": 59,
   "metadata": {},
   "outputs": [
    {
     "data": {
      "text/plain": [
       "Date        Stock\n",
       "2008-05-05  abb      22.97\n",
       "Name: Close, dtype: float64"
      ]
     },
     "execution_count": 59,
     "metadata": {},
     "output_type": "execute_result"
    }
   ],
   "source": [
    "data.loc[idx['May 5th 2008', 'abb'], 'Close']"
   ]
  },
  {
   "cell_type": "markdown",
   "metadata": {},
   "source": [
    "And on the previous day? "
   ]
  },
  {
   "cell_type": "code",
   "execution_count": 60,
   "metadata": {},
   "outputs": [
    {
     "data": {
      "text/plain": [
       "Series([], Name: Close, dtype: float64)"
      ]
     },
     "execution_count": 60,
     "metadata": {},
     "output_type": "execute_result"
    }
   ],
   "source": [
    "data.loc[idx['May 4th 2008', 'abb'], 'Close']"
   ]
  },
  {
   "cell_type": "markdown",
   "metadata": {},
   "source": [
    "Uuuhh... no data on that day! Which makes it particularly cool that Pandas figures out on its own to look on the previous day where there is some data. "
   ]
  },
  {
   "cell_type": "code",
   "execution_count": 61,
   "metadata": {
    "scrolled": true
   },
   "outputs": [
    {
     "data": {
      "text/plain": [
       "Date        Stock\n",
       "2008-05-02  abb      22.866\n",
       "2008-05-05  abb      22.970\n",
       "Name: Close, dtype: float64"
      ]
     },
     "execution_count": 61,
     "metadata": {},
     "output_type": "execute_result"
    }
   ],
   "source": [
    "data.loc[idx['May 2th 2008': 'May 5th 2008', 'abb'], 'Close']"
   ]
  },
  {
   "cell_type": "markdown",
   "metadata": {},
   "source": [
    "What is the percentage change between the two days? "
   ]
  },
  {
   "cell_type": "code",
   "execution_count": 62,
   "metadata": {},
   "outputs": [
    {
     "name": "stdout",
     "output_type": "stream",
     "text": [
      "Percentage change between the consecutive days: 0.004548:\n"
     ]
    }
   ],
   "source": [
    "print('Percentage change between the consecutive days: %0.6f:' % ((22.970 - 22.866) / 22.866))"
   ]
  },
  {
   "cell_type": "markdown",
   "metadata": {},
   "source": [
    "Which is exactly what we got! "
   ]
  },
  {
   "cell_type": "markdown",
   "metadata": {},
   "source": [
    "# A few other notes on multi-indexing "
   ]
  },
  {
   "cell_type": "markdown",
   "metadata": {},
   "source": [
    "Multi-indexing, and particularly multi-indexing with time series is a giant world. There are many redundant ways to do things, and it is not our intention to make you learn every single method out there.   \n",
    "\n",
    "There are way too many redundant ways to do things, and most of the time you can simply hack around obstacles without adding more tools. \n",
    "\n",
    "The objective here is to give you enough tools to solve 80% of the problems, and know where to look on the other 20%   \n",
    "\n",
    "We talked about mutli-indexing at the row level, but we can also do multi-indexing at column level!  Not done here to avoid unnecessary complexity. There be dragons. Dragons with machine guns. \n",
    "\n",
    "There are a LOT of wrong and obsolete answers out there. Be a bit cynical when reading stackoverflow answers, or old blog posts. Many things are already deprecated, and lots of answers that you will find out there don't actually work.   \n",
    "\n",
    "You now know the basics of Multi-indexing in time series. That makes you part of a pretty small group of people who have studied this intimidating field. Consider yourself initiated, and sworn to a secret illuminati society.   "
   ]
  },
  {
   "cell_type": "markdown",
   "metadata": {},
   "source": [
    "References: \n",
    "\n",
    "- [Somebits](https://www.somebits.com/~nelson/pandas-multiindex-slice-demo.html)\n",
    "- [Pandas multi-index documentation](http://pandas.pydata.org/pandas-docs/stable/advanced.html#multiindex-advanced-indexing)"
   ]
  },
  {
   "cell_type": "markdown",
   "metadata": {},
   "source": [
    "-----"
   ]
  },
  {
   "cell_type": "markdown",
   "metadata": {},
   "source": [
    "### **Summary of the methods we have learnt in this unit:**\n",
    "* `loc` - loc allows you to select by doing `dataframe.loc[index, columns]`\n",
    "* We can use idx = `pd.IndexSlice` so that we don't have to use `slice()` all over the place. This will take slices from the index \n",
    "* Selecting from multi-index: `dataframe.loc[idx[index_level_0, index_level_1], columns]`\n",
    "* Groupby different levels: `dataframe.groupby(level=<level_you_want>).mean()` -> Remember you need an aggregation function after groupby. \n",
    "* Finding the first occurrence of the min or the max: `idxmin()` or `idxmax()`\n",
    "* Aggregate by more than one method at a time: `agg()`\n",
    "* Put one of the multi-index level into columns: `unstack()`\n",
    "* Using cross sections: `xs()`\n",
    "\n",
    "### **A few examples:** \n",
    "\n",
    "    * An example we have seen: `food.loc[idx['Dingo Poce', :], :]`\n",
    "    * Slicing multi-index: `food.loc[idx['Incontinente', 'Bananas': 'Rice'], 'Quality']`\n",
    "    * groupby Product and get the minimum Price: `food.groupby(level='Product').Price.min()`\n",
    "    * Aggregate by more than one method: `food.groupby(level='Product').agg({'Price':['idxmin', 'min']})`\n",
    "    * Example of unstack: `data.loc[idx['June 10th, 2008':'June 14th, 2008', ['msft', 'ibm' ,'ebay']],'Close'].unstack()`\n",
    "    * Example of cross sections: `data.xs('msft', level='Stock', drop_level=True)`"
   ]
  },
  {
   "cell_type": "markdown",
   "metadata": {},
   "source": [
    "-----"
   ]
  },
  {
   "cell_type": "markdown",
   "metadata": {},
   "source": [
    "### Optional section (groupby with lambda functions)"
   ]
  },
  {
   "cell_type": "code",
   "execution_count": 63,
   "metadata": {},
   "outputs": [
    {
     "data": {
      "text/plain": [
       "Product\n",
       "Apples         [(Dingo Poce, Apples), (Dumbo, Apples)]\n",
       "Bananas                      [(Incontinente, Bananas)]\n",
       "Dog food                           [(Dumbo, Dog food)]\n",
       "Olives                        [(Incontinente, Olives)]\n",
       "Rice        [(Dingo Poce, Rice), (Incontinente, Rice)]\n",
       "Name: Price, dtype: object"
      ]
     },
     "execution_count": 63,
     "metadata": {},
     "output_type": "execute_result"
    }
   ],
   "source": [
    "food.groupby(level='Product').Price.agg(lambda x: list(x.loc[x == x.min()].index))"
   ]
  },
  {
   "cell_type": "markdown",
   "metadata": {},
   "source": [
    "We might also want to aggregate by more than one method at the time: "
   ]
  },
  {
   "cell_type": "code",
   "execution_count": 64,
   "metadata": {},
   "outputs": [
    {
     "data": {
      "text/html": [
       "<div>\n",
       "<style scoped>\n",
       "    .dataframe tbody tr th:only-of-type {\n",
       "        vertical-align: middle;\n",
       "    }\n",
       "\n",
       "    .dataframe tbody tr th {\n",
       "        vertical-align: top;\n",
       "    }\n",
       "\n",
       "    .dataframe thead tr th {\n",
       "        text-align: left;\n",
       "    }\n",
       "\n",
       "    .dataframe thead tr:last-of-type th {\n",
       "        text-align: right;\n",
       "    }\n",
       "</style>\n",
       "<table border=\"1\" class=\"dataframe\">\n",
       "  <thead>\n",
       "    <tr>\n",
       "      <th></th>\n",
       "      <th colspan=\"2\" halign=\"left\">Price</th>\n",
       "    </tr>\n",
       "    <tr>\n",
       "      <th></th>\n",
       "      <th>idxmin</th>\n",
       "      <th>min</th>\n",
       "    </tr>\n",
       "    <tr>\n",
       "      <th>Product</th>\n",
       "      <th></th>\n",
       "      <th></th>\n",
       "    </tr>\n",
       "  </thead>\n",
       "  <tbody>\n",
       "    <tr>\n",
       "      <th>Apples</th>\n",
       "      <td>(Dingo Poce, Apples)</td>\n",
       "      <td>2.0</td>\n",
       "    </tr>\n",
       "    <tr>\n",
       "      <th>Bananas</th>\n",
       "      <td>(Incontinente, Bananas)</td>\n",
       "      <td>2.0</td>\n",
       "    </tr>\n",
       "    <tr>\n",
       "      <th>Dog food</th>\n",
       "      <td>(Dumbo, Dog food)</td>\n",
       "      <td>1.0</td>\n",
       "    </tr>\n",
       "    <tr>\n",
       "      <th>Olives</th>\n",
       "      <td>(Incontinente, Olives)</td>\n",
       "      <td>4.0</td>\n",
       "    </tr>\n",
       "    <tr>\n",
       "      <th>Rice</th>\n",
       "      <td>(Dingo Poce, Rice)</td>\n",
       "      <td>1.0</td>\n",
       "    </tr>\n",
       "  </tbody>\n",
       "</table>\n",
       "</div>"
      ],
      "text/plain": [
       "                            Price     \n",
       "                           idxmin  min\n",
       "Product                               \n",
       "Apples       (Dingo Poce, Apples)  2.0\n",
       "Bananas   (Incontinente, Bananas)  2.0\n",
       "Dog food        (Dumbo, Dog food)  1.0\n",
       "Olives     (Incontinente, Olives)  4.0\n",
       "Rice           (Dingo Poce, Rice)  1.0"
      ]
     },
     "execution_count": 64,
     "metadata": {},
     "output_type": "execute_result"
    }
   ],
   "source": [
    "food.groupby(level='Product').agg({'Price':['idxmin', 'min']})"
   ]
  },
  {
   "cell_type": "markdown",
   "metadata": {},
   "source": [
    "Sometimes the level of complexity leads to [this conclusion](https://youtu.be/syhlPzqEpkE?t=28s)"
   ]
  },
  {
   "cell_type": "markdown",
   "metadata": {},
   "source": [
    "###  End of optional section"
   ]
  }
 ],
 "metadata": {
  "kernelspec": {
   "display_name": "Python 3",
   "language": "python",
   "name": "python3"
  },
  "language_info": {
   "codemirror_mode": {
    "name": "ipython",
    "version": 3
   },
   "file_extension": ".py",
   "mimetype": "text/x-python",
   "name": "python",
   "nbconvert_exporter": "python",
   "pygments_lexer": "ipython3",
   "version": "3.7.3"
  },
  "toc": {
   "base_numbering": 1,
   "nav_menu": {},
   "number_sections": false,
   "sideBar": true,
   "skip_h1_title": false,
   "title_cell": "Table of Contents",
   "title_sidebar": "Contents",
   "toc_cell": false,
   "toc_position": {},
   "toc_section_display": true,
   "toc_window_display": true
  }
 },
 "nbformat": 4,
 "nbformat_minor": 2
}
