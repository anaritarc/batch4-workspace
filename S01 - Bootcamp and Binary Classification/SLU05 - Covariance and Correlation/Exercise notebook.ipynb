{
 "cells": [
  {
   "cell_type": "markdown",
   "metadata": {
    "deletable": false,
    "editable": false,
    "nbgrader": {
     "grade": false,
     "grade_id": "cell-ffd19da8ad9eb287",
     "locked": true,
     "schema_version": 3,
     "solution": false
    }
   },
   "source": [
    "# SLU 05 - Covariance and Correlation: Exercise notebook"
   ]
  },
  {
   "cell_type": "code",
   "execution_count": 4,
   "metadata": {
    "deletable": false,
    "editable": false,
    "nbgrader": {
     "grade": false,
     "grade_id": "cell-5db9010e5f96be4c",
     "locked": true,
     "schema_version": 3,
     "solution": false
    }
   },
   "outputs": [],
   "source": [
    "import pandas as pd \n",
    "import numpy as np \n",
    "import math \n",
    "import utils \n",
    "\n",
    "from matplotlib import pyplot as plt \n",
    "from utils import get_house_prices_and_rooms, plot_house_prices_and_rooms\n",
    "\n",
    "# this is for grading without showing the answers \n",
    "import hashlib\n",
    "def hash_answer(answer): \n",
    "    answer=str(answer)\n",
    "    return hashlib.sha256((answer).encode()).hexdigest()"
   ]
  },
  {
   "cell_type": "markdown",
   "metadata": {
    "deletable": false,
    "editable": false,
    "nbgrader": {
     "grade": false,
     "grade_id": "cell-4e02c47394f90045",
     "locked": true,
     "schema_version": 3,
     "solution": false
    }
   },
   "source": [
    "In this notebook you will practice the following: \n",
    "\n",
    "    - Covariance \n",
    "    - Pearson correlation\n",
    "    - Spearman correlation\n",
    "    - Correlation matrix\n",
    "    - Spurious correlations"
   ]
  },
  {
   "cell_type": "markdown",
   "metadata": {
    "deletable": false,
    "editable": false,
    "nbgrader": {
     "grade": false,
     "grade_id": "cell-eb64fecb75377742",
     "locked": true,
     "schema_version": 3,
     "solution": false
    }
   },
   "source": [
    "----"
   ]
  },
  {
   "cell_type": "markdown",
   "metadata": {
    "deletable": false,
    "editable": false,
    "nbgrader": {
     "grade": false,
     "grade_id": "cell-f10b687a642dbf13",
     "locked": true,
     "schema_version": 3,
     "solution": false
    }
   },
   "source": [
    "# Exercise 1: implement covariance \n",
    "Here you will implment covariance, by completing the following function.\n",
    "\n",
    "Don't worry too much about generalizing, this will be an extremely naïve implementation, just to get your hands dirty!\n",
    "\n",
    "Here is a quick reminder of the formula: \n",
    "$$ cov = \\frac{\\sum{(X - X_{avg})(Y - Y_{avg})}}{n-1} $$\n",
    "\n",
    "Where `n` is the number of points in either X or Y."
   ]
  },
  {
   "cell_type": "markdown",
   "metadata": {
    "deletable": false,
    "editable": false,
    "nbgrader": {
     "grade": false,
     "grade_id": "cell-37eedff00dee9dc8",
     "locked": true,
     "schema_version": 3,
     "solution": false
    }
   },
   "source": [
    "#### Implement the following: "
   ]
  },
  {
   "cell_type": "code",
   "execution_count": 29,
   "metadata": {
    "deletable": false,
    "nbgrader": {
     "grade": false,
     "grade_id": "cell-31802707a6bea6cf",
     "locked": false,
     "schema_version": 3,
     "solution": true
    }
   },
   "outputs": [],
   "source": [
    "def covariance_top_half(s1, s2):\n",
    "    \"\"\" \n",
    "    Top half of the fraction \n",
    "    \n",
    "    Args:\n",
    "        s1 (pd.Series): a pandas series \n",
    "        s2 (pd.Series): a pandas series (the same index and length as s1)\n",
    "\n",
    "    Returns:\n",
    "        top_half_value (float): value of the top half of the fraction \n",
    "    \"\"\"    \n",
    "    # Note: it is generally best to do this is multiple small steps \n",
    "    # e.g. start by making s1_avg, then later s1_minus_s1_avg, etc...\n",
    "    \n",
    "    # YOUR CODE HERE\n",
    "    s1_avg = s1.mean()\n",
    "    s1_minus_s1_avg = s1 - s1_avg\n",
    "\n",
    "    s2_avg = s2.mean()\n",
    "    s2_minus_s2_avg = s2 - s2_avg\n",
    "    \n",
    "    top_half_value = s1_minus_s1_avg * s2_minus_s2_avg\n",
    "    top_half_value = top_half_value.sum()\n",
    "    \n",
    "    return top_half_value\n",
    "\n",
    "def covariance_bottom_half(s1, s2):\n",
    "    \"\"\" \n",
    "    Bottom half of the fraction \n",
    "    \n",
    "    Args:\n",
    "        s1 (pd.Series): a pandas series \n",
    "        s2 (pd.Series): a pandas series (the same index and length as s1)\n",
    "\n",
    "    Returns:\n",
    "        bottom_half_value (float): value of the bottom half of the fraction \n",
    "    \"\"\"    \n",
    "    # YOUR CODE HERE\n",
    "    s1_size = s1.shape[0]\n",
    "    n_value = s1_size \n",
    "    bottom_half_value = n_value - 1\n",
    "    return bottom_half_value\n",
    "\n",
    "\n",
    "def covariance_by_hand(s1, s2):\n",
    "    top_half = covariance_top_half(s1, s2)\n",
    "    bottom_half = covariance_bottom_half(s1, s2)\n",
    "    return (top_half / bottom_half)\n",
    "\n"
   ]
  },
  {
   "cell_type": "code",
   "execution_count": 30,
   "metadata": {
    "deletable": false,
    "editable": false,
    "nbgrader": {
     "grade": false,
     "grade_id": "cell-a2975ec922a08f98",
     "locked": true,
     "schema_version": 3,
     "solution": false
    }
   },
   "outputs": [
    {
     "name": "stdout",
     "output_type": "stream",
     "text": [
      "Covariance by hand between a and b: 112.05\n"
     ]
    }
   ],
   "source": [
    "a = pd.Series([1, 5, 7, 10, 25])\n",
    "b = pd.Series([15, 30, 28, 45, 50])\n",
    "print('Covariance by hand between a and b: %0.02f' % covariance_by_hand(a, b))"
   ]
  },
  {
   "cell_type": "markdown",
   "metadata": {
    "deletable": false,
    "editable": false,
    "nbgrader": {
     "grade": false,
     "grade_id": "cell-fb01abfb8843985d",
     "locked": true,
     "schema_version": 3,
     "solution": false
    }
   },
   "source": [
    "Expected output:   \n",
    "\n",
    "    Covariance by hand between a and b: 112.05"
   ]
  },
  {
   "cell_type": "code",
   "execution_count": 31,
   "metadata": {
    "deletable": false,
    "editable": false,
    "nbgrader": {
     "grade": true,
     "grade_id": "cell-110d6cc4cdab8695",
     "locked": true,
     "points": 3,
     "schema_version": 3,
     "solution": false
    }
   },
   "outputs": [],
   "source": [
    "a = pd.Series([1, 5, 7, 10, 25])\n",
    "b = pd.Series([15, 30, 28, 45, 50]) \n",
    "c = pd.Series([22, 55, 23, 15, 92])\n",
    "assert math.isclose(covariance_bottom_half(a, b), 4)\n",
    "assert math.isclose(covariance_top_half(a, b), 448.2)\n",
    "assert math.isclose(covariance_by_hand(a, b), 112.05)\n",
    "assert math.isclose(covariance_by_hand(a, c), 230.2)"
   ]
  },
  {
   "cell_type": "markdown",
   "metadata": {
    "deletable": false,
    "editable": false,
    "nbgrader": {
     "grade": false,
     "grade_id": "cell-34d6949936535344",
     "locked": true,
     "schema_version": 3,
     "solution": false
    }
   },
   "source": [
    "# Exercise 2: implement pearson correlation\n",
    "\n",
    "Correlation is simply normalized covariance! \n",
    "\n",
    "$$ correlation = \\frac{covariance(X, Y)}{\\sqrt{Var(X) * Var(Y)}} $$\n",
    "\n",
    "_Important note: if for some reason you really like to use numpy instead of pandas, please use ddof = 1. If this sentence didn't mean anything to you, just use pandas :)_ "
   ]
  },
  {
   "cell_type": "markdown",
   "metadata": {
    "deletable": false,
    "editable": false,
    "nbgrader": {
     "grade": false,
     "grade_id": "cell-3157a3fa30feb0d3",
     "locked": true,
     "schema_version": 3,
     "solution": false
    }
   },
   "source": [
    "#### Complete here: "
   ]
  },
  {
   "cell_type": "code",
   "execution_count": 32,
   "metadata": {
    "deletable": false,
    "nbgrader": {
     "grade": false,
     "grade_id": "cell-7e2c47095ccc50ef",
     "locked": false,
     "schema_version": 3,
     "solution": true
    }
   },
   "outputs": [],
   "source": [
    "def pearson_correlation_by_hand(s1, s2): \n",
    "    \"\"\" \n",
    "    Naive implementation of pearson correlation\n",
    "    \n",
    "    Args:\n",
    "        s1 (pd.Series): a pandas series \n",
    "        s2 (pd.Series): a pandas series (the same index and length as s1)\n",
    "\n",
    "    Returns:\n",
    "        pearson correlation (float): the correlation between s1 and s2 \n",
    "\n",
    "    \"\"\"\n",
    "    \n",
    "    # clue: remember, you've already implemented a function the top half in exercise one \n",
    "    # clue: for the square root you can use np.sqrt(...)\n",
    "    \n",
    "    # YOUR CODE HERE\n",
    "\n",
    "    pearson_correlation = covariance_by_hand(s1, s2)/(np.sqrt(s1.var()*s2.var()))\n",
    "   \n",
    "    return pearson_correlation"
   ]
  },
  {
   "cell_type": "code",
   "execution_count": 33,
   "metadata": {
    "deletable": false,
    "editable": false,
    "nbgrader": {
     "grade": false,
     "grade_id": "cell-9086bbc15cf70597",
     "locked": true,
     "schema_version": 3,
     "solution": false,
     "task": false
    }
   },
   "outputs": [
    {
     "name": "stdout",
     "output_type": "stream",
     "text": [
      "Correlation by hand between a and b: 0.87\n"
     ]
    }
   ],
   "source": [
    "a = pd.Series([1, 5, 7, 10, 25])\n",
    "b = pd.Series([15, 30, 28, 45, 50])\n",
    "print('Correlation by hand between a and b: %0.02f' % pearson_correlation_by_hand(a, b))"
   ]
  },
  {
   "cell_type": "markdown",
   "metadata": {},
   "source": [
    "Expected output:   \n",
    "\n",
    "    Correlation by hand between a and b: 0.87"
   ]
  },
  {
   "cell_type": "code",
   "execution_count": 34,
   "metadata": {
    "deletable": false,
    "editable": false,
    "nbgrader": {
     "grade": true,
     "grade_id": "cell-b7ab9bd4e5aa2dfa",
     "locked": true,
     "points": 3,
     "schema_version": 3,
     "solution": false,
     "task": false
    }
   },
   "outputs": [],
   "source": [
    "assert round(pearson_correlation_by_hand(s1=pd.Series([2, 2, 7]), \n",
    "                                  s2=pd.Series([1, 12, 16])), 2) == .71"
   ]
  },
  {
   "cell_type": "markdown",
   "metadata": {
    "deletable": false,
    "editable": false,
    "nbgrader": {
     "grade": false,
     "grade_id": "cell-a77a4a95e67dcd84",
     "locked": true,
     "schema_version": 3,
     "solution": false
    }
   },
   "source": [
    "# Exercise 3: implement Spearman correlation \n",
    "Using your function `pearson_correlation_by_hand` calculate the Spearman correlation between `S1` and `S2`. \n",
    "\n",
    "So... what was Spearman correlation again?\n",
    "\n",
    "_Note: don't use the pandas `.corr` to solve this, that would be cheating ;)_"
   ]
  },
  {
   "cell_type": "code",
   "execution_count": 35,
   "metadata": {
    "deletable": false,
    "nbgrader": {
     "grade": false,
     "grade_id": "cell-c0748eb68560b07e",
     "locked": false,
     "schema_version": 3,
     "solution": true
    }
   },
   "outputs": [],
   "source": [
    "def spearman_correlation_using_pearson(s1, s2): \n",
    "    \"\"\" \n",
    "    Naive implementation of spearman correlation\n",
    "    \n",
    "    Args:\n",
    "        s1 (pd.Series): a pandas series \n",
    "        s2 (pd.Series): a pandas series (the same index and length as s1)\n",
    "\n",
    "    Returns:\n",
    "        spearman_correlation (float): the correlation between s1 and s2 \n",
    "\n",
    "    \"\"\"\n",
    "    \n",
    "    # \n",
    "    # do the right transformation to s1 and s2\n",
    "    # transformed_s1 = ...\n",
    "    # transformed_s2 = ...\n",
    "    # YOUR CODE HERE\n",
    "    transformed_s1 = s1.rank()\n",
    "    transformed_s2 = s2.rank()\n",
    "    \n",
    "    # Use your pearson_correlation_by_hand function to get the spearman correlation \n",
    "    # spearman_correlation = ...\n",
    "    # YOUR CODE HERE\n",
    "    spearman_correlation = pearson_correlation_by_hand(transformed_s1,transformed_s2)\n",
    "\n",
    "    return spearman_correlation"
   ]
  },
  {
   "cell_type": "code",
   "execution_count": 36,
   "metadata": {
    "deletable": false,
    "editable": false,
    "nbgrader": {
     "grade": false,
     "grade_id": "cell-b82c54b3dd3e690a",
     "locked": true,
     "schema_version": 3,
     "solution": false
    }
   },
   "outputs": [
    {
     "name": "stdout",
     "output_type": "stream",
     "text": [
      "Spearman correlation between a and b: 0.90\n"
     ]
    }
   ],
   "source": [
    "a = pd.Series([1, 5, 7, 10, 25])\n",
    "b = pd.Series([15, 30, 28, 45, 50])\n",
    "print('Spearman correlation between a and b: %0.02f' % \n",
    "      spearman_correlation_using_pearson(a, b))"
   ]
  },
  {
   "cell_type": "markdown",
   "metadata": {
    "deletable": false,
    "editable": false,
    "nbgrader": {
     "grade": false,
     "grade_id": "cell-78f6021d73b9c7d5",
     "locked": true,
     "schema_version": 3,
     "solution": false
    }
   },
   "source": [
    "Expected output:   \n",
    "\n",
    "    Spearman correlation between a and b: 0.90"
   ]
  },
  {
   "cell_type": "code",
   "execution_count": 37,
   "metadata": {
    "deletable": false,
    "editable": false,
    "nbgrader": {
     "grade": true,
     "grade_id": "cell-9c8a1bb04133d3d5",
     "locked": true,
     "points": 3,
     "schema_version": 3,
     "solution": false
    }
   },
   "outputs": [],
   "source": [
    "a = pd.Series([1, 5, 7, 10, 25])\n",
    "b = pd.Series([15, 30, 28, 45, 50])\n",
    "c = pd.Series([22, 55, 23, 15, 92])\n",
    "\n",
    "assert math.isclose(spearman_correlation_using_pearson(a, b), a.corr(b, method='spearman'), abs_tol=.1)\n",
    "assert math.isclose(spearman_correlation_using_pearson(b, c), b.corr(c, method='spearman'), abs_tol=.1)\n",
    "assert math.isclose(spearman_correlation_using_pearson(c, a), c.corr(a, method='spearman'), abs_tol=.1)"
   ]
  },
  {
   "cell_type": "markdown",
   "metadata": {
    "deletable": false,
    "editable": false,
    "nbgrader": {
     "grade": false,
     "grade_id": "cell-f6d048d12dae577d",
     "locked": true,
     "schema_version": 3,
     "solution": false
    }
   },
   "source": [
    "----"
   ]
  },
  {
   "cell_type": "markdown",
   "metadata": {
    "deletable": false,
    "editable": false,
    "nbgrader": {
     "grade": false,
     "grade_id": "cell-14dafd575c8757dd",
     "locked": true,
     "schema_version": 3,
     "solution": false
    }
   },
   "source": [
    "# Exercise 4: enter an outlier \n",
    "We are going to analyze some house prices. In one case there will be no outliers, and in the other there will be a single outlier (maybe someone famous lived there) \n",
    "\n",
    "We will use regular pandas this time :) "
   ]
  },
  {
   "cell_type": "code",
   "execution_count": 38,
   "metadata": {
    "deletable": false,
    "editable": false,
    "nbgrader": {
     "grade": false,
     "grade_id": "cell-7c1d07c904f2181a",
     "locked": true,
     "schema_version": 3,
     "solution": false
    }
   },
   "outputs": [
    {
     "data": {
      "image/png": "[encoded data removed]",
      "text/plain": [
       "<Figure size 1152x288 with 2 Axes>"
      ]
     },
     "metadata": {
      "needs_background": "light"
     },
     "output_type": "display_data"
    }
   ],
   "source": [
    "plot_house_prices_and_rooms()"
   ]
  },
  {
   "cell_type": "code",
   "execution_count": 42,
   "metadata": {
    "deletable": false,
    "nbgrader": {
     "grade": false,
     "grade_id": "cell-602c35acee50ad38",
     "locked": false,
     "schema_version": 3,
     "solution": true
    }
   },
   "outputs": [],
   "source": [
    "def calculate_correlations_with_pandas(house_prices, number_of_rooms):\n",
    "    \n",
    "    # pearson_corr = ...\n",
    "    # YOUR CODE HERE\n",
    "    pearson_corr = pearson_correlation_by_hand(house_prices,number_of_rooms)\n",
    "\n",
    "    # spearman_corr = ...\n",
    "    # YOUR CODE HERE\n",
    "    ranked_house = house_prices.rank()\n",
    "    ranked_rooms = number_of_rooms.rank()\n",
    "    spearman_corr = spearman_correlation_using_pearson(ranked_house, ranked_rooms)\n",
    "    \n",
    "    return pearson_corr, spearman_corr"
   ]
  },
  {
   "cell_type": "code",
   "execution_count": 43,
   "metadata": {
    "deletable": false,
    "editable": false,
    "nbgrader": {
     "grade": false,
     "grade_id": "cell-f821aaf35b827cf9",
     "locked": true,
     "schema_version": 3,
     "solution": false,
     "task": false
    }
   },
   "outputs": [
    {
     "data": {
      "image/png": "[encoded data removed]",
      "text/plain": [
       "<Figure size 432x288 with 1 Axes>"
      ]
     },
     "metadata": {
      "needs_background": "light"
     },
     "output_type": "display_data"
    }
   ],
   "source": [
    "number_of_rooms, house_prices_normal, house_prices_with_outliers = get_house_prices_and_rooms()\n",
    "\n",
    "pearson_corr_normal, spearman_corr_normal = calculate_correlations_with_pandas(house_prices_normal, \n",
    "                                                                               number_of_rooms)\n",
    "pearson_corr_outlier, spearman_corr_outlier = calculate_correlations_with_pandas(house_prices_with_outliers, \n",
    "                                                                                 number_of_rooms)\n",
    "\n",
    "# quick plot to see what happens\n",
    "results = pd.Series({\n",
    "    'Pearson without outlier': pearson_corr_normal,\n",
    "    'Pearson with outlier': pearson_corr_outlier,\n",
    "    'Spearman without outlier': spearman_corr_normal,\n",
    "    'Spearman with outlier': spearman_corr_outlier,\n",
    "})\n",
    "\n",
    "results.plot(kind='barh')\n",
    "plt.show()"
   ]
  },
  {
   "cell_type": "markdown",
   "metadata": {
    "deletable": false,
    "editable": false,
    "nbgrader": {
     "grade": false,
     "grade_id": "cell-a5dc99bbe49c258e",
     "locked": true,
     "schema_version": 3,
     "solution": false,
     "task": false
    }
   },
   "source": [
    "Expected output \n",
    "\n",
    "    Pearson without outlier     0.689598\n",
    "    Pearson with outlier        0.291450\n",
    "    Spearman without outlier    0.635173\n",
    "    Spearman with outlier       0.635284"
   ]
  },
  {
   "cell_type": "code",
   "execution_count": 44,
   "metadata": {
    "deletable": false,
    "editable": false,
    "nbgrader": {
     "grade": true,
     "grade_id": "cell-1a7175bdcc21451a",
     "locked": true,
     "points": 3,
     "schema_version": 3,
     "solution": false
    }
   },
   "outputs": [],
   "source": [
    "assert math.isclose((pearson_corr_normal - pearson_corr_outlier), 0.398, abs_tol=.01)\n",
    "assert math.isclose((spearman_corr_normal - spearman_corr_outlier), 0, abs_tol=.01)"
   ]
  },
  {
   "cell_type": "markdown",
   "metadata": {
    "deletable": false,
    "editable": false,
    "nbgrader": {
     "grade": false,
     "grade_id": "cell-e629fac83d7eaae3",
     "locked": true,
     "schema_version": 3,
     "solution": false
    }
   },
   "source": [
    "# Exercise 5: Stocks! \n",
    "\n",
    "Time to predict the stockmarket and get ritch. "
   ]
  },
  {
   "cell_type": "code",
   "execution_count": 139,
   "metadata": {
    "deletable": false,
    "nbgrader": {
     "grade": false,
     "grade_id": "cell-de272afdcb6695e5",
     "locked": false,
     "schema_version": 3,
     "solution": true
    }
   },
   "outputs": [
    {
     "data": {
      "text/html": [
       "<div>\n",
       "<style scoped>\n",
       "    .dataframe tbody tr th:only-of-type {\n",
       "        vertical-align: middle;\n",
       "    }\n",
       "\n",
       "    .dataframe tbody tr th {\n",
       "        vertical-align: top;\n",
       "    }\n",
       "\n",
       "    .dataframe thead th {\n",
       "        text-align: right;\n",
       "    }\n",
       "</style>\n",
       "<table border=\"1\" class=\"dataframe\">\n",
       "  <thead>\n",
       "    <tr style=\"text-align: right;\">\n",
       "      <th></th>\n",
       "      <th>date</th>\n",
       "      <th>Microchip Technology</th>\n",
       "      <th>Lennar Corp.</th>\n",
       "      <th>Ulta Beauty</th>\n",
       "      <th>Occidental Petroleum</th>\n",
       "      <th>Exxon Mobil Corp.</th>\n",
       "      <th>Apache Corporation</th>\n",
       "      <th>General Motors</th>\n",
       "      <th>People's United Financial</th>\n",
       "      <th>ConocoPhillips</th>\n",
       "      <th>Cboe Global Markets</th>\n",
       "      <th>Skyworks Solutions</th>\n",
       "      <th>QUALCOMM Inc.</th>\n",
       "      <th>Northern Trust Corp.</th>\n",
       "      <th>Ross Stores</th>\n",
       "      <th>Halliburton Co.</th>\n",
       "      <th>Marathon Oil Corp.</th>\n",
       "      <th>Oil Price</th>\n",
       "    </tr>\n",
       "  </thead>\n",
       "  <tbody>\n",
       "    <tr>\n",
       "      <th>0</th>\n",
       "      <td>2014-01-02</td>\n",
       "      <td>44.17</td>\n",
       "      <td>38.6471</td>\n",
       "      <td>95.91</td>\n",
       "      <td>93.85</td>\n",
       "      <td>99.75</td>\n",
       "      <td>85.48</td>\n",
       "      <td>40.95</td>\n",
       "      <td>15.010</td>\n",
       "      <td>69.78</td>\n",
       "      <td>50.98</td>\n",
       "      <td>27.40</td>\n",
       "      <td>73.32</td>\n",
       "      <td>60.89</td>\n",
       "      <td>37.135</td>\n",
       "      <td>50.01</td>\n",
       "      <td>34.91</td>\n",
       "      <td>107.94</td>\n",
       "    </tr>\n",
       "    <tr>\n",
       "      <th>1</th>\n",
       "      <td>2014-01-03</td>\n",
       "      <td>44.54</td>\n",
       "      <td>38.0882</td>\n",
       "      <td>94.92</td>\n",
       "      <td>93.52</td>\n",
       "      <td>99.51</td>\n",
       "      <td>85.54</td>\n",
       "      <td>39.57</td>\n",
       "      <td>15.060</td>\n",
       "      <td>69.96</td>\n",
       "      <td>51.66</td>\n",
       "      <td>27.72</td>\n",
       "      <td>72.89</td>\n",
       "      <td>61.30</td>\n",
       "      <td>37.165</td>\n",
       "      <td>50.13</td>\n",
       "      <td>34.52</td>\n",
       "      <td>106.57</td>\n",
       "    </tr>\n",
       "    <tr>\n",
       "      <th>2</th>\n",
       "      <td>2014-01-06</td>\n",
       "      <td>44.45</td>\n",
       "      <td>37.4412</td>\n",
       "      <td>92.91</td>\n",
       "      <td>93.80</td>\n",
       "      <td>99.66</td>\n",
       "      <td>86.31</td>\n",
       "      <td>40.40</td>\n",
       "      <td>15.100</td>\n",
       "      <td>70.26</td>\n",
       "      <td>50.93</td>\n",
       "      <td>27.63</td>\n",
       "      <td>72.70</td>\n",
       "      <td>60.92</td>\n",
       "      <td>37.090</td>\n",
       "      <td>50.32</td>\n",
       "      <td>34.43</td>\n",
       "      <td>106.71</td>\n",
       "    </tr>\n",
       "    <tr>\n",
       "      <th>3</th>\n",
       "      <td>2014-01-07</td>\n",
       "      <td>44.70</td>\n",
       "      <td>37.6078</td>\n",
       "      <td>94.46</td>\n",
       "      <td>95.55</td>\n",
       "      <td>101.07</td>\n",
       "      <td>87.90</td>\n",
       "      <td>40.20</td>\n",
       "      <td>15.150</td>\n",
       "      <td>70.37</td>\n",
       "      <td>50.69</td>\n",
       "      <td>27.79</td>\n",
       "      <td>73.24</td>\n",
       "      <td>61.70</td>\n",
       "      <td>36.885</td>\n",
       "      <td>50.20</td>\n",
       "      <td>34.88</td>\n",
       "      <td>107.01</td>\n",
       "    </tr>\n",
       "    <tr>\n",
       "      <th>4</th>\n",
       "      <td>2014-01-08</td>\n",
       "      <td>45.29</td>\n",
       "      <td>37.8529</td>\n",
       "      <td>94.17</td>\n",
       "      <td>94.79</td>\n",
       "      <td>100.74</td>\n",
       "      <td>86.65</td>\n",
       "      <td>40.42</td>\n",
       "      <td>15.420</td>\n",
       "      <td>69.69</td>\n",
       "      <td>50.02</td>\n",
       "      <td>27.92</td>\n",
       "      <td>73.68</td>\n",
       "      <td>62.02</td>\n",
       "      <td>36.850</td>\n",
       "      <td>49.50</td>\n",
       "      <td>34.40</td>\n",
       "      <td>107.42</td>\n",
       "    </tr>\n",
       "    <tr>\n",
       "      <th>...</th>\n",
       "      <td>...</td>\n",
       "      <td>...</td>\n",
       "      <td>...</td>\n",
       "      <td>...</td>\n",
       "      <td>...</td>\n",
       "      <td>...</td>\n",
       "      <td>...</td>\n",
       "      <td>...</td>\n",
       "      <td>...</td>\n",
       "      <td>...</td>\n",
       "      <td>...</td>\n",
       "      <td>...</td>\n",
       "      <td>...</td>\n",
       "      <td>...</td>\n",
       "      <td>...</td>\n",
       "      <td>...</td>\n",
       "      <td>...</td>\n",
       "      <td>...</td>\n",
       "    </tr>\n",
       "    <tr>\n",
       "      <th>999</th>\n",
       "      <td>2017-12-21</td>\n",
       "      <td>89.46</td>\n",
       "      <td>63.7500</td>\n",
       "      <td>228.57</td>\n",
       "      <td>72.58</td>\n",
       "      <td>83.85</td>\n",
       "      <td>43.31</td>\n",
       "      <td>42.16</td>\n",
       "      <td>19.020</td>\n",
       "      <td>55.95</td>\n",
       "      <td>124.63</td>\n",
       "      <td>97.49</td>\n",
       "      <td>64.39</td>\n",
       "      <td>100.05</td>\n",
       "      <td>80.140</td>\n",
       "      <td>48.17</td>\n",
       "      <td>17.05</td>\n",
       "      <td>64.64</td>\n",
       "    </tr>\n",
       "    <tr>\n",
       "      <th>1000</th>\n",
       "      <td>2017-12-22</td>\n",
       "      <td>88.92</td>\n",
       "      <td>64.0000</td>\n",
       "      <td>226.27</td>\n",
       "      <td>72.99</td>\n",
       "      <td>83.97</td>\n",
       "      <td>42.91</td>\n",
       "      <td>42.02</td>\n",
       "      <td>18.915</td>\n",
       "      <td>55.50</td>\n",
       "      <td>124.47</td>\n",
       "      <td>97.07</td>\n",
       "      <td>64.73</td>\n",
       "      <td>98.98</td>\n",
       "      <td>80.440</td>\n",
       "      <td>48.01</td>\n",
       "      <td>16.90</td>\n",
       "      <td>64.61</td>\n",
       "    </tr>\n",
       "    <tr>\n",
       "      <th>1001</th>\n",
       "      <td>2017-12-27</td>\n",
       "      <td>88.40</td>\n",
       "      <td>63.9200</td>\n",
       "      <td>225.65</td>\n",
       "      <td>73.32</td>\n",
       "      <td>83.90</td>\n",
       "      <td>42.89</td>\n",
       "      <td>41.31</td>\n",
       "      <td>18.780</td>\n",
       "      <td>55.59</td>\n",
       "      <td>124.76</td>\n",
       "      <td>95.82</td>\n",
       "      <td>64.54</td>\n",
       "      <td>98.68</td>\n",
       "      <td>80.730</td>\n",
       "      <td>48.82</td>\n",
       "      <td>17.01</td>\n",
       "      <td>66.03</td>\n",
       "    </tr>\n",
       "    <tr>\n",
       "      <th>1002</th>\n",
       "      <td>2017-12-28</td>\n",
       "      <td>88.61</td>\n",
       "      <td>63.8200</td>\n",
       "      <td>225.33</td>\n",
       "      <td>73.70</td>\n",
       "      <td>84.02</td>\n",
       "      <td>42.87</td>\n",
       "      <td>41.38</td>\n",
       "      <td>18.920</td>\n",
       "      <td>55.18</td>\n",
       "      <td>124.85</td>\n",
       "      <td>96.54</td>\n",
       "      <td>64.38</td>\n",
       "      <td>100.32</td>\n",
       "      <td>80.610</td>\n",
       "      <td>48.57</td>\n",
       "      <td>17.07</td>\n",
       "      <td>66.80</td>\n",
       "    </tr>\n",
       "    <tr>\n",
       "      <th>1003</th>\n",
       "      <td>2017-12-29</td>\n",
       "      <td>87.88</td>\n",
       "      <td>63.2400</td>\n",
       "      <td>223.66</td>\n",
       "      <td>73.66</td>\n",
       "      <td>83.64</td>\n",
       "      <td>42.22</td>\n",
       "      <td>40.99</td>\n",
       "      <td>18.700</td>\n",
       "      <td>54.89</td>\n",
       "      <td>124.59</td>\n",
       "      <td>94.95</td>\n",
       "      <td>64.02</td>\n",
       "      <td>99.89</td>\n",
       "      <td>80.250</td>\n",
       "      <td>48.87</td>\n",
       "      <td>16.93</td>\n",
       "      <td>66.73</td>\n",
       "    </tr>\n",
       "  </tbody>\n",
       "</table>\n",
       "<p>1004 rows × 18 columns</p>\n",
       "</div>"
      ],
      "text/plain": [
       "            date  Microchip Technology  Lennar Corp.  Ulta Beauty  \\\n",
       "0     2014-01-02                 44.17       38.6471        95.91   \n",
       "1     2014-01-03                 44.54       38.0882        94.92   \n",
       "2     2014-01-06                 44.45       37.4412        92.91   \n",
       "3     2014-01-07                 44.70       37.6078        94.46   \n",
       "4     2014-01-08                 45.29       37.8529        94.17   \n",
       "...          ...                   ...           ...          ...   \n",
       "999   2017-12-21                 89.46       63.7500       228.57   \n",
       "1000  2017-12-22                 88.92       64.0000       226.27   \n",
       "1001  2017-12-27                 88.40       63.9200       225.65   \n",
       "1002  2017-12-28                 88.61       63.8200       225.33   \n",
       "1003  2017-12-29                 87.88       63.2400       223.66   \n",
       "\n",
       "      Occidental Petroleum  Exxon Mobil Corp.  Apache Corporation  \\\n",
       "0                    93.85              99.75               85.48   \n",
       "1                    93.52              99.51               85.54   \n",
       "2                    93.80              99.66               86.31   \n",
       "3                    95.55             101.07               87.90   \n",
       "4                    94.79             100.74               86.65   \n",
       "...                    ...                ...                 ...   \n",
       "999                  72.58              83.85               43.31   \n",
       "1000                 72.99              83.97               42.91   \n",
       "1001                 73.32              83.90               42.89   \n",
       "1002                 73.70              84.02               42.87   \n",
       "1003                 73.66              83.64               42.22   \n",
       "\n",
       "      General Motors  People's United Financial  ConocoPhillips  \\\n",
       "0              40.95                     15.010           69.78   \n",
       "1              39.57                     15.060           69.96   \n",
       "2              40.40                     15.100           70.26   \n",
       "3              40.20                     15.150           70.37   \n",
       "4              40.42                     15.420           69.69   \n",
       "...              ...                        ...             ...   \n",
       "999            42.16                     19.020           55.95   \n",
       "1000           42.02                     18.915           55.50   \n",
       "1001           41.31                     18.780           55.59   \n",
       "1002           41.38                     18.920           55.18   \n",
       "1003           40.99                     18.700           54.89   \n",
       "\n",
       "      Cboe Global Markets  Skyworks Solutions  QUALCOMM Inc.  \\\n",
       "0                   50.98               27.40          73.32   \n",
       "1                   51.66               27.72          72.89   \n",
       "2                   50.93               27.63          72.70   \n",
       "3                   50.69               27.79          73.24   \n",
       "4                   50.02               27.92          73.68   \n",
       "...                   ...                 ...            ...   \n",
       "999                124.63               97.49          64.39   \n",
       "1000               124.47               97.07          64.73   \n",
       "1001               124.76               95.82          64.54   \n",
       "1002               124.85               96.54          64.38   \n",
       "1003               124.59               94.95          64.02   \n",
       "\n",
       "      Northern Trust Corp.  Ross Stores  Halliburton Co.  Marathon Oil Corp.  \\\n",
       "0                    60.89       37.135            50.01               34.91   \n",
       "1                    61.30       37.165            50.13               34.52   \n",
       "2                    60.92       37.090            50.32               34.43   \n",
       "3                    61.70       36.885            50.20               34.88   \n",
       "4                    62.02       36.850            49.50               34.40   \n",
       "...                    ...          ...              ...                 ...   \n",
       "999                 100.05       80.140            48.17               17.05   \n",
       "1000                 98.98       80.440            48.01               16.90   \n",
       "1001                 98.68       80.730            48.82               17.01   \n",
       "1002                100.32       80.610            48.57               17.07   \n",
       "1003                 99.89       80.250            48.87               16.93   \n",
       "\n",
       "      Oil Price  \n",
       "0        107.94  \n",
       "1        106.57  \n",
       "2        106.71  \n",
       "3        107.01  \n",
       "4        107.42  \n",
       "...         ...  \n",
       "999       64.64  \n",
       "1000      64.61  \n",
       "1001      66.03  \n",
       "1002      66.80  \n",
       "1003      66.73  \n",
       "\n",
       "[1004 rows x 18 columns]"
      ]
     },
     "metadata": {},
     "output_type": "display_data"
    },
    {
     "data": {
      "text/plain": [
       "<AxesSubplot:>"
      ]
     },
     "execution_count": 139,
     "metadata": {},
     "output_type": "execute_result"
    },
    {
     "data": {
      "image/png": "[encoded data removed]",
      "text/plain": [
       "<Figure size 864x576 with 2 Axes>"
      ]
     },
     "metadata": {
      "needs_background": "light"
     },
     "output_type": "display_data"
    }
   ],
   "source": [
    "stocks = pd.read_csv('data/Stock_prices.csv')\n",
    "import seaborn as sns \n",
    "# Explore the dataset. \n",
    "# Hint 1: you can use display(<name of df>) to force it to pretty print\n",
    "# Hint 2: use the heatmap of the correlation matrix that we used in the learning notebooks \n",
    "# Hint 3: you may want to import something to help with the visualization \n",
    "# Hint 4: you can either paste the answers, or use a purely programmatic solution. \n",
    "# Hint 5: when we say lowest and highest we mean the sign, not the \"magnitude\"\n",
    "\n",
    "\n",
    "# YOUR CODE HERE\n",
    "\n",
    "display(stocks)\n",
    "\n",
    "plt.figure(figsize = (12,8))\n",
    "sns.heatmap(stocks.corr(method='pearson'), \n",
    "            annot=True,   \n",
    "            cmap='RdBu_r')\n"
   ]
  },
  {
   "cell_type": "code",
   "execution_count": 137,
   "metadata": {
    "deletable": false,
    "nbgrader": {
     "grade": false,
     "grade_id": "cell-397d0b0c3105ffb6",
     "locked": false,
     "schema_version": 3,
     "solution": true,
     "task": false
    }
   },
   "outputs": [],
   "source": [
    "# Complete the following questions \n",
    "\n",
    "# Q1: what is the pair of stocks with the highest pearson correlation? \n",
    "# (pass the answer as a list, and remember, you can just type it in, no fancy pandas needed) \n",
    "# stock_pair_with_highest_pearson_corr = ... \n",
    "# YOUR CODE HERE\n",
    "stock_pair_with_highest_pearson_corr = [\"Marathon Oil Corp.\",\"ConocoPhillips\"]\n",
    "\n",
    "# # Q2: What is the stock pair with the lowest rank correlation with Occidental Petroleum? \n",
    "# (the answer is a string)\n",
    "# lowest_rank_corr_with_occidental_petroleum = ... \n",
    "# YOUR CODE HERE\n",
    "lowest_rank_corr_with_occidental_petroleum = \"Cboe Global Markets\"\n",
    "\n",
    "# Q3: what is the pearson correlation between Marathon Oil Corp. and Occidental Petroleum? \n",
    "# (answer is a float)\n",
    "# pearson_corr_between_marathon_oil_and_occidental_petr = \n",
    "# YOUR CODE HERE\n",
    "pearson_corr_between_marathon_oil_and_occidental_petr = 0.91\n",
    "\n",
    "# Q4: Observe the top 4 pearson correlation pairs, and then look at the general correlation matrix. \n",
    "# Is there a confounding variable that may explain why these companies are so correlated? \n",
    "# possible_confounding_variable = \n",
    "# YOUR CODE HERE\n",
    "possible_confounding_variable = 'Oil'"
   ]
  },
  {
   "cell_type": "markdown",
   "metadata": {
    "deletable": false,
    "editable": false,
    "nbgrader": {
     "grade": false,
     "grade_id": "cell-2a9d337dadf68949",
     "locked": true,
     "schema_version": 3,
     "solution": false
    }
   },
   "source": [
    "Expected output \n",
    "\n",
    "    No expected output on this one, see if it passes the test output ;) "
   ]
  },
  {
   "cell_type": "markdown",
   "metadata": {
    "deletable": false,
    "editable": false,
    "nbgrader": {
     "grade": false,
     "grade_id": "cell-bb1ebc00f1a506d8",
     "locked": true,
     "schema_version": 3,
     "solution": false
    }
   },
   "source": [
    "#### Test output (don't change code here) "
   ]
  },
  {
   "cell_type": "code",
   "execution_count": 138,
   "metadata": {
    "deletable": false,
    "editable": false,
    "nbgrader": {
     "grade": true,
     "grade_id": "cell-61ec8bb442300a8e",
     "locked": true,
     "points": 3,
     "schema_version": 3,
     "solution": false
    }
   },
   "outputs": [
    {
     "ename": "AssertionError",
     "evalue": "",
     "output_type": "error",
     "traceback": [
      "\u001b[0;31m---------------------------------------------------------------------------\u001b[0m",
      "\u001b[0;31mAssertionError\u001b[0m                            Traceback (most recent call last)",
      "\u001b[0;32m<ipython-input-138-06c33d7ddb92>\u001b[0m in \u001b[0;36m<module>\u001b[0;34m\u001b[0m\n\u001b[1;32m      6\u001b[0m \u001b[0;32massert\u001b[0m \u001b[0mhash_answer\u001b[0m\u001b[0;34m(\u001b[0m\u001b[0mhash_answer\u001b[0m\u001b[0;34m(\u001b[0m\u001b[0mlowest_rank_corr_with_occidental_petroleum\u001b[0m\u001b[0;34m)\u001b[0m\u001b[0;34m)\u001b[0m \u001b[0;34m==\u001b[0m \u001b[0mb\u001b[0m\u001b[0;34m\u001b[0m\u001b[0;34m\u001b[0m\u001b[0m\n\u001b[1;32m      7\u001b[0m \u001b[0;32massert\u001b[0m \u001b[0mmath\u001b[0m\u001b[0;34m.\u001b[0m\u001b[0misclose\u001b[0m\u001b[0;34m(\u001b[0m\u001b[0mpearson_corr_between_marathon_oil_and_occidental_petr\u001b[0m\u001b[0;34m,\u001b[0m \u001b[0;36m0.9130\u001b[0m\u001b[0;34m,\u001b[0m \u001b[0mabs_tol\u001b[0m\u001b[0;34m=\u001b[0m\u001b[0;36m0.01\u001b[0m\u001b[0;34m)\u001b[0m\u001b[0;34m\u001b[0m\u001b[0;34m\u001b[0m\u001b[0m\n\u001b[0;32m----> 8\u001b[0;31m \u001b[0;32massert\u001b[0m \u001b[0mhash_answer\u001b[0m\u001b[0;34m(\u001b[0m\u001b[0mpossible_confounding_variable\u001b[0m\u001b[0;34m)\u001b[0m \u001b[0;34m==\u001b[0m \u001b[0mc\u001b[0m\u001b[0;34m\u001b[0m\u001b[0;34m\u001b[0m\u001b[0m\n\u001b[0m",
      "\u001b[0;31mAssertionError\u001b[0m: "
     ]
    }
   ],
   "source": [
    "a = '9f94a681a8b473f6924ab5c42acaf8158fdb402c8d57a861f896dd17b09c2adb'\n",
    "b = '52f85c820290f79a19a696f58cbb376e9034a21d66306565c29007facc7ab12d'\n",
    "c = '0ab1e04f0684641e328c04b9485b4f50652e082ae4bb6541210e45c747a8f82f'\n",
    "\n",
    "assert hash_answer(sorted(stock_pair_with_highest_pearson_corr)) == a\n",
    "assert hash_answer(hash_answer(lowest_rank_corr_with_occidental_petroleum)) == b\n",
    "assert math.isclose(pearson_corr_between_marathon_oil_and_occidental_petr, 0.9130, abs_tol=0.01)\n",
    "assert hash_answer(possible_confounding_variable) == c"
   ]
  },
  {
   "cell_type": "markdown",
   "metadata": {
    "deletable": false,
    "editable": false,
    "nbgrader": {
     "grade": false,
     "grade_id": "cell-dd1efef189ee2604",
     "locked": true,
     "schema_version": 3,
     "solution": false,
     "task": false
    }
   },
   "source": [
    "----"
   ]
  },
  {
   "cell_type": "markdown",
   "metadata": {
    "deletable": false,
    "editable": false,
    "nbgrader": {
     "grade": false,
     "grade_id": "cell-385662c7efb44beb",
     "locked": true,
     "schema_version": 3,
     "solution": false,
     "task": false
    }
   },
   "source": [
    "# Exercise 6: lots of stocks\n",
    "You were hired by a hedge fund, because money. \n",
    "\n",
    "On the first day, your boss, Greedy Mc.Riskyface asked you to select one stock pair. He wants the two stocks to be as uncorrelated as possible (use pearson), so that he can short one and long the other. \n",
    "\n",
    "The answer should be (1) the two stocks, as a list and (2) their pearson correlation, as a float. "
   ]
  },
  {
   "cell_type": "code",
   "execution_count": 150,
   "metadata": {
    "deletable": false,
    "nbgrader": {
     "grade": false,
     "grade_id": "cell-ee4cfd1ff7abcd0e",
     "locked": false,
     "schema_version": 3,
     "solution": true,
     "task": false
    }
   },
   "outputs": [],
   "source": [
    "stock_data = utils.get_stocks_data_2()\n",
    "\n",
    "# most_uncorrelated_pair = ... \n",
    "# most_uncorrelated_pair_value = ...\n",
    "\n",
    "# YOUR CODE HERE\n",
    "\n",
    "most_uncorrelated_pair = [\"ICE\",\"GCG\"]\n",
    "most_uncorrelated_pair_value = -0.327304"
   ]
  },
  {
   "cell_type": "code",
   "execution_count": 151,
   "metadata": {
    "deletable": false,
    "editable": false,
    "nbgrader": {
     "grade": true,
     "grade_id": "cell-6bc7867845b5cdfd",
     "locked": true,
     "points": 5,
     "schema_version": 3,
     "solution": false,
     "task": false
    }
   },
   "outputs": [
    {
     "name": "stdout",
     "output_type": "stream",
     "text": [
      "\n",
      "    Ok, we tricked you, and it was unfair of us. \n",
      "\n",
      "    The reality is that this stock dataset was 100% RANDOM NUMBERS.\n",
      "\n",
      "    The thing to remember is: if you use correlation without knowing the data, you will always find \"something\". \n",
      "    A lot of bad data science comes from over trusting the tools, without knowing the data. \n",
      "\n",
      "    If you have enough data and dig into it using correlations you will ALWAYS find something\n",
      "    ... even if there is nothing to be found. \n",
      "\n",
      "    Correlation does not equal causality. \n",
      "    And sometimes, it just means you found signal where there was only noise.\n",
      "\n",
      "    Now go on to the next SLU, and remember the day you modeled random numbers and found good stock picks :)  \n",
      "    \n"
     ]
    }
   ],
   "source": [
    "assert isinstance(most_uncorrelated_pair, list)\n",
    "assert len(most_uncorrelated_pair) == 2\n",
    "assert isinstance(most_uncorrelated_pair_value, float)\n",
    "utils.dirty_little_secret()"
   ]
  },
  {
   "cell_type": "code",
   "execution_count": null,
   "metadata": {},
   "outputs": [],
   "source": []
  }
 ],
 "metadata": {
  "kernelspec": {
   "display_name": "Python 3",
   "language": "python",
   "name": "python3"
  },
  "language_info": {
   "codemirror_mode": {
    "name": "ipython",
    "version": 3
   },
   "file_extension": ".py",
   "mimetype": "text/x-python",
   "name": "python",
   "nbconvert_exporter": "python",
   "pygments_lexer": "ipython3",
   "version": "3.7.3"
  }
 },
 "nbformat": 4,
 "nbformat_minor": 2
}
