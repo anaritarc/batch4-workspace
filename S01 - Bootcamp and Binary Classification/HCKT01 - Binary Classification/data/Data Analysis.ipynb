{
 "cells": [
  {
   "cell_type": "code",
   "execution_count": 1,
   "metadata": {
    "ExecuteTime": {
     "end_time": "2020-08-02T13:08:04.746237Z",
     "start_time": "2020-08-02T13:08:02.834659Z"
    }
   },
   "outputs": [],
   "source": [
    "import pandas as pd\n",
    "import numpy as np\n",
    "import seaborn as sns\n",
    "from matplotlib import pyplot as plt \n",
    "import datetime\n",
    "import category_encoders as ce"
   ]
  },
  {
   "cell_type": "code",
   "execution_count": 2,
   "metadata": {
    "ExecuteTime": {
     "end_time": "2020-08-02T13:08:06.536791Z",
     "start_time": "2020-08-02T13:08:04.750238Z"
    }
   },
   "outputs": [],
   "source": [
    "#Set parameter\n",
    "\n",
    "dataset = 'train'\n",
    "\n",
    "#Load data\n",
    "data_ = pd.read_csv(\"data/\" + dataset + \".csv\")\n",
    "data = data_.copy()"
   ]
  },
  {
   "cell_type": "code",
   "execution_count": 3,
   "metadata": {
    "ExecuteTime": {
     "end_time": "2020-08-02T13:08:06.584744Z",
     "start_time": "2020-08-02T13:08:06.540771Z"
    }
   },
   "outputs": [
    {
     "data": {
      "text/html": [
       "<div>\n",
       "<style scoped>\n",
       "    .dataframe tbody tr th:only-of-type {\n",
       "        vertical-align: middle;\n",
       "    }\n",
       "\n",
       "    .dataframe tbody tr th {\n",
       "        vertical-align: top;\n",
       "    }\n",
       "\n",
       "    .dataframe thead th {\n",
       "        text-align: right;\n",
       "    }\n",
       "</style>\n",
       "<table border=\"1\" class=\"dataframe\">\n",
       "  <thead>\n",
       "    <tr style=\"text-align: right;\">\n",
       "      <th></th>\n",
       "      <th>ID</th>\n",
       "      <th>DATE_DEPARTURE_UTC</th>\n",
       "      <th>DATE_ARRIVAL_UTC</th>\n",
       "      <th>DATE_DEPARTURE_LCL</th>\n",
       "      <th>DATE_ARRIVAL_LCL</th>\n",
       "      <th>ORIGIN</th>\n",
       "      <th>ORIGIN_AIRPORT_ID</th>\n",
       "      <th>DEST</th>\n",
       "      <th>DEST_AIRPORT_ID</th>\n",
       "      <th>TAIL_NUM</th>\n",
       "      <th>OP_CARRIER</th>\n",
       "      <th>OP_CARRIER_AIRLINE_ID</th>\n",
       "      <th>OP_CARRIER_FL_NUM</th>\n",
       "      <th>DISTANCE</th>\n",
       "      <th>CANCELLED</th>\n",
       "      <th>DEP_DEL15</th>\n",
       "      <th>ARR_DEL15</th>\n",
       "    </tr>\n",
       "  </thead>\n",
       "  <tbody>\n",
       "    <tr>\n",
       "      <th>0</th>\n",
       "      <td>345355</td>\n",
       "      <td>2020-01-18 22:10:00</td>\n",
       "      <td>2020-01-18 23:59:00</td>\n",
       "      <td>2020-01-18 15:10:00</td>\n",
       "      <td>2020-01-18 15:59:00</td>\n",
       "      <td>SLC</td>\n",
       "      <td>14869</td>\n",
       "      <td>SNA</td>\n",
       "      <td>14908</td>\n",
       "      <td>N128DU</td>\n",
       "      <td>DL</td>\n",
       "      <td>19790</td>\n",
       "      <td>1056</td>\n",
       "      <td>588.0</td>\n",
       "      <td>0</td>\n",
       "      <td>0.0</td>\n",
       "      <td>0</td>\n",
       "    </tr>\n",
       "    <tr>\n",
       "      <th>1</th>\n",
       "      <td>323447</td>\n",
       "      <td>2020-01-17 21:47:00</td>\n",
       "      <td>2020-01-18 04:10:00</td>\n",
       "      <td>2020-01-17 16:47:00</td>\n",
       "      <td>2020-01-17 20:10:00</td>\n",
       "      <td>BOS</td>\n",
       "      <td>10721</td>\n",
       "      <td>SEA</td>\n",
       "      <td>14747</td>\n",
       "      <td>N486AS</td>\n",
       "      <td>AS</td>\n",
       "      <td>19930</td>\n",
       "      <td>15</td>\n",
       "      <td>2496.0</td>\n",
       "      <td>0</td>\n",
       "      <td>NaN</td>\n",
       "      <td>0</td>\n",
       "    </tr>\n",
       "    <tr>\n",
       "      <th>2</th>\n",
       "      <td>242237</td>\n",
       "      <td>2020-01-13 13:26:00</td>\n",
       "      <td>2020-01-13 14:26:00</td>\n",
       "      <td>2020-01-13 07:26:00</td>\n",
       "      <td>2020-01-13 08:26:00</td>\n",
       "      <td>DAL</td>\n",
       "      <td>11259</td>\n",
       "      <td>HOU</td>\n",
       "      <td>12191</td>\n",
       "      <td>N901WN</td>\n",
       "      <td>WN</td>\n",
       "      <td>19393</td>\n",
       "      <td>3</td>\n",
       "      <td>239.0</td>\n",
       "      <td>0</td>\n",
       "      <td>NaN</td>\n",
       "      <td>0</td>\n",
       "    </tr>\n",
       "    <tr>\n",
       "      <th>3</th>\n",
       "      <td>271408</td>\n",
       "      <td>2020-01-15 02:45:00</td>\n",
       "      <td>2020-01-15 03:37:00</td>\n",
       "      <td>2020-01-14 20:45:00</td>\n",
       "      <td>2020-01-14 21:37:00</td>\n",
       "      <td>STL</td>\n",
       "      <td>15016</td>\n",
       "      <td>DSM</td>\n",
       "      <td>11423</td>\n",
       "      <td>N778SW</td>\n",
       "      <td>WN</td>\n",
       "      <td>19393</td>\n",
       "      <td>1588</td>\n",
       "      <td>259.0</td>\n",
       "      <td>0</td>\n",
       "      <td>0.0</td>\n",
       "      <td>0</td>\n",
       "    </tr>\n",
       "    <tr>\n",
       "      <th>4</th>\n",
       "      <td>282447</td>\n",
       "      <td>2020-01-15 23:22:00</td>\n",
       "      <td>2020-01-16 00:49:00</td>\n",
       "      <td>2020-01-15 18:22:00</td>\n",
       "      <td>2020-01-15 19:49:00</td>\n",
       "      <td>CLT</td>\n",
       "      <td>11057</td>\n",
       "      <td>CHS</td>\n",
       "      <td>10994</td>\n",
       "      <td>N579NN</td>\n",
       "      <td>OH</td>\n",
       "      <td>20397</td>\n",
       "      <td>5207</td>\n",
       "      <td>168.0</td>\n",
       "      <td>0</td>\n",
       "      <td>NaN</td>\n",
       "      <td>1</td>\n",
       "    </tr>\n",
       "  </tbody>\n",
       "</table>\n",
       "</div>"
      ],
      "text/plain": [
       "       ID   DATE_DEPARTURE_UTC     DATE_ARRIVAL_UTC   DATE_DEPARTURE_LCL  \\\n",
       "0  345355  2020-01-18 22:10:00  2020-01-18 23:59:00  2020-01-18 15:10:00   \n",
       "1  323447  2020-01-17 21:47:00  2020-01-18 04:10:00  2020-01-17 16:47:00   \n",
       "2  242237  2020-01-13 13:26:00  2020-01-13 14:26:00  2020-01-13 07:26:00   \n",
       "3  271408  2020-01-15 02:45:00  2020-01-15 03:37:00  2020-01-14 20:45:00   \n",
       "4  282447  2020-01-15 23:22:00  2020-01-16 00:49:00  2020-01-15 18:22:00   \n",
       "\n",
       "      DATE_ARRIVAL_LCL ORIGIN  ORIGIN_AIRPORT_ID DEST  DEST_AIRPORT_ID  \\\n",
       "0  2020-01-18 15:59:00    SLC              14869  SNA            14908   \n",
       "1  2020-01-17 20:10:00    BOS              10721  SEA            14747   \n",
       "2  2020-01-13 08:26:00    DAL              11259  HOU            12191   \n",
       "3  2020-01-14 21:37:00    STL              15016  DSM            11423   \n",
       "4  2020-01-15 19:49:00    CLT              11057  CHS            10994   \n",
       "\n",
       "  TAIL_NUM OP_CARRIER  OP_CARRIER_AIRLINE_ID  OP_CARRIER_FL_NUM  DISTANCE  \\\n",
       "0   N128DU         DL                  19790               1056     588.0   \n",
       "1   N486AS         AS                  19930                 15    2496.0   \n",
       "2   N901WN         WN                  19393                  3     239.0   \n",
       "3   N778SW         WN                  19393               1588     259.0   \n",
       "4   N579NN         OH                  20397               5207     168.0   \n",
       "\n",
       "   CANCELLED  DEP_DEL15  ARR_DEL15  \n",
       "0          0        0.0          0  \n",
       "1          0        NaN          0  \n",
       "2          0        NaN          0  \n",
       "3          0        0.0          0  \n",
       "4          0        NaN          1  "
      ]
     },
     "metadata": {},
     "output_type": "display_data"
    },
    {
     "data": {
      "text/plain": [
       "(419487, 17)"
      ]
     },
     "execution_count": 3,
     "metadata": {},
     "output_type": "execute_result"
    }
   ],
   "source": [
    "#First look\n",
    "display(data.head(5))\n",
    "data.shape"
   ]
  },
  {
   "cell_type": "code",
   "execution_count": 4,
   "metadata": {
    "ExecuteTime": {
     "end_time": "2020-08-02T13:08:06.901855Z",
     "start_time": "2020-08-02T13:08:06.588742Z"
    }
   },
   "outputs": [
    {
     "data": {
      "text/plain": [
       "DISTANCE      17618\n",
       "DEP_DEL15    146820\n",
       "dtype: int64"
      ]
     },
     "execution_count": 4,
     "metadata": {},
     "output_type": "execute_result"
    }
   ],
   "source": [
    "#Find columns with nulls values\n",
    "null_columns=data.columns[data.isnull().any()]\n",
    "data[null_columns].isnull().sum()"
   ]
  },
  {
   "cell_type": "code",
   "execution_count": 5,
   "metadata": {
    "ExecuteTime": {
     "end_time": "2020-08-02T13:08:07.180230Z",
     "start_time": "2020-08-02T13:08:06.905852Z"
    }
   },
   "outputs": [
    {
     "data": {
      "text/plain": [
       "ID                       419487\n",
       "DATE_DEPARTURE_UTC       419487\n",
       "DATE_ARRIVAL_UTC         419487\n",
       "DATE_DEPARTURE_LCL       419487\n",
       "DATE_ARRIVAL_LCL         419487\n",
       "ORIGIN                   419487\n",
       "ORIGIN_AIRPORT_ID        419487\n",
       "DEST                     419487\n",
       "DEST_AIRPORT_ID          419487\n",
       "TAIL_NUM                 419487\n",
       "OP_CARRIER               419487\n",
       "OP_CARRIER_AIRLINE_ID    419487\n",
       "OP_CARRIER_FL_NUM        419487\n",
       "DISTANCE                 401869\n",
       "CANCELLED                419487\n",
       "DEP_DEL15                272667\n",
       "ARR_DEL15                419487\n",
       "dtype: int64"
      ]
     },
     "execution_count": 5,
     "metadata": {},
     "output_type": "execute_result"
    }
   ],
   "source": [
    "data.count()"
   ]
  },
  {
   "cell_type": "code",
   "execution_count": 6,
   "metadata": {
    "ExecuteTime": {
     "end_time": "2020-08-02T13:08:07.306048Z",
     "start_time": "2020-08-02T13:08:07.185207Z"
    },
    "scrolled": true
   },
   "outputs": [
    {
     "data": {
      "text/plain": [
       "0    419487\n",
       "Name: CANCELLED, dtype: int64"
      ]
     },
     "execution_count": 6,
     "metadata": {},
     "output_type": "execute_result"
    }
   ],
   "source": [
    "#Analyze column Cancelled\n",
    "data['CANCELLED'].value_counts()"
   ]
  },
  {
   "cell_type": "code",
   "execution_count": 7,
   "metadata": {
    "ExecuteTime": {
     "end_time": "2020-08-02T13:08:07.447086Z",
     "start_time": "2020-08-02T13:08:07.310043Z"
    }
   },
   "outputs": [],
   "source": [
    "#Identify columns to drop considering:\n",
    "#Redundant columns - IDs vs Names, local and utc times\n",
    "#Columns with same values (cancelled)\n",
    "to_drop = ['DATE_DEPARTURE_LCL', 'DATE_ARRIVAL_LCL', 'CANCELLED', 'ORIGIN', 'DEST', 'OP_CARRIER']"
   ]
  },
  {
   "cell_type": "code",
   "execution_count": 8,
   "metadata": {
    "ExecuteTime": {
     "end_time": "2020-08-02T13:08:07.617972Z",
     "start_time": "2020-08-02T13:08:07.451028Z"
    }
   },
   "outputs": [],
   "source": [
    "df = data.drop(to_drop, axis=1)"
   ]
  },
  {
   "cell_type": "code",
   "execution_count": 9,
   "metadata": {
    "ExecuteTime": {
     "end_time": "2020-08-02T13:08:07.777040Z",
     "start_time": "2020-08-02T13:08:07.621958Z"
    }
   },
   "outputs": [
    {
     "data": {
      "text/plain": [
       "ID                         int64\n",
       "DATE_DEPARTURE_UTC        object\n",
       "DATE_ARRIVAL_UTC          object\n",
       "ORIGIN_AIRPORT_ID          int64\n",
       "DEST_AIRPORT_ID            int64\n",
       "TAIL_NUM                  object\n",
       "OP_CARRIER_AIRLINE_ID      int64\n",
       "OP_CARRIER_FL_NUM          int64\n",
       "DISTANCE                 float64\n",
       "DEP_DEL15                float64\n",
       "ARR_DEL15                  int64\n",
       "dtype: object"
      ]
     },
     "execution_count": 9,
     "metadata": {},
     "output_type": "execute_result"
    }
   ],
   "source": [
    "df.dtypes"
   ]
  },
  {
   "cell_type": "code",
   "execution_count": 10,
   "metadata": {
    "ExecuteTime": {
     "end_time": "2020-08-02T13:08:07.997123Z",
     "start_time": "2020-08-02T13:08:07.779037Z"
    }
   },
   "outputs": [],
   "source": [
    "#Set ID as Index\n",
    "df = df.set_index('ID')"
   ]
  },
  {
   "cell_type": "markdown",
   "metadata": {},
   "source": [
    "# Datetime special treatment"
   ]
  },
  {
   "cell_type": "code",
   "execution_count": 11,
   "metadata": {
    "ExecuteTime": {
     "end_time": "2020-08-02T13:08:13.610018Z",
     "start_time": "2020-08-02T13:08:08.000084Z"
    }
   },
   "outputs": [],
   "source": [
    "#Split the data Departure\n",
    "df_date_sep = df.DATE_DEPARTURE_UTC.str.split(pat=' ', expand=True)\n",
    "df_date_sep.columns = ['Date_Departure', 'Hours_Departure']\n",
    "df_date_sep_hour = df_date_sep.Hours_Departure.str.split(pat=':', expand=True)\n",
    "df_date_sep_hour.columns = ['hours','minute','second']\n",
    "\n",
    "\n",
    "#Convert Departure Data to datetime\n",
    "df_date_sep['Date_Departure'] = int(pd.to_datetime(df_date_sep['Date_Departure'])[0].strftime('%Y%m%d'))\n",
    "df_date_sep['Hours_Departure'] = df['Hours_Departure']= df_date_sep_hour['hours'].values\n",
    "\n",
    "#Add Departure data to df\n",
    "df['Date_Departure']= df_date_sep['Date_Departure'].values\n",
    "df['Hours_Departure'] = df_date_sep['Hours_Departure'].values\n",
    "\n",
    "#Split the data Arrival\n",
    "df_date_sep = df.DATE_ARRIVAL_UTC.str.split(pat=' ', expand=True)\n",
    "df_date_sep.columns = ['Date_Arrival', 'Hours_Arrival']\n",
    "\n",
    "#Convert Arrival Data to datetime\n",
    "df_date_sep['Date_Arrival'] = int(pd.to_datetime(df_date_sep['Date_Arrival'])[0].strftime('%Y%m%d'))\n",
    "df_date_sep['Hours_Arrival'] = df['Hours_Departure']= df_date_sep_hour['hours'].values\n",
    "\n",
    "\n",
    "#Add arrival data to df\n",
    "df['Date_Arrival']= df_date_sep['Date_Arrival'].values\n",
    "df['Hours_Arrival']= df_date_sep['Hours_Arrival'].values\n",
    "\n",
    "df = df.drop(['DATE_DEPARTURE_UTC','DATE_ARRIVAL_UTC'], axis =1)"
   ]
  },
  {
   "cell_type": "markdown",
   "metadata": {},
   "source": [
    "# Numerical variabels"
   ]
  },
  {
   "cell_type": "code",
   "execution_count": 12,
   "metadata": {
    "ExecuteTime": {
     "end_time": "2020-08-02T13:08:14.284718Z",
     "start_time": "2020-08-02T13:08:13.613977Z"
    }
   },
   "outputs": [
    {
     "data": {
      "text/plain": [
       "<matplotlib.axes._subplots.AxesSubplot at 0x14e99b3e4f0>"
      ]
     },
     "execution_count": 12,
     "metadata": {},
     "output_type": "execute_result"
    },
    {
     "data": {
      "image/png": "[encoded data removed]",
      "text/plain": [
       "<Figure size 864x576 with 2 Axes>"
      ]
     },
     "metadata": {
      "needs_background": "light"
     },
     "output_type": "display_data"
    }
   ],
   "source": [
    "#check correlation\n",
    "cor_df = df.corr()\n",
    "lower_triangle_mask = np.triu(np.ones(cor_df.shape)).astype(np.bool)\n",
    "cor_df_lower = cor_df.mask(lower_triangle_mask)\n",
    "plt.figure(figsize = (12,8))\n",
    "sns.heatmap(cor_df_lower, annot = True, cmap = \"RdBu_r\")"
   ]
  },
  {
   "cell_type": "markdown",
   "metadata": {},
   "source": [
    "### Fill nulls"
   ]
  },
  {
   "cell_type": "code",
   "execution_count": 13,
   "metadata": {
    "ExecuteTime": {
     "end_time": "2020-08-02T13:08:14.316194Z",
     "start_time": "2020-08-02T13:08:14.288699Z"
    }
   },
   "outputs": [],
   "source": [
    "df['DEP_DEL15'] = df['DEP_DEL15'].fillna(0)"
   ]
  },
  {
   "cell_type": "code",
   "execution_count": 14,
   "metadata": {
    "ExecuteTime": {
     "end_time": "2020-08-02T13:08:14.409868Z",
     "start_time": "2020-08-02T13:08:14.321190Z"
    }
   },
   "outputs": [
    {
     "data": {
      "text/plain": [
       "0.0    379343\n",
       "1.0     40144\n",
       "Name: DEP_DEL15, dtype: int64"
      ]
     },
     "execution_count": 14,
     "metadata": {},
     "output_type": "execute_result"
    }
   ],
   "source": [
    "df['DEP_DEL15'].value_counts()"
   ]
  },
  {
   "cell_type": "code",
   "execution_count": 15,
   "metadata": {
    "ExecuteTime": {
     "end_time": "2020-08-02T13:08:14.551138Z",
     "start_time": "2020-08-02T13:08:14.423861Z"
    }
   },
   "outputs": [
    {
     "data": {
      "text/plain": [
       "'\\n\"tailnums = df[\\'TAIL_NUM\\'].unique()\\n\\nfor tn in tailnums:\\n    df.loc[df[\\'TAIL_NUM\\'] == tn][\\'DISTANCE\\'].mean()\\n'"
      ]
     },
     "execution_count": 15,
     "metadata": {},
     "output_type": "execute_result"
    }
   ],
   "source": [
    "#NICE TO HAVE\n",
    "\"\"\"\n",
    "\"tailnums = df['TAIL_NUM'].unique()\n",
    "\n",
    "for tn in tailnums:\n",
    "    df.loc[df['TAIL_NUM'] == tn]['DISTANCE'].mean()\n",
    "\"\"\""
   ]
  },
  {
   "cell_type": "code",
   "execution_count": 16,
   "metadata": {
    "ExecuteTime": {
     "end_time": "2020-08-02T13:08:14.659926Z",
     "start_time": "2020-08-02T13:08:14.556136Z"
    }
   },
   "outputs": [],
   "source": [
    "mean = df['DISTANCE'].mean()\n",
    "df['DISTANCE'] = df['DISTANCE'].fillna(mean)"
   ]
  },
  {
   "cell_type": "code",
   "execution_count": 17,
   "metadata": {
    "ExecuteTime": {
     "end_time": "2020-08-02T13:08:14.881394Z",
     "start_time": "2020-08-02T13:08:14.663905Z"
    }
   },
   "outputs": [
    {
     "data": {
      "text/plain": [
       "ORIGIN_AIRPORT_ID        419487\n",
       "DEST_AIRPORT_ID          419487\n",
       "TAIL_NUM                 419487\n",
       "OP_CARRIER_AIRLINE_ID    419487\n",
       "OP_CARRIER_FL_NUM        419487\n",
       "DISTANCE                 419487\n",
       "DEP_DEL15                419487\n",
       "ARR_DEL15                419487\n",
       "Hours_Departure          419487\n",
       "Date_Departure           419487\n",
       "Date_Arrival             419487\n",
       "Hours_Arrival            419487\n",
       "dtype: int64"
      ]
     },
     "execution_count": 17,
     "metadata": {},
     "output_type": "execute_result"
    }
   ],
   "source": [
    "#Check if there are no remaining nulls\n",
    "df.count()"
   ]
  },
  {
   "cell_type": "markdown",
   "metadata": {},
   "source": [
    "# Categorical features"
   ]
  },
  {
   "cell_type": "code",
   "execution_count": 18,
   "metadata": {
    "ExecuteTime": {
     "end_time": "2020-08-02T13:08:15.116629Z",
     "start_time": "2020-08-02T13:08:14.886392Z"
    }
   },
   "outputs": [],
   "source": [
    "#Convert to category type\n",
    "df = df.assign(TAIL_NUM=df['TAIL_NUM'].astype('category'))"
   ]
  },
  {
   "cell_type": "code",
   "execution_count": 19,
   "metadata": {
    "ExecuteTime": {
     "end_time": "2020-08-02T13:08:15.132640Z",
     "start_time": "2020-08-02T13:08:15.120627Z"
    }
   },
   "outputs": [
    {
     "data": {
      "text/plain": [
       "ORIGIN_AIRPORT_ID           int64\n",
       "DEST_AIRPORT_ID             int64\n",
       "TAIL_NUM                 category\n",
       "OP_CARRIER_AIRLINE_ID       int64\n",
       "OP_CARRIER_FL_NUM           int64\n",
       "DISTANCE                  float64\n",
       "DEP_DEL15                 float64\n",
       "ARR_DEL15                   int64\n",
       "Hours_Departure            object\n",
       "Date_Departure              int64\n",
       "Date_Arrival                int64\n",
       "Hours_Arrival              object\n",
       "dtype: object"
      ]
     },
     "execution_count": 19,
     "metadata": {},
     "output_type": "execute_result"
    }
   ],
   "source": [
    "df.dtypes"
   ]
  },
  {
   "cell_type": "code",
   "execution_count": 20,
   "metadata": {
    "ExecuteTime": {
     "end_time": "2020-08-02T13:08:15.415746Z",
     "start_time": "2020-08-02T13:08:15.135619Z"
    }
   },
   "outputs": [
    {
     "data": {
      "image/png": "[encoded data removed]",
      "text/plain": [
       "<Figure size 432x288 with 1 Axes>"
      ]
     },
     "metadata": {
      "needs_background": "light"
     },
     "output_type": "display_data"
    },
    {
     "data": {
      "text/plain": [
       "TAIL_NUM    5376\n",
       "dtype: int64"
      ]
     },
     "execution_count": 20,
     "metadata": {},
     "output_type": "execute_result"
    }
   ],
   "source": [
    "#Check for unique values\n",
    "categoricals = df.select_dtypes(include='category').columns\n",
    "categoricals\n",
    "\n",
    "number_of_uniques_per_category = df.loc[:, categoricals].nunique()\n",
    "\n",
    "# little plot \n",
    "number_of_uniques_per_category.plot(kind='barh',\n",
    "                                    title='# uniques / categories');\n",
    "plt.xlabel('Number of uniques')\n",
    "plt.show()\n",
    "\n",
    "\n",
    "number_of_uniques_per_category"
   ]
  },
  {
   "cell_type": "markdown",
   "metadata": {},
   "source": [
    "# Pipeline - scalling & encoding"
   ]
  },
  {
   "cell_type": "markdown",
   "metadata": {},
   "source": [
    "## Scalling"
   ]
  },
  {
   "cell_type": "code",
   "execution_count": 21,
   "metadata": {
    "ExecuteTime": {
     "end_time": "2020-08-02T13:08:15.431246Z",
     "start_time": "2020-08-02T13:08:15.418744Z"
    }
   },
   "outputs": [
    {
     "data": {
      "text/plain": [
       "ORIGIN_AIRPORT_ID           int64\n",
       "DEST_AIRPORT_ID             int64\n",
       "TAIL_NUM                 category\n",
       "OP_CARRIER_AIRLINE_ID       int64\n",
       "OP_CARRIER_FL_NUM           int64\n",
       "DISTANCE                  float64\n",
       "DEP_DEL15                 float64\n",
       "ARR_DEL15                   int64\n",
       "Hours_Departure            object\n",
       "Date_Departure              int64\n",
       "Date_Arrival                int64\n",
       "Hours_Arrival              object\n",
       "dtype: object"
      ]
     },
     "execution_count": 21,
     "metadata": {},
     "output_type": "execute_result"
    }
   ],
   "source": [
    "df.dtypes"
   ]
  },
  {
   "cell_type": "code",
   "execution_count": 22,
   "metadata": {
    "ExecuteTime": {
     "end_time": "2020-08-02T13:08:15.590922Z",
     "start_time": "2020-08-02T13:08:15.435244Z"
    }
   },
   "outputs": [],
   "source": [
    "numericals = df.select_dtypes(include=['int64','float64']).columns"
   ]
  },
  {
   "cell_type": "code",
   "execution_count": 23,
   "metadata": {
    "ExecuteTime": {
     "end_time": "2020-08-02T13:08:15.906229Z",
     "start_time": "2020-08-02T13:08:15.598865Z"
    }
   },
   "outputs": [
    {
     "data": {
      "text/html": [
       "<div>\n",
       "<style scoped>\n",
       "    .dataframe tbody tr th:only-of-type {\n",
       "        vertical-align: middle;\n",
       "    }\n",
       "\n",
       "    .dataframe tbody tr th {\n",
       "        vertical-align: top;\n",
       "    }\n",
       "\n",
       "    .dataframe thead th {\n",
       "        text-align: right;\n",
       "    }\n",
       "</style>\n",
       "<table border=\"1\" class=\"dataframe\">\n",
       "  <thead>\n",
       "    <tr style=\"text-align: right;\">\n",
       "      <th></th>\n",
       "      <th>ORIGIN_AIRPORT_ID</th>\n",
       "      <th>DEST_AIRPORT_ID</th>\n",
       "      <th>OP_CARRIER_AIRLINE_ID</th>\n",
       "      <th>OP_CARRIER_FL_NUM</th>\n",
       "      <th>DISTANCE</th>\n",
       "      <th>DEP_DEL15</th>\n",
       "      <th>ARR_DEL15</th>\n",
       "      <th>Date_Departure</th>\n",
       "      <th>Date_Arrival</th>\n",
       "    </tr>\n",
       "  </thead>\n",
       "  <tbody>\n",
       "    <tr>\n",
       "      <th>count</th>\n",
       "      <td>419487.000000</td>\n",
       "      <td>419487.000000</td>\n",
       "      <td>419487.000000</td>\n",
       "      <td>419487.000000</td>\n",
       "      <td>419487.000000</td>\n",
       "      <td>419487.000000</td>\n",
       "      <td>419487.000000</td>\n",
       "      <td>419487.0</td>\n",
       "      <td>419487.0</td>\n",
       "    </tr>\n",
       "    <tr>\n",
       "      <th>mean</th>\n",
       "      <td>12656.739730</td>\n",
       "      <td>12655.545597</td>\n",
       "      <td>19993.369749</td>\n",
       "      <td>2628.837404</td>\n",
       "      <td>803.586898</td>\n",
       "      <td>0.095698</td>\n",
       "      <td>0.148264</td>\n",
       "      <td>20200101.0</td>\n",
       "      <td>20200101.0</td>\n",
       "    </tr>\n",
       "    <tr>\n",
       "      <th>std</th>\n",
       "      <td>1525.037067</td>\n",
       "      <td>1524.512434</td>\n",
       "      <td>375.543815</td>\n",
       "      <td>1825.643818</td>\n",
       "      <td>577.367083</td>\n",
       "      <td>0.294177</td>\n",
       "      <td>0.355362</td>\n",
       "      <td>0.0</td>\n",
       "      <td>0.0</td>\n",
       "    </tr>\n",
       "    <tr>\n",
       "      <th>min</th>\n",
       "      <td>10135.000000</td>\n",
       "      <td>10135.000000</td>\n",
       "      <td>19393.000000</td>\n",
       "      <td>1.000000</td>\n",
       "      <td>31.000000</td>\n",
       "      <td>0.000000</td>\n",
       "      <td>0.000000</td>\n",
       "      <td>20200101.0</td>\n",
       "      <td>20200101.0</td>\n",
       "    </tr>\n",
       "    <tr>\n",
       "      <th>25%</th>\n",
       "      <td>11292.000000</td>\n",
       "      <td>11292.000000</td>\n",
       "      <td>19790.000000</td>\n",
       "      <td>1073.000000</td>\n",
       "      <td>386.000000</td>\n",
       "      <td>0.000000</td>\n",
       "      <td>0.000000</td>\n",
       "      <td>20200101.0</td>\n",
       "      <td>20200101.0</td>\n",
       "    </tr>\n",
       "    <tr>\n",
       "      <th>50%</th>\n",
       "      <td>12889.000000</td>\n",
       "      <td>12889.000000</td>\n",
       "      <td>19977.000000</td>\n",
       "      <td>2184.000000</td>\n",
       "      <td>675.000000</td>\n",
       "      <td>0.000000</td>\n",
       "      <td>0.000000</td>\n",
       "      <td>20200101.0</td>\n",
       "      <td>20200101.0</td>\n",
       "    </tr>\n",
       "    <tr>\n",
       "      <th>75%</th>\n",
       "      <td>14027.000000</td>\n",
       "      <td>14027.000000</td>\n",
       "      <td>20378.000000</td>\n",
       "      <td>4115.000000</td>\n",
       "      <td>1024.000000</td>\n",
       "      <td>0.000000</td>\n",
       "      <td>0.000000</td>\n",
       "      <td>20200101.0</td>\n",
       "      <td>20200101.0</td>\n",
       "    </tr>\n",
       "    <tr>\n",
       "      <th>max</th>\n",
       "      <td>16869.000000</td>\n",
       "      <td>16869.000000</td>\n",
       "      <td>20452.000000</td>\n",
       "      <td>6799.000000</td>\n",
       "      <td>5095.000000</td>\n",
       "      <td>1.000000</td>\n",
       "      <td>1.000000</td>\n",
       "      <td>20200101.0</td>\n",
       "      <td>20200101.0</td>\n",
       "    </tr>\n",
       "  </tbody>\n",
       "</table>\n",
       "</div>"
      ],
      "text/plain": [
       "       ORIGIN_AIRPORT_ID  DEST_AIRPORT_ID  OP_CARRIER_AIRLINE_ID  \\\n",
       "count      419487.000000    419487.000000          419487.000000   \n",
       "mean        12656.739730     12655.545597           19993.369749   \n",
       "std          1525.037067      1524.512434             375.543815   \n",
       "min         10135.000000     10135.000000           19393.000000   \n",
       "25%         11292.000000     11292.000000           19790.000000   \n",
       "50%         12889.000000     12889.000000           19977.000000   \n",
       "75%         14027.000000     14027.000000           20378.000000   \n",
       "max         16869.000000     16869.000000           20452.000000   \n",
       "\n",
       "       OP_CARRIER_FL_NUM       DISTANCE      DEP_DEL15      ARR_DEL15  \\\n",
       "count      419487.000000  419487.000000  419487.000000  419487.000000   \n",
       "mean         2628.837404     803.586898       0.095698       0.148264   \n",
       "std          1825.643818     577.367083       0.294177       0.355362   \n",
       "min             1.000000      31.000000       0.000000       0.000000   \n",
       "25%          1073.000000     386.000000       0.000000       0.000000   \n",
       "50%          2184.000000     675.000000       0.000000       0.000000   \n",
       "75%          4115.000000    1024.000000       0.000000       0.000000   \n",
       "max          6799.000000    5095.000000       1.000000       1.000000   \n",
       "\n",
       "       Date_Departure  Date_Arrival  \n",
       "count        419487.0      419487.0  \n",
       "mean       20200101.0    20200101.0  \n",
       "std               0.0           0.0  \n",
       "min        20200101.0    20200101.0  \n",
       "25%        20200101.0    20200101.0  \n",
       "50%        20200101.0    20200101.0  \n",
       "75%        20200101.0    20200101.0  \n",
       "max        20200101.0    20200101.0  "
      ]
     },
     "execution_count": 23,
     "metadata": {},
     "output_type": "execute_result"
    }
   ],
   "source": [
    "df[numericals].describe()"
   ]
  },
  {
   "cell_type": "code",
   "execution_count": 24,
   "metadata": {
    "ExecuteTime": {
     "end_time": "2020-08-02T13:08:16.271000Z",
     "start_time": "2020-08-02T13:08:15.918203Z"
    }
   },
   "outputs": [
    {
     "data": {
      "text/html": [
       "<div>\n",
       "<style scoped>\n",
       "    .dataframe tbody tr th:only-of-type {\n",
       "        vertical-align: middle;\n",
       "    }\n",
       "\n",
       "    .dataframe tbody tr th {\n",
       "        vertical-align: top;\n",
       "    }\n",
       "\n",
       "    .dataframe thead th {\n",
       "        text-align: right;\n",
       "    }\n",
       "</style>\n",
       "<table border=\"1\" class=\"dataframe\">\n",
       "  <thead>\n",
       "    <tr style=\"text-align: right;\">\n",
       "      <th></th>\n",
       "      <th>ORIGIN_AIRPORT_ID</th>\n",
       "      <th>DEST_AIRPORT_ID</th>\n",
       "      <th>TAIL_NUM</th>\n",
       "      <th>OP_CARRIER_AIRLINE_ID</th>\n",
       "      <th>OP_CARRIER_FL_NUM</th>\n",
       "      <th>DISTANCE</th>\n",
       "      <th>DEP_DEL15</th>\n",
       "      <th>ARR_DEL15</th>\n",
       "      <th>Hours_Departure</th>\n",
       "      <th>Date_Departure</th>\n",
       "      <th>Date_Arrival</th>\n",
       "      <th>Hours_Arrival</th>\n",
       "    </tr>\n",
       "    <tr>\n",
       "      <th>ID</th>\n",
       "      <th></th>\n",
       "      <th></th>\n",
       "      <th></th>\n",
       "      <th></th>\n",
       "      <th></th>\n",
       "      <th></th>\n",
       "      <th></th>\n",
       "      <th></th>\n",
       "      <th></th>\n",
       "      <th></th>\n",
       "      <th></th>\n",
       "      <th></th>\n",
       "    </tr>\n",
       "  </thead>\n",
       "  <tbody>\n",
       "    <tr>\n",
       "      <th>345355</th>\n",
       "      <td>0.723949</td>\n",
       "      <td>0.738208</td>\n",
       "      <td>N128DU</td>\n",
       "      <td>-0.318027</td>\n",
       "      <td>-0.370809</td>\n",
       "      <td>588.000000</td>\n",
       "      <td>0.0</td>\n",
       "      <td>0</td>\n",
       "      <td>22</td>\n",
       "      <td>20200101</td>\n",
       "      <td>20200101</td>\n",
       "      <td>22</td>\n",
       "    </tr>\n",
       "    <tr>\n",
       "      <th>323447</th>\n",
       "      <td>-0.792687</td>\n",
       "      <td>0.679342</td>\n",
       "      <td>N486AS</td>\n",
       "      <td>-0.079932</td>\n",
       "      <td>-0.713018</td>\n",
       "      <td>2496.000000</td>\n",
       "      <td>0.0</td>\n",
       "      <td>0</td>\n",
       "      <td>21</td>\n",
       "      <td>20200101</td>\n",
       "      <td>20200101</td>\n",
       "      <td>21</td>\n",
       "    </tr>\n",
       "    <tr>\n",
       "      <th>242237</th>\n",
       "      <td>-0.595978</td>\n",
       "      <td>-0.255210</td>\n",
       "      <td>N901WN</td>\n",
       "      <td>-0.993197</td>\n",
       "      <td>-0.716963</td>\n",
       "      <td>239.000000</td>\n",
       "      <td>0.0</td>\n",
       "      <td>0</td>\n",
       "      <td>13</td>\n",
       "      <td>20200101</td>\n",
       "      <td>20200101</td>\n",
       "      <td>13</td>\n",
       "    </tr>\n",
       "    <tr>\n",
       "      <th>271408</th>\n",
       "      <td>0.777697</td>\n",
       "      <td>-0.536015</td>\n",
       "      <td>N778SW</td>\n",
       "      <td>-0.993197</td>\n",
       "      <td>-0.195924</td>\n",
       "      <td>259.000000</td>\n",
       "      <td>0.0</td>\n",
       "      <td>0</td>\n",
       "      <td>02</td>\n",
       "      <td>20200101</td>\n",
       "      <td>20200101</td>\n",
       "      <td>02</td>\n",
       "    </tr>\n",
       "    <tr>\n",
       "      <th>282447</th>\n",
       "      <td>-0.669835</td>\n",
       "      <td>-0.692870</td>\n",
       "      <td>N579NN</td>\n",
       "      <td>0.714286</td>\n",
       "      <td>0.993754</td>\n",
       "      <td>168.000000</td>\n",
       "      <td>0.0</td>\n",
       "      <td>1</td>\n",
       "      <td>23</td>\n",
       "      <td>20200101</td>\n",
       "      <td>20200101</td>\n",
       "      <td>23</td>\n",
       "    </tr>\n",
       "    <tr>\n",
       "      <th>...</th>\n",
       "      <td>...</td>\n",
       "      <td>...</td>\n",
       "      <td>...</td>\n",
       "      <td>...</td>\n",
       "      <td>...</td>\n",
       "      <td>...</td>\n",
       "      <td>...</td>\n",
       "      <td>...</td>\n",
       "      <td>...</td>\n",
       "      <td>...</td>\n",
       "      <td>...</td>\n",
       "      <td>...</td>\n",
       "    </tr>\n",
       "    <tr>\n",
       "      <th>374775</th>\n",
       "      <td>0.366362</td>\n",
       "      <td>0.331627</td>\n",
       "      <td>N278WN</td>\n",
       "      <td>-0.993197</td>\n",
       "      <td>-0.233070</td>\n",
       "      <td>362.000000</td>\n",
       "      <td>0.0</td>\n",
       "      <td>0</td>\n",
       "      <td>00</td>\n",
       "      <td>20200101</td>\n",
       "      <td>20200101</td>\n",
       "      <td>00</td>\n",
       "    </tr>\n",
       "    <tr>\n",
       "      <th>295665</th>\n",
       "      <td>-0.435832</td>\n",
       "      <td>-0.150274</td>\n",
       "      <td>N2017J</td>\n",
       "      <td>0.734694</td>\n",
       "      <td>-0.322814</td>\n",
       "      <td>1069.000000</td>\n",
       "      <td>0.0</td>\n",
       "      <td>0</td>\n",
       "      <td>17</td>\n",
       "      <td>20200101</td>\n",
       "      <td>20200101</td>\n",
       "      <td>17</td>\n",
       "    </tr>\n",
       "    <tr>\n",
       "      <th>365119</th>\n",
       "      <td>-0.227788</td>\n",
       "      <td>0.000000</td>\n",
       "      <td>N832UA</td>\n",
       "      <td>0.000000</td>\n",
       "      <td>-0.374753</td>\n",
       "      <td>1222.000000</td>\n",
       "      <td>0.0</td>\n",
       "      <td>0</td>\n",
       "      <td>00</td>\n",
       "      <td>20200101</td>\n",
       "      <td>20200101</td>\n",
       "      <td>00</td>\n",
       "    </tr>\n",
       "    <tr>\n",
       "      <th>71648</th>\n",
       "      <td>0.165631</td>\n",
       "      <td>0.115174</td>\n",
       "      <td>N286WN</td>\n",
       "      <td>-0.993197</td>\n",
       "      <td>0.428337</td>\n",
       "      <td>1066.000000</td>\n",
       "      <td>0.0</td>\n",
       "      <td>0</td>\n",
       "      <td>21</td>\n",
       "      <td>20200101</td>\n",
       "      <td>20200101</td>\n",
       "      <td>21</td>\n",
       "    </tr>\n",
       "    <tr>\n",
       "      <th>224261</th>\n",
       "      <td>0.445338</td>\n",
       "      <td>0.909324</td>\n",
       "      <td>N907FJ</td>\n",
       "      <td>0.681973</td>\n",
       "      <td>1.174227</td>\n",
       "      <td>803.586898</td>\n",
       "      <td>0.0</td>\n",
       "      <td>1</td>\n",
       "      <td>22</td>\n",
       "      <td>20200101</td>\n",
       "      <td>20200101</td>\n",
       "      <td>22</td>\n",
       "    </tr>\n",
       "  </tbody>\n",
       "</table>\n",
       "<p>419487 rows × 12 columns</p>\n",
       "</div>"
      ],
      "text/plain": [
       "        ORIGIN_AIRPORT_ID  DEST_AIRPORT_ID TAIL_NUM  OP_CARRIER_AIRLINE_ID  \\\n",
       "ID                                                                           \n",
       "345355           0.723949         0.738208   N128DU              -0.318027   \n",
       "323447          -0.792687         0.679342   N486AS              -0.079932   \n",
       "242237          -0.595978        -0.255210   N901WN              -0.993197   \n",
       "271408           0.777697        -0.536015   N778SW              -0.993197   \n",
       "282447          -0.669835        -0.692870   N579NN               0.714286   \n",
       "...                   ...              ...      ...                    ...   \n",
       "374775           0.366362         0.331627   N278WN              -0.993197   \n",
       "295665          -0.435832        -0.150274   N2017J               0.734694   \n",
       "365119          -0.227788         0.000000   N832UA               0.000000   \n",
       "71648            0.165631         0.115174   N286WN              -0.993197   \n",
       "224261           0.445338         0.909324   N907FJ               0.681973   \n",
       "\n",
       "        OP_CARRIER_FL_NUM     DISTANCE  DEP_DEL15  ARR_DEL15 Hours_Departure  \\\n",
       "ID                                                                             \n",
       "345355          -0.370809   588.000000        0.0          0              22   \n",
       "323447          -0.713018  2496.000000        0.0          0              21   \n",
       "242237          -0.716963   239.000000        0.0          0              13   \n",
       "271408          -0.195924   259.000000        0.0          0              02   \n",
       "282447           0.993754   168.000000        0.0          1              23   \n",
       "...                   ...          ...        ...        ...             ...   \n",
       "374775          -0.233070   362.000000        0.0          0              00   \n",
       "295665          -0.322814  1069.000000        0.0          0              17   \n",
       "365119          -0.374753  1222.000000        0.0          0              00   \n",
       "71648            0.428337  1066.000000        0.0          0              21   \n",
       "224261           1.174227   803.586898        0.0          1              22   \n",
       "\n",
       "        Date_Departure  Date_Arrival Hours_Arrival  \n",
       "ID                                                  \n",
       "345355        20200101      20200101            22  \n",
       "323447        20200101      20200101            21  \n",
       "242237        20200101      20200101            13  \n",
       "271408        20200101      20200101            02  \n",
       "282447        20200101      20200101            23  \n",
       "...                ...           ...           ...  \n",
       "374775        20200101      20200101            00  \n",
       "295665        20200101      20200101            17  \n",
       "365119        20200101      20200101            00  \n",
       "71648         20200101      20200101            21  \n",
       "224261        20200101      20200101            22  \n",
       "\n",
       "[419487 rows x 12 columns]"
      ]
     },
     "execution_count": 24,
     "metadata": {},
     "output_type": "execute_result"
    }
   ],
   "source": [
    "##SCALE DE VARIAVEIS NUMERICAS\n",
    "\n",
    "from sklearn.preprocessing import RobustScaler\n",
    "\n",
    "#Features to scale\n",
    "\n",
    "scale_list = ['ORIGIN_AIRPORT_ID', 'DEST_AIRPORT_ID', 'OP_CARRIER_AIRLINE_ID', 'OP_CARRIER_FL_NUM']\n",
    "\n",
    "\n",
    "for f in scale_list:\n",
    "    # initialize transformer with desired options\n",
    "    robustscaler = RobustScaler()\n",
    "\n",
    "    # save data to scale\n",
    "    X_rbs = df[[f]]\n",
    "\n",
    "    # fit transformer to data\n",
    "    robustscaler.fit(X_rbs)\n",
    "\n",
    "    # create new feature by transforming the data\n",
    "    col_new_name = f + '_robust_scaled'\n",
    "    df[f] = robustscaler.transform(X_rbs)\n",
    "\n",
    "\n",
    "#drop original columns\n",
    "df.drop(scale_list, axis = 1)\n",
    "df"
   ]
  },
  {
   "cell_type": "markdown",
   "metadata": {},
   "source": [
    "## Encoding"
   ]
  },
  {
   "cell_type": "code",
   "execution_count": 25,
   "metadata": {
    "ExecuteTime": {
     "end_time": "2020-08-02T13:08:16.410154Z",
     "start_time": "2020-08-02T13:08:16.274999Z"
    }
   },
   "outputs": [],
   "source": [
    "#ENCODING VARIAVEIS CATEGORICAS\n",
    "\n",
    "encoder = ce.ordinal.OrdinalEncoder()\n",
    "\n",
    "X2 = df[['TAIL_NUM']]\n",
    "encoder.fit(X2)\n",
    "\n",
    "df['TAIL_NUM_Encode'] = encoder.transform(X2)\n",
    "df = df.drop('TAIL_NUM',axis=1)"
   ]
  },
  {
   "cell_type": "code",
   "execution_count": 26,
   "metadata": {
    "ExecuteTime": {
     "end_time": "2020-08-02T13:08:16.441082Z",
     "start_time": "2020-08-02T13:08:16.415892Z"
    }
   },
   "outputs": [
    {
     "data": {
      "text/plain": [
       "\"\\n# now let's make the pipeline\\npipeline = make_pipeline(\\n    RemoveObjectColumns(),\\n    # it's cool how scikit already has a mean imputer ready to go!\\n    SimpleImputer(strategy='mean'),\\n    RandomForestClassifier(n_estimators=10)\\n)\\n\\n# No need for us to manually preprocess the X_train at all\\npipeline.fit(X_train, y_train)\\n\\n# Same thing for X_test\\nprobas = pipeline.predict_proba(X_test)\\n\""
      ]
     },
     "execution_count": 26,
     "metadata": {},
     "output_type": "execute_result"
    }
   ],
   "source": [
    "## CRIAR PIPELINE\n",
    "\"\"\"\n",
    "# now let's make the pipeline\n",
    "pipeline = make_pipeline(\n",
    "    RemoveObjectColumns(),\n",
    "    # it's cool how scikit already has a mean imputer ready to go!\n",
    "    SimpleImputer(strategy='mean'),\n",
    "    RandomForestClassifier(n_estimators=10)\n",
    ")\n",
    "\n",
    "# No need for us to manually preprocess the X_train at all\n",
    "pipeline.fit(X_train, y_train)\n",
    "\n",
    "# Same thing for X_test\n",
    "probas = pipeline.predict_proba(X_test)\n",
    "\"\"\""
   ]
  },
  {
   "cell_type": "code",
   "execution_count": 27,
   "metadata": {
    "ExecuteTime": {
     "end_time": "2020-08-02T13:08:23.411891Z",
     "start_time": "2020-08-02T13:08:16.445080Z"
    }
   },
   "outputs": [],
   "source": [
    "df.to_csv('data/' + dataset + '_worked.csv')"
   ]
  }
 ],
 "metadata": {
  "kernelspec": {
   "display_name": "Python 3",
   "language": "python",
   "name": "python3"
  },
  "language_info": {
   "codemirror_mode": {
    "name": "ipython",
    "version": 3
   },
   "file_extension": ".py",
   "mimetype": "text/x-python",
   "name": "python",
   "nbconvert_exporter": "python",
   "pygments_lexer": "ipython3",
   "version": "3.8.3"
  },
  "toc": {
   "base_numbering": 1,
   "nav_menu": {},
   "number_sections": true,
   "sideBar": true,
   "skip_h1_title": false,
   "title_cell": "Table of Contents",
   "title_sidebar": "Contents",
   "toc_cell": false,
   "toc_position": {},
   "toc_section_display": true,
   "toc_window_display": false
  },
  "varInspector": {
   "cols": {
    "lenName": 16,
    "lenType": 16,
    "lenVar": 40
   },
   "kernels_config": {
    "python": {
     "delete_cmd_postfix": "",
     "delete_cmd_prefix": "del ",
     "library": "var_list.py",
     "varRefreshCmd": "print(var_dic_list())"
    },
    "r": {
     "delete_cmd_postfix": ") ",
     "delete_cmd_prefix": "rm(",
     "library": "var_list.r",
     "varRefreshCmd": "cat(var_dic_list()) "
    }
   },
   "types_to_exclude": [
    "module",
    "function",
    "builtin_function_or_method",
    "instance",
    "_Feature"
   ],
   "window_display": false
  }
 },
 "nbformat": 4,
 "nbformat_minor": 4
}
