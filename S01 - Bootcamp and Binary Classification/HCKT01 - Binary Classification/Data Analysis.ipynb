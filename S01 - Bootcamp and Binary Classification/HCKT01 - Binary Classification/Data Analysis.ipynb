{
 "cells": [
  {
   "cell_type": "code",
   "execution_count": 24,
   "metadata": {
    "ExecuteTime": {
     "end_time": "2020-08-02T13:08:04.746237Z",
     "start_time": "2020-08-02T13:08:02.834659Z"
    }
   },
   "outputs": [],
   "source": [
    "import pandas as pd\n",
    "import numpy as np\n",
    "from matplotlib import pyplot as plt \n",
    "import datetime\n",
    "import category_encoders as ce"
   ]
  },
  {
   "cell_type": "code",
   "execution_count": 25,
   "metadata": {
    "ExecuteTime": {
     "end_time": "2020-08-02T13:08:06.536791Z",
     "start_time": "2020-08-02T13:08:04.750238Z"
    }
   },
   "outputs": [],
   "source": [
    "#Set parameter\n",
    "\n",
    "dataset = 'test'\n",
    "\n",
    "#Load data\n",
    "data_ = pd.read_csv(\"data/\" + dataset + \".csv\")\n",
    "data = data_.copy()"
   ]
  },
  {
   "cell_type": "code",
   "execution_count": 26,
   "metadata": {
    "ExecuteTime": {
     "end_time": "2020-08-02T13:08:06.584744Z",
     "start_time": "2020-08-02T13:08:06.540771Z"
    }
   },
   "outputs": [
    {
     "data": {
      "text/html": [
       "<div>\n",
       "<style scoped>\n",
       "    .dataframe tbody tr th:only-of-type {\n",
       "        vertical-align: middle;\n",
       "    }\n",
       "\n",
       "    .dataframe tbody tr th {\n",
       "        vertical-align: top;\n",
       "    }\n",
       "\n",
       "    .dataframe thead th {\n",
       "        text-align: right;\n",
       "    }\n",
       "</style>\n",
       "<table border=\"1\" class=\"dataframe\">\n",
       "  <thead>\n",
       "    <tr style=\"text-align: right;\">\n",
       "      <th></th>\n",
       "      <th>ID</th>\n",
       "      <th>DATE_DEPARTURE_UTC</th>\n",
       "      <th>DATE_ARRIVAL_UTC</th>\n",
       "      <th>DATE_DEPARTURE_LCL</th>\n",
       "      <th>DATE_ARRIVAL_LCL</th>\n",
       "      <th>ORIGIN</th>\n",
       "      <th>ORIGIN_AIRPORT_ID</th>\n",
       "      <th>DEST</th>\n",
       "      <th>DEST_AIRPORT_ID</th>\n",
       "      <th>TAIL_NUM</th>\n",
       "      <th>OP_CARRIER</th>\n",
       "      <th>OP_CARRIER_AIRLINE_ID</th>\n",
       "      <th>OP_CARRIER_FL_NUM</th>\n",
       "      <th>DISTANCE</th>\n",
       "      <th>CANCELLED</th>\n",
       "      <th>DEP_DEL15</th>\n",
       "    </tr>\n",
       "  </thead>\n",
       "  <tbody>\n",
       "    <tr>\n",
       "      <th>0</th>\n",
       "      <td>425552</td>\n",
       "      <td>2020-01-23 01:26:00</td>\n",
       "      <td>2020-01-23 02:52:00</td>\n",
       "      <td>2020-01-22 20:26:00</td>\n",
       "      <td>2020-01-22 21:52:00</td>\n",
       "      <td>LGA</td>\n",
       "      <td>12953</td>\n",
       "      <td>BGR</td>\n",
       "      <td>10581</td>\n",
       "      <td>N8894A</td>\n",
       "      <td>9E</td>\n",
       "      <td>20363</td>\n",
       "      <td>5032</td>\n",
       "      <td>378.0</td>\n",
       "      <td>0</td>\n",
       "      <td>NaN</td>\n",
       "    </tr>\n",
       "    <tr>\n",
       "      <th>1</th>\n",
       "      <td>415418</td>\n",
       "      <td>2020-01-23 01:26:00</td>\n",
       "      <td>2020-01-23 03:04:00</td>\n",
       "      <td>2020-01-22 19:26:00</td>\n",
       "      <td>2020-01-22 22:04:00</td>\n",
       "      <td>MDW</td>\n",
       "      <td>13232</td>\n",
       "      <td>PHL</td>\n",
       "      <td>14100</td>\n",
       "      <td>N8615E</td>\n",
       "      <td>WN</td>\n",
       "      <td>19393</td>\n",
       "      <td>1168</td>\n",
       "      <td>668.0</td>\n",
       "      <td>0</td>\n",
       "      <td>NaN</td>\n",
       "    </tr>\n",
       "    <tr>\n",
       "      <th>2</th>\n",
       "      <td>414222</td>\n",
       "      <td>2020-01-23 01:26:00</td>\n",
       "      <td>2020-01-23 03:06:00</td>\n",
       "      <td>2020-01-22 18:26:00</td>\n",
       "      <td>2020-01-22 19:06:00</td>\n",
       "      <td>DEN</td>\n",
       "      <td>11292</td>\n",
       "      <td>LAS</td>\n",
       "      <td>12889</td>\n",
       "      <td>N7853B</td>\n",
       "      <td>WN</td>\n",
       "      <td>19393</td>\n",
       "      <td>799</td>\n",
       "      <td>628.0</td>\n",
       "      <td>0</td>\n",
       "      <td>NaN</td>\n",
       "    </tr>\n",
       "    <tr>\n",
       "      <th>3</th>\n",
       "      <td>421432</td>\n",
       "      <td>2020-01-23 01:26:00</td>\n",
       "      <td>2020-01-23 02:48:00</td>\n",
       "      <td>2020-01-22 17:26:00</td>\n",
       "      <td>2020-01-22 18:48:00</td>\n",
       "      <td>SJC</td>\n",
       "      <td>14831</td>\n",
       "      <td>SAN</td>\n",
       "      <td>14679</td>\n",
       "      <td>N7812G</td>\n",
       "      <td>WN</td>\n",
       "      <td>19393</td>\n",
       "      <td>4454</td>\n",
       "      <td>417.0</td>\n",
       "      <td>0</td>\n",
       "      <td>0.0</td>\n",
       "    </tr>\n",
       "    <tr>\n",
       "      <th>4</th>\n",
       "      <td>421356</td>\n",
       "      <td>2020-01-23 01:26:00</td>\n",
       "      <td>2020-01-23 02:24:00</td>\n",
       "      <td>2020-01-22 17:26:00</td>\n",
       "      <td>2020-01-22 18:24:00</td>\n",
       "      <td>SJC</td>\n",
       "      <td>14831</td>\n",
       "      <td>BUR</td>\n",
       "      <td>10800</td>\n",
       "      <td>N7859B</td>\n",
       "      <td>WN</td>\n",
       "      <td>19393</td>\n",
       "      <td>2024</td>\n",
       "      <td>296.0</td>\n",
       "      <td>0</td>\n",
       "      <td>NaN</td>\n",
       "    </tr>\n",
       "  </tbody>\n",
       "</table>\n",
       "</div>"
      ],
      "text/plain": [
       "       ID   DATE_DEPARTURE_UTC     DATE_ARRIVAL_UTC   DATE_DEPARTURE_LCL  \\\n",
       "0  425552  2020-01-23 01:26:00  2020-01-23 02:52:00  2020-01-22 20:26:00   \n",
       "1  415418  2020-01-23 01:26:00  2020-01-23 03:04:00  2020-01-22 19:26:00   \n",
       "2  414222  2020-01-23 01:26:00  2020-01-23 03:06:00  2020-01-22 18:26:00   \n",
       "3  421432  2020-01-23 01:26:00  2020-01-23 02:48:00  2020-01-22 17:26:00   \n",
       "4  421356  2020-01-23 01:26:00  2020-01-23 02:24:00  2020-01-22 17:26:00   \n",
       "\n",
       "      DATE_ARRIVAL_LCL ORIGIN  ORIGIN_AIRPORT_ID DEST  DEST_AIRPORT_ID  \\\n",
       "0  2020-01-22 21:52:00    LGA              12953  BGR            10581   \n",
       "1  2020-01-22 22:04:00    MDW              13232  PHL            14100   \n",
       "2  2020-01-22 19:06:00    DEN              11292  LAS            12889   \n",
       "3  2020-01-22 18:48:00    SJC              14831  SAN            14679   \n",
       "4  2020-01-22 18:24:00    SJC              14831  BUR            10800   \n",
       "\n",
       "  TAIL_NUM OP_CARRIER  OP_CARRIER_AIRLINE_ID  OP_CARRIER_FL_NUM  DISTANCE  \\\n",
       "0   N8894A         9E                  20363               5032     378.0   \n",
       "1   N8615E         WN                  19393               1168     668.0   \n",
       "2   N7853B         WN                  19393                799     628.0   \n",
       "3   N7812G         WN                  19393               4454     417.0   \n",
       "4   N7859B         WN                  19393               2024     296.0   \n",
       "\n",
       "   CANCELLED  DEP_DEL15  \n",
       "0          0        NaN  \n",
       "1          0        NaN  \n",
       "2          0        NaN  \n",
       "3          0        0.0  \n",
       "4          0        NaN  "
      ]
     },
     "metadata": {},
     "output_type": "display_data"
    },
    {
     "data": {
      "text/plain": [
       "(179781, 16)"
      ]
     },
     "execution_count": 26,
     "metadata": {},
     "output_type": "execute_result"
    }
   ],
   "source": [
    "#First look\n",
    "display(data.head(5))\n",
    "data.shape"
   ]
  },
  {
   "cell_type": "code",
   "execution_count": 27,
   "metadata": {
    "ExecuteTime": {
     "end_time": "2020-08-02T13:08:06.901855Z",
     "start_time": "2020-08-02T13:08:06.588742Z"
    }
   },
   "outputs": [
    {
     "data": {
      "text/plain": [
       "DISTANCE      7550\n",
       "DEP_DEL15    62923\n",
       "dtype: int64"
      ]
     },
     "execution_count": 27,
     "metadata": {},
     "output_type": "execute_result"
    }
   ],
   "source": [
    "#Find columns with nulls values\n",
    "null_columns=data.columns[data.isnull().any()]\n",
    "data[null_columns].isnull().sum()"
   ]
  },
  {
   "cell_type": "code",
   "execution_count": 28,
   "metadata": {
    "ExecuteTime": {
     "end_time": "2020-08-02T13:08:07.180230Z",
     "start_time": "2020-08-02T13:08:06.905852Z"
    }
   },
   "outputs": [
    {
     "data": {
      "text/plain": [
       "ID                       179781\n",
       "DATE_DEPARTURE_UTC       179781\n",
       "DATE_ARRIVAL_UTC         179781\n",
       "DATE_DEPARTURE_LCL       179781\n",
       "DATE_ARRIVAL_LCL         179781\n",
       "ORIGIN                   179781\n",
       "ORIGIN_AIRPORT_ID        179781\n",
       "DEST                     179781\n",
       "DEST_AIRPORT_ID          179781\n",
       "TAIL_NUM                 179781\n",
       "OP_CARRIER               179781\n",
       "OP_CARRIER_AIRLINE_ID    179781\n",
       "OP_CARRIER_FL_NUM        179781\n",
       "DISTANCE                 172231\n",
       "CANCELLED                179781\n",
       "DEP_DEL15                116858\n",
       "dtype: int64"
      ]
     },
     "execution_count": 28,
     "metadata": {},
     "output_type": "execute_result"
    }
   ],
   "source": [
    "data.count()"
   ]
  },
  {
   "cell_type": "code",
   "execution_count": 29,
   "metadata": {
    "ExecuteTime": {
     "end_time": "2020-08-02T13:08:07.306048Z",
     "start_time": "2020-08-02T13:08:07.185207Z"
    },
    "scrolled": true
   },
   "outputs": [
    {
     "data": {
      "text/plain": [
       "0    179781\n",
       "Name: CANCELLED, dtype: int64"
      ]
     },
     "execution_count": 29,
     "metadata": {},
     "output_type": "execute_result"
    }
   ],
   "source": [
    "#Analyze column Cancelled\n",
    "data['CANCELLED'].value_counts()"
   ]
  },
  {
   "cell_type": "code",
   "execution_count": 30,
   "metadata": {
    "ExecuteTime": {
     "end_time": "2020-08-02T13:08:07.447086Z",
     "start_time": "2020-08-02T13:08:07.310043Z"
    }
   },
   "outputs": [],
   "source": [
    "#Identify columns to drop considering:\n",
    "#Redundant columns - IDs vs Names, local and utc times\n",
    "#Columns with same values (cancelled)\n",
    "to_drop = ['DATE_DEPARTURE_LCL', 'DATE_ARRIVAL_LCL', 'CANCELLED', 'ORIGIN', 'DEST', 'OP_CARRIER']"
   ]
  },
  {
   "cell_type": "code",
   "execution_count": 31,
   "metadata": {
    "ExecuteTime": {
     "end_time": "2020-08-02T13:08:07.617972Z",
     "start_time": "2020-08-02T13:08:07.451028Z"
    }
   },
   "outputs": [],
   "source": [
    "df = data.drop(to_drop, axis=1)"
   ]
  },
  {
   "cell_type": "code",
   "execution_count": 32,
   "metadata": {
    "ExecuteTime": {
     "end_time": "2020-08-02T13:08:07.777040Z",
     "start_time": "2020-08-02T13:08:07.621958Z"
    }
   },
   "outputs": [
    {
     "data": {
      "text/plain": [
       "ID                         int64\n",
       "DATE_DEPARTURE_UTC        object\n",
       "DATE_ARRIVAL_UTC          object\n",
       "ORIGIN_AIRPORT_ID          int64\n",
       "DEST_AIRPORT_ID            int64\n",
       "TAIL_NUM                  object\n",
       "OP_CARRIER_AIRLINE_ID      int64\n",
       "OP_CARRIER_FL_NUM          int64\n",
       "DISTANCE                 float64\n",
       "DEP_DEL15                float64\n",
       "dtype: object"
      ]
     },
     "execution_count": 32,
     "metadata": {},
     "output_type": "execute_result"
    }
   ],
   "source": [
    "df.dtypes"
   ]
  },
  {
   "cell_type": "code",
   "execution_count": 33,
   "metadata": {
    "ExecuteTime": {
     "end_time": "2020-08-02T13:08:07.997123Z",
     "start_time": "2020-08-02T13:08:07.779037Z"
    }
   },
   "outputs": [],
   "source": [
    "#Set ID as Index\n",
    "df = df.set_index('ID')"
   ]
  },
  {
   "cell_type": "code",
   "execution_count": 34,
   "metadata": {},
   "outputs": [
    {
     "name": "stdout",
     "output_type": "stream",
     "text": [
      "       Date_Departure Hours_Departure\n",
      "ID                                   \n",
      "425552       20200123        01:26:00\n",
      "415418       20200123        01:26:00\n",
      "414222       20200123        01:26:00\n",
      "421432       20200123        01:26:00\n",
      "421356       20200123        01:26:00\n"
     ]
    }
   ],
   "source": [
    "print(df_date_sep.head())"
   ]
  },
  {
   "cell_type": "markdown",
   "metadata": {},
   "source": [
    "# Datetime special treatment"
   ]
  },
  {
   "cell_type": "code",
   "execution_count": 35,
   "metadata": {
    "ExecuteTime": {
     "end_time": "2020-08-02T13:08:13.610018Z",
     "start_time": "2020-08-02T13:08:08.000084Z"
    }
   },
   "outputs": [],
   "source": [
    "#Split the data Departure\n",
    "df_date_sep = df.DATE_DEPARTURE_UTC.str.split(pat=' ', expand=True)\n",
    "df_date_sep.columns = ['Date_Departure', 'Hours_Departure']\n",
    "df_date_sep_hour = df_date_sep.Hours_Departure.str.split(pat=':', expand=True)\n",
    "df_date_sep_hour.columns = ['hours','minute','second']\n",
    "\n",
    "\n",
    "#Convert Departure Data to datetime\n",
    "df_date_sep['Date_Departure']= df_date_sep['Date_Departure'].str.replace('-','')\n",
    "df_date_sep['Hours_Departure'] = df['Hours_Departure']= df_date_sep_hour['hours'].values\n",
    "\n",
    "#Add Departure data to df\n",
    "df['Date_Departure']= df_date_sep['Date_Departure'].values\n",
    "df['Hours_Departure'] = df_date_sep['Hours_Departure'].values\n",
    "\n",
    "#Split the data Arrival\n",
    "df_date_sep = df.DATE_ARRIVAL_UTC.str.split(pat=' ', expand=True)\n",
    "df_date_sep.columns = ['Date_Arrival', 'Hours_Arrival']\n",
    "\n",
    "#Convert Arrival Data to datetime\n",
    "df_date_sep['Date_Arrival']= df_date_sep['Date_Arrival'].str.replace('-','')\n",
    "df_date_sep['Hours_Arrival'] = df['Hours_Departure']= df_date_sep_hour['hours'].values\n",
    "\n",
    "\n",
    "Convert Arrival Data to datetime\n",
    "df_date_sep['Date_Arrival']= df_date_sep['Date_Arrival'].str.replace('-','')\n",
    "df_date_sep['Hours_Arrival'] = df['Hours_Departure']= df_date_sep_hour['hours'].values\n",
    "\n",
    "\n"
   ]
  },
  {
   "cell_type": "markdown",
   "metadata": {},
   "source": [
    "# Numerical variabels"
   ]
  },
  {
   "cell_type": "code",
   "execution_count": 36,
   "metadata": {
    "ExecuteTime": {
     "end_time": "2020-08-02T13:08:14.284718Z",
     "start_time": "2020-08-02T13:08:13.613977Z"
    }
   },
   "outputs": [
    {
     "ename": "NameError",
     "evalue": "name 'sns' is not defined",
     "output_type": "error",
     "traceback": [
      "\u001b[0;31m---------------------------------------------------------------------------\u001b[0m",
      "\u001b[0;31mNameError\u001b[0m                                 Traceback (most recent call last)",
      "\u001b[0;32m<ipython-input-36-572962fd64c0>\u001b[0m in \u001b[0;36m<module>\u001b[0;34m\u001b[0m\n\u001b[1;32m      4\u001b[0m \u001b[0mcor_df_lower\u001b[0m \u001b[0;34m=\u001b[0m \u001b[0mcor_df\u001b[0m\u001b[0;34m.\u001b[0m\u001b[0mmask\u001b[0m\u001b[0;34m(\u001b[0m\u001b[0mlower_triangle_mask\u001b[0m\u001b[0;34m)\u001b[0m\u001b[0;34m\u001b[0m\u001b[0;34m\u001b[0m\u001b[0m\n\u001b[1;32m      5\u001b[0m \u001b[0mplt\u001b[0m\u001b[0;34m.\u001b[0m\u001b[0mfigure\u001b[0m\u001b[0;34m(\u001b[0m\u001b[0mfigsize\u001b[0m \u001b[0;34m=\u001b[0m \u001b[0;34m(\u001b[0m\u001b[0;36m12\u001b[0m\u001b[0;34m,\u001b[0m\u001b[0;36m8\u001b[0m\u001b[0;34m)\u001b[0m\u001b[0;34m)\u001b[0m\u001b[0;34m\u001b[0m\u001b[0;34m\u001b[0m\u001b[0m\n\u001b[0;32m----> 6\u001b[0;31m \u001b[0msns\u001b[0m\u001b[0;34m.\u001b[0m\u001b[0mheatmap\u001b[0m\u001b[0;34m(\u001b[0m\u001b[0mcor_df_lower\u001b[0m\u001b[0;34m,\u001b[0m \u001b[0mannot\u001b[0m \u001b[0;34m=\u001b[0m \u001b[0;32mTrue\u001b[0m\u001b[0;34m,\u001b[0m \u001b[0mcmap\u001b[0m \u001b[0;34m=\u001b[0m \u001b[0;34m\"RdBu_r\"\u001b[0m\u001b[0;34m)\u001b[0m\u001b[0;34m\u001b[0m\u001b[0;34m\u001b[0m\u001b[0m\n\u001b[0m",
      "\u001b[0;31mNameError\u001b[0m: name 'sns' is not defined"
     ]
    },
    {
     "data": {
      "text/plain": [
       "<Figure size 864x576 with 0 Axes>"
      ]
     },
     "metadata": {},
     "output_type": "display_data"
    }
   ],
   "source": [
    "#check correlation\n",
    "cor_df = df.corr()\n",
    "lower_triangle_mask = np.triu(np.ones(cor_df.shape)).astype(np.bool)\n",
    "cor_df_lower = cor_df.mask(lower_triangle_mask)\n",
    "plt.figure(figsize = (12,8))\n",
    "sns.heatmap(cor_df_lower, annot = True, cmap = \"RdBu_r\")"
   ]
  },
  {
   "cell_type": "markdown",
   "metadata": {},
   "source": [
    "### Fill nulls"
   ]
  },
  {
   "cell_type": "code",
   "execution_count": 37,
   "metadata": {
    "ExecuteTime": {
     "end_time": "2020-08-02T13:08:14.316194Z",
     "start_time": "2020-08-02T13:08:14.288699Z"
    }
   },
   "outputs": [],
   "source": [
    "df['DEP_DEL15'] = df['DEP_DEL15'].fillna(0)"
   ]
  },
  {
   "cell_type": "code",
   "execution_count": 38,
   "metadata": {
    "ExecuteTime": {
     "end_time": "2020-08-02T13:08:14.409868Z",
     "start_time": "2020-08-02T13:08:14.321190Z"
    }
   },
   "outputs": [
    {
     "data": {
      "text/plain": [
       "0.0    166952\n",
       "1.0     12829\n",
       "Name: DEP_DEL15, dtype: int64"
      ]
     },
     "execution_count": 38,
     "metadata": {},
     "output_type": "execute_result"
    }
   ],
   "source": [
    "df['DEP_DEL15'].value_counts()"
   ]
  },
  {
   "cell_type": "code",
   "execution_count": 39,
   "metadata": {
    "ExecuteTime": {
     "end_time": "2020-08-02T13:08:14.551138Z",
     "start_time": "2020-08-02T13:08:14.423861Z"
    }
   },
   "outputs": [
    {
     "data": {
      "text/plain": [
       "'\\n\"tailnums = df[\\'TAIL_NUM\\'].unique()\\n\\nfor tn in tailnums:\\n    df.loc[df[\\'TAIL_NUM\\'] == tn][\\'DISTANCE\\'].mean()\\n'"
      ]
     },
     "execution_count": 39,
     "metadata": {},
     "output_type": "execute_result"
    }
   ],
   "source": [
    "#NICE TO HAVE\n",
    "\"\"\"\n",
    "\"tailnums = df['TAIL_NUM'].unique()\n",
    "\n",
    "for tn in tailnums:\n",
    "    df.loc[df['TAIL_NUM'] == tn]['DISTANCE'].mean()\n",
    "\"\"\""
   ]
  },
  {
   "cell_type": "code",
   "execution_count": 40,
   "metadata": {
    "ExecuteTime": {
     "end_time": "2020-08-02T13:08:14.659926Z",
     "start_time": "2020-08-02T13:08:14.556136Z"
    }
   },
   "outputs": [],
   "source": [
    "mean = df['DISTANCE'].mean()\n",
    "df['DISTANCE'] = df['DISTANCE'].fillna(mean)"
   ]
  },
  {
   "cell_type": "code",
   "execution_count": 41,
   "metadata": {
    "ExecuteTime": {
     "end_time": "2020-08-02T13:08:14.881394Z",
     "start_time": "2020-08-02T13:08:14.663905Z"
    }
   },
   "outputs": [
    {
     "data": {
      "text/plain": [
       "ORIGIN_AIRPORT_ID        179781\n",
       "DEST_AIRPORT_ID          179781\n",
       "TAIL_NUM                 179781\n",
       "OP_CARRIER_AIRLINE_ID    179781\n",
       "OP_CARRIER_FL_NUM        179781\n",
       "DISTANCE                 179781\n",
       "DEP_DEL15                179781\n",
       "Hours_Departure          179781\n",
       "Date_Departure           179781\n",
       "Date_Arrival             179781\n",
       "Hours_Arrival            179781\n",
       "dtype: int64"
      ]
     },
     "execution_count": 41,
     "metadata": {},
     "output_type": "execute_result"
    }
   ],
   "source": [
    "#Check if there are no remaining nulls\n",
    "df.count()"
   ]
  },
  {
   "cell_type": "markdown",
   "metadata": {},
   "source": [
    "# Categorical features"
   ]
  },
  {
   "cell_type": "code",
   "execution_count": 42,
   "metadata": {
    "ExecuteTime": {
     "end_time": "2020-08-02T13:08:15.116629Z",
     "start_time": "2020-08-02T13:08:14.886392Z"
    }
   },
   "outputs": [],
   "source": [
    "#Convert to category type\n",
    "df = df.assign(TAIL_NUM=df['TAIL_NUM'].astype('category'))"
   ]
  },
  {
   "cell_type": "code",
   "execution_count": 43,
   "metadata": {
    "ExecuteTime": {
     "end_time": "2020-08-02T13:08:15.132640Z",
     "start_time": "2020-08-02T13:08:15.120627Z"
    }
   },
   "outputs": [
    {
     "data": {
      "text/plain": [
       "ORIGIN_AIRPORT_ID           int64\n",
       "DEST_AIRPORT_ID             int64\n",
       "TAIL_NUM                 category\n",
       "OP_CARRIER_AIRLINE_ID       int64\n",
       "OP_CARRIER_FL_NUM           int64\n",
       "DISTANCE                  float64\n",
       "DEP_DEL15                 float64\n",
       "Hours_Departure            object\n",
       "Date_Departure             object\n",
       "Date_Arrival               object\n",
       "Hours_Arrival              object\n",
       "dtype: object"
      ]
     },
     "execution_count": 43,
     "metadata": {},
     "output_type": "execute_result"
    }
   ],
   "source": [
    "df.dtypes"
   ]
  },
  {
   "cell_type": "code",
   "execution_count": 44,
   "metadata": {
    "ExecuteTime": {
     "end_time": "2020-08-02T13:08:15.415746Z",
     "start_time": "2020-08-02T13:08:15.135619Z"
    }
   },
   "outputs": [
    {
     "data": {
      "image/png": "[encoded data removed]",
      "text/plain": [
       "<Figure size 432x288 with 1 Axes>"
      ]
     },
     "metadata": {
      "needs_background": "light"
     },
     "output_type": "display_data"
    },
    {
     "data": {
      "text/plain": [
       "TAIL_NUM    5218\n",
       "dtype: int64"
      ]
     },
     "execution_count": 44,
     "metadata": {},
     "output_type": "execute_result"
    }
   ],
   "source": [
    "#Check for unique values\n",
    "categoricals = df.select_dtypes(include='category').columns\n",
    "categoricals\n",
    "\n",
    "number_of_uniques_per_category = df.loc[:, categoricals].nunique()\n",
    "\n",
    "# little plot \n",
    "number_of_uniques_per_category.plot(kind='barh',\n",
    "                                    title='# uniques / categories');\n",
    "plt.xlabel('Number of uniques')\n",
    "plt.show()\n",
    "\n",
    "\n",
    "number_of_uniques_per_category"
   ]
  },
  {
   "cell_type": "markdown",
   "metadata": {},
   "source": [
    "# Pipeline - scalling & encoding"
   ]
  },
  {
   "cell_type": "markdown",
   "metadata": {},
   "source": [
    "## Scalling"
   ]
  },
  {
   "cell_type": "code",
   "execution_count": 45,
   "metadata": {
    "ExecuteTime": {
     "end_time": "2020-08-02T13:08:15.431246Z",
     "start_time": "2020-08-02T13:08:15.418744Z"
    }
   },
   "outputs": [
    {
     "data": {
      "text/plain": [
       "ORIGIN_AIRPORT_ID           int64\n",
       "DEST_AIRPORT_ID             int64\n",
       "TAIL_NUM                 category\n",
       "OP_CARRIER_AIRLINE_ID       int64\n",
       "OP_CARRIER_FL_NUM           int64\n",
       "DISTANCE                  float64\n",
       "DEP_DEL15                 float64\n",
       "Hours_Departure            object\n",
       "Date_Departure             object\n",
       "Date_Arrival               object\n",
       "Hours_Arrival              object\n",
       "dtype: object"
      ]
     },
     "execution_count": 45,
     "metadata": {},
     "output_type": "execute_result"
    }
   ],
   "source": [
    "df.dtypes"
   ]
  },
  {
   "cell_type": "code",
   "execution_count": 46,
   "metadata": {
    "ExecuteTime": {
     "end_time": "2020-08-02T13:08:15.590922Z",
     "start_time": "2020-08-02T13:08:15.435244Z"
    }
   },
   "outputs": [],
   "source": [
    "numericals = df.select_dtypes(include=['int64','float64']).columns"
   ]
  },
  {
   "cell_type": "code",
   "execution_count": 47,
   "metadata": {
    "ExecuteTime": {
     "end_time": "2020-08-02T13:08:15.906229Z",
     "start_time": "2020-08-02T13:08:15.598865Z"
    }
   },
   "outputs": [
    {
     "data": {
      "text/html": [
       "<div>\n",
       "<style scoped>\n",
       "    .dataframe tbody tr th:only-of-type {\n",
       "        vertical-align: middle;\n",
       "    }\n",
       "\n",
       "    .dataframe tbody tr th {\n",
       "        vertical-align: top;\n",
       "    }\n",
       "\n",
       "    .dataframe thead th {\n",
       "        text-align: right;\n",
       "    }\n",
       "</style>\n",
       "<table border=\"1\" class=\"dataframe\">\n",
       "  <thead>\n",
       "    <tr style=\"text-align: right;\">\n",
       "      <th></th>\n",
       "      <th>ORIGIN_AIRPORT_ID</th>\n",
       "      <th>DEST_AIRPORT_ID</th>\n",
       "      <th>OP_CARRIER_AIRLINE_ID</th>\n",
       "      <th>OP_CARRIER_FL_NUM</th>\n",
       "      <th>DISTANCE</th>\n",
       "      <th>DEP_DEL15</th>\n",
       "    </tr>\n",
       "  </thead>\n",
       "  <tbody>\n",
       "    <tr>\n",
       "      <th>count</th>\n",
       "      <td>179781.000000</td>\n",
       "      <td>179781.000000</td>\n",
       "      <td>179781.000000</td>\n",
       "      <td>179781.000000</td>\n",
       "      <td>179781.000000</td>\n",
       "      <td>179781.000000</td>\n",
       "    </tr>\n",
       "    <tr>\n",
       "      <th>mean</th>\n",
       "      <td>12653.169234</td>\n",
       "      <td>12655.366346</td>\n",
       "      <td>19995.097535</td>\n",
       "      <td>2591.377287</td>\n",
       "      <td>790.853348</td>\n",
       "      <td>0.071359</td>\n",
       "    </tr>\n",
       "    <tr>\n",
       "      <th>std</th>\n",
       "      <td>1524.265549</td>\n",
       "      <td>1526.011750</td>\n",
       "      <td>374.426332</td>\n",
       "      <td>1811.552094</td>\n",
       "      <td>572.064589</td>\n",
       "      <td>0.257424</td>\n",
       "    </tr>\n",
       "    <tr>\n",
       "      <th>min</th>\n",
       "      <td>10135.000000</td>\n",
       "      <td>10135.000000</td>\n",
       "      <td>19393.000000</td>\n",
       "      <td>1.000000</td>\n",
       "      <td>31.000000</td>\n",
       "      <td>0.000000</td>\n",
       "    </tr>\n",
       "    <tr>\n",
       "      <th>25%</th>\n",
       "      <td>11292.000000</td>\n",
       "      <td>11292.000000</td>\n",
       "      <td>19790.000000</td>\n",
       "      <td>1054.000000</td>\n",
       "      <td>373.000000</td>\n",
       "      <td>0.000000</td>\n",
       "    </tr>\n",
       "    <tr>\n",
       "      <th>50%</th>\n",
       "      <td>12889.000000</td>\n",
       "      <td>12889.000000</td>\n",
       "      <td>19977.000000</td>\n",
       "      <td>2139.000000</td>\n",
       "      <td>657.000000</td>\n",
       "      <td>0.000000</td>\n",
       "    </tr>\n",
       "    <tr>\n",
       "      <th>75%</th>\n",
       "      <td>14027.000000</td>\n",
       "      <td>14027.000000</td>\n",
       "      <td>20368.000000</td>\n",
       "      <td>4070.000000</td>\n",
       "      <td>1011.000000</td>\n",
       "      <td>0.000000</td>\n",
       "    </tr>\n",
       "    <tr>\n",
       "      <th>max</th>\n",
       "      <td>16869.000000</td>\n",
       "      <td>16869.000000</td>\n",
       "      <td>20452.000000</td>\n",
       "      <td>6860.000000</td>\n",
       "      <td>5095.000000</td>\n",
       "      <td>1.000000</td>\n",
       "    </tr>\n",
       "  </tbody>\n",
       "</table>\n",
       "</div>"
      ],
      "text/plain": [
       "       ORIGIN_AIRPORT_ID  DEST_AIRPORT_ID  OP_CARRIER_AIRLINE_ID  \\\n",
       "count      179781.000000    179781.000000          179781.000000   \n",
       "mean        12653.169234     12655.366346           19995.097535   \n",
       "std          1524.265549      1526.011750             374.426332   \n",
       "min         10135.000000     10135.000000           19393.000000   \n",
       "25%         11292.000000     11292.000000           19790.000000   \n",
       "50%         12889.000000     12889.000000           19977.000000   \n",
       "75%         14027.000000     14027.000000           20368.000000   \n",
       "max         16869.000000     16869.000000           20452.000000   \n",
       "\n",
       "       OP_CARRIER_FL_NUM       DISTANCE      DEP_DEL15  \n",
       "count      179781.000000  179781.000000  179781.000000  \n",
       "mean         2591.377287     790.853348       0.071359  \n",
       "std          1811.552094     572.064589       0.257424  \n",
       "min             1.000000      31.000000       0.000000  \n",
       "25%          1054.000000     373.000000       0.000000  \n",
       "50%          2139.000000     657.000000       0.000000  \n",
       "75%          4070.000000    1011.000000       0.000000  \n",
       "max          6860.000000    5095.000000       1.000000  "
      ]
     },
     "execution_count": 47,
     "metadata": {},
     "output_type": "execute_result"
    }
   ],
   "source": [
    "df[numericals].describe()"
   ]
  },
  {
   "cell_type": "code",
   "execution_count": 48,
   "metadata": {
    "ExecuteTime": {
     "end_time": "2020-08-02T13:08:16.271000Z",
     "start_time": "2020-08-02T13:08:15.918203Z"
    }
   },
   "outputs": [
    {
     "data": {
      "text/html": [
       "<div>\n",
       "<style scoped>\n",
       "    .dataframe tbody tr th:only-of-type {\n",
       "        vertical-align: middle;\n",
       "    }\n",
       "\n",
       "    .dataframe tbody tr th {\n",
       "        vertical-align: top;\n",
       "    }\n",
       "\n",
       "    .dataframe thead th {\n",
       "        text-align: right;\n",
       "    }\n",
       "</style>\n",
       "<table border=\"1\" class=\"dataframe\">\n",
       "  <thead>\n",
       "    <tr style=\"text-align: right;\">\n",
       "      <th></th>\n",
       "      <th>ORIGIN_AIRPORT_ID</th>\n",
       "      <th>DEST_AIRPORT_ID</th>\n",
       "      <th>TAIL_NUM</th>\n",
       "      <th>OP_CARRIER_AIRLINE_ID</th>\n",
       "      <th>OP_CARRIER_FL_NUM</th>\n",
       "      <th>DISTANCE</th>\n",
       "      <th>DEP_DEL15</th>\n",
       "      <th>Hours_Departure</th>\n",
       "      <th>Date_Departure</th>\n",
       "      <th>Date_Arrival</th>\n",
       "      <th>Hours_Arrival</th>\n",
       "    </tr>\n",
       "    <tr>\n",
       "      <th>ID</th>\n",
       "      <th></th>\n",
       "      <th></th>\n",
       "      <th></th>\n",
       "      <th></th>\n",
       "      <th></th>\n",
       "      <th></th>\n",
       "      <th></th>\n",
       "      <th></th>\n",
       "      <th></th>\n",
       "      <th></th>\n",
       "      <th></th>\n",
       "    </tr>\n",
       "  </thead>\n",
       "  <tbody>\n",
       "    <tr>\n",
       "      <th>425552</th>\n",
       "      <td>0.023400</td>\n",
       "      <td>-0.843876</td>\n",
       "      <td>N8894A</td>\n",
       "      <td>0.667820</td>\n",
       "      <td>0.959218</td>\n",
       "      <td>378.0</td>\n",
       "      <td>0.0</td>\n",
       "      <td>01</td>\n",
       "      <td>20200123</td>\n",
       "      <td>20200123</td>\n",
       "      <td>01</td>\n",
       "    </tr>\n",
       "    <tr>\n",
       "      <th>415418</th>\n",
       "      <td>0.125411</td>\n",
       "      <td>0.442779</td>\n",
       "      <td>N8615E</td>\n",
       "      <td>-1.010381</td>\n",
       "      <td>-0.321950</td>\n",
       "      <td>668.0</td>\n",
       "      <td>0.0</td>\n",
       "      <td>01</td>\n",
       "      <td>20200123</td>\n",
       "      <td>20200123</td>\n",
       "      <td>01</td>\n",
       "    </tr>\n",
       "    <tr>\n",
       "      <th>414222</th>\n",
       "      <td>-0.583912</td>\n",
       "      <td>0.000000</td>\n",
       "      <td>N7853B</td>\n",
       "      <td>-1.010381</td>\n",
       "      <td>-0.444297</td>\n",
       "      <td>628.0</td>\n",
       "      <td>0.0</td>\n",
       "      <td>01</td>\n",
       "      <td>20200123</td>\n",
       "      <td>20200123</td>\n",
       "      <td>01</td>\n",
       "    </tr>\n",
       "    <tr>\n",
       "      <th>421432</th>\n",
       "      <td>0.710055</td>\n",
       "      <td>0.654479</td>\n",
       "      <td>N7812G</td>\n",
       "      <td>-1.010381</td>\n",
       "      <td>0.767573</td>\n",
       "      <td>417.0</td>\n",
       "      <td>0.0</td>\n",
       "      <td>01</td>\n",
       "      <td>20200123</td>\n",
       "      <td>20200123</td>\n",
       "      <td>01</td>\n",
       "    </tr>\n",
       "    <tr>\n",
       "      <th>421356</th>\n",
       "      <td>0.710055</td>\n",
       "      <td>-0.763803</td>\n",
       "      <td>N7859B</td>\n",
       "      <td>-1.010381</td>\n",
       "      <td>-0.038130</td>\n",
       "      <td>296.0</td>\n",
       "      <td>0.0</td>\n",
       "      <td>01</td>\n",
       "      <td>20200123</td>\n",
       "      <td>20200123</td>\n",
       "      <td>01</td>\n",
       "    </tr>\n",
       "    <tr>\n",
       "      <th>...</th>\n",
       "      <td>...</td>\n",
       "      <td>...</td>\n",
       "      <td>...</td>\n",
       "      <td>...</td>\n",
       "      <td>...</td>\n",
       "      <td>...</td>\n",
       "      <td>...</td>\n",
       "      <td>...</td>\n",
       "      <td>...</td>\n",
       "      <td>...</td>\n",
       "      <td>...</td>\n",
       "    </tr>\n",
       "    <tr>\n",
       "      <th>595550</th>\n",
       "      <td>-0.047898</td>\n",
       "      <td>0.688117</td>\n",
       "      <td>N77430</td>\n",
       "      <td>0.000000</td>\n",
       "      <td>-0.137599</td>\n",
       "      <td>2367.0</td>\n",
       "      <td>0.0</td>\n",
       "      <td>09</td>\n",
       "      <td>20200201</td>\n",
       "      <td>20200201</td>\n",
       "      <td>09</td>\n",
       "    </tr>\n",
       "    <tr>\n",
       "      <th>605277</th>\n",
       "      <td>0.034004</td>\n",
       "      <td>0.001097</td>\n",
       "      <td>N544US</td>\n",
       "      <td>-0.323529</td>\n",
       "      <td>-0.251326</td>\n",
       "      <td>2615.0</td>\n",
       "      <td>0.0</td>\n",
       "      <td>09</td>\n",
       "      <td>20200201</td>\n",
       "      <td>20200201</td>\n",
       "      <td>09</td>\n",
       "    </tr>\n",
       "    <tr>\n",
       "      <th>588211</th>\n",
       "      <td>-0.047898</td>\n",
       "      <td>0.679342</td>\n",
       "      <td>N566AS</td>\n",
       "      <td>-0.081315</td>\n",
       "      <td>-0.417440</td>\n",
       "      <td>2688.0</td>\n",
       "      <td>1.0</td>\n",
       "      <td>09</td>\n",
       "      <td>20200201</td>\n",
       "      <td>20200201</td>\n",
       "      <td>09</td>\n",
       "    </tr>\n",
       "    <tr>\n",
       "      <th>605355</th>\n",
       "      <td>-0.261792</td>\n",
       "      <td>0.679342</td>\n",
       "      <td>N1611B</td>\n",
       "      <td>-0.323529</td>\n",
       "      <td>-0.228448</td>\n",
       "      <td>2677.0</td>\n",
       "      <td>0.0</td>\n",
       "      <td>09</td>\n",
       "      <td>20200201</td>\n",
       "      <td>20200201</td>\n",
       "      <td>09</td>\n",
       "    </tr>\n",
       "    <tr>\n",
       "      <th>588169</th>\n",
       "      <td>0.034004</td>\n",
       "      <td>0.679342</td>\n",
       "      <td>N585AS</td>\n",
       "      <td>-0.081315</td>\n",
       "      <td>-0.438660</td>\n",
       "      <td>2701.0</td>\n",
       "      <td>0.0</td>\n",
       "      <td>09</td>\n",
       "      <td>20200201</td>\n",
       "      <td>20200201</td>\n",
       "      <td>09</td>\n",
       "    </tr>\n",
       "  </tbody>\n",
       "</table>\n",
       "<p>179781 rows × 11 columns</p>\n",
       "</div>"
      ],
      "text/plain": [
       "        ORIGIN_AIRPORT_ID  DEST_AIRPORT_ID TAIL_NUM  OP_CARRIER_AIRLINE_ID  \\\n",
       "ID                                                                           \n",
       "425552           0.023400        -0.843876   N8894A               0.667820   \n",
       "415418           0.125411         0.442779   N8615E              -1.010381   \n",
       "414222          -0.583912         0.000000   N7853B              -1.010381   \n",
       "421432           0.710055         0.654479   N7812G              -1.010381   \n",
       "421356           0.710055        -0.763803   N7859B              -1.010381   \n",
       "...                   ...              ...      ...                    ...   \n",
       "595550          -0.047898         0.688117   N77430               0.000000   \n",
       "605277           0.034004         0.001097   N544US              -0.323529   \n",
       "588211          -0.047898         0.679342   N566AS              -0.081315   \n",
       "605355          -0.261792         0.679342   N1611B              -0.323529   \n",
       "588169           0.034004         0.679342   N585AS              -0.081315   \n",
       "\n",
       "        OP_CARRIER_FL_NUM  DISTANCE  DEP_DEL15 Hours_Departure Date_Departure  \\\n",
       "ID                                                                              \n",
       "425552           0.959218     378.0        0.0              01       20200123   \n",
       "415418          -0.321950     668.0        0.0              01       20200123   \n",
       "414222          -0.444297     628.0        0.0              01       20200123   \n",
       "421432           0.767573     417.0        0.0              01       20200123   \n",
       "421356          -0.038130     296.0        0.0              01       20200123   \n",
       "...                   ...       ...        ...             ...            ...   \n",
       "595550          -0.137599    2367.0        0.0              09       20200201   \n",
       "605277          -0.251326    2615.0        0.0              09       20200201   \n",
       "588211          -0.417440    2688.0        1.0              09       20200201   \n",
       "605355          -0.228448    2677.0        0.0              09       20200201   \n",
       "588169          -0.438660    2701.0        0.0              09       20200201   \n",
       "\n",
       "       Date_Arrival Hours_Arrival  \n",
       "ID                                 \n",
       "425552     20200123            01  \n",
       "415418     20200123            01  \n",
       "414222     20200123            01  \n",
       "421432     20200123            01  \n",
       "421356     20200123            01  \n",
       "...             ...           ...  \n",
       "595550     20200201            09  \n",
       "605277     20200201            09  \n",
       "588211     20200201            09  \n",
       "605355     20200201            09  \n",
       "588169     20200201            09  \n",
       "\n",
       "[179781 rows x 11 columns]"
      ]
     },
     "execution_count": 48,
     "metadata": {},
     "output_type": "execute_result"
    }
   ],
   "source": [
    "##SCALE DE VARIAVEIS NUMERICAS\n",
    "\n",
    "from sklearn.preprocessing import RobustScaler\n",
    "\n",
    "#Features to scale\n",
    "\n",
    "scale_list = ['ORIGIN_AIRPORT_ID', 'DEST_AIRPORT_ID', 'OP_CARRIER_AIRLINE_ID', 'OP_CARRIER_FL_NUM']\n",
    "\n",
    "\n",
    "for f in scale_list:\n",
    "    # initialize transformer with desired options\n",
    "    robustscaler = RobustScaler()\n",
    "\n",
    "    # save data to scale\n",
    "    X_rbs = df[[f]]\n",
    "\n",
    "    # fit transformer to data\n",
    "    robustscaler.fit(X_rbs)\n",
    "\n",
    "    # create new feature by transforming the data\n",
    "    col_new_name = f + '_robust_scaled'\n",
    "    df[f] = robustscaler.transform(X_rbs)\n",
    "\n",
    "\n",
    "#drop original columns\n",
    "df.drop(scale_list, axis = 1)\n",
    "df"
   ]
  },
  {
   "cell_type": "markdown",
   "metadata": {},
   "source": [
    "## Encoding"
   ]
  },
  {
   "cell_type": "code",
   "execution_count": 49,
   "metadata": {
    "ExecuteTime": {
     "end_time": "2020-08-02T13:08:16.410154Z",
     "start_time": "2020-08-02T13:08:16.274999Z"
    }
   },
   "outputs": [],
   "source": [
    "#ENCODING VARIAVEIS CATEGORICAS\n",
    "\n",
    "encoder = ce.ordinal.OrdinalEncoder()\n",
    "\n",
    "X2 = df[['TAIL_NUM']]\n",
    "encoder.fit(X2)\n",
    "\n",
    "df['TAIL_NUM_Encode'] = encoder.transform(X2)\n",
    "df = df.drop('TAIL_NUM',axis=1)"
   ]
  },
  {
   "cell_type": "code",
   "execution_count": 51,
   "metadata": {
    "ExecuteTime": {
     "end_time": "2020-08-02T13:08:16.441082Z",
     "start_time": "2020-08-02T13:08:16.415892Z"
    }
   },
   "outputs": [
    {
     "name": "stdout",
     "output_type": "stream",
     "text": [
      "ORIGIN_AIRPORT_ID        float64\n",
      "DEST_AIRPORT_ID          float64\n",
      "OP_CARRIER_AIRLINE_ID    float64\n",
      "OP_CARRIER_FL_NUM        float64\n",
      "DISTANCE                 float64\n",
      "DEP_DEL15                float64\n",
      "Hours_Departure           object\n",
      "Date_Departure            object\n",
      "Date_Arrival              object\n",
      "Hours_Arrival             object\n",
      "TAIL_NUM_Encode            int64\n",
      "dtype: object\n"
     ]
    }
   ],
   "source": [
    "## CRIAR PIPELINE\n",
    "\"\"\"\n",
    "# now let's make the pipeline\n",
    "pipeline = make_pipeline(\n",
    "    RemoveObjectColumns(),\n",
    "    # it's cool how scikit already has a mean imputer ready to go!\n",
    "    SimpleImputer(strategy='mean'),\n",
    "    RandomForestClassifier(n_estimators=10)\n",
    ")\n",
    "\n",
    "# No need for us to manually preprocess the X_train at all\n",
    "pipeline.fit(X_train, y_train)\n",
    "\n",
    "# Same thing for X_test\n",
    "probas = pipeline.predict_proba(X_test)\n",
    "\"\"\"\n",
    "\n",
    "print(df.dtypes)"
   ]
  },
  {
   "cell_type": "code",
   "execution_count": 52,
   "metadata": {
    "ExecuteTime": {
     "end_time": "2020-08-02T13:08:23.411891Z",
     "start_time": "2020-08-02T13:08:16.445080Z"
    }
   },
   "outputs": [],
   "source": [
    "df.to_csv('data/' + dataset + '_worked.csv')\n",
    "\n",
    "df.groupby('age').size()"
   ]
  },
  {
   "cell_type": "code",
   "execution_count": null,
   "metadata": {},
   "outputs": [],
   "source": []
  }
 ],
 "metadata": {
  "kernelspec": {
   "display_name": "Python 3",
   "language": "python",
   "name": "python3"
  },
  "language_info": {
   "codemirror_mode": {
    "name": "ipython",
    "version": 3
   },
   "file_extension": ".py",
   "mimetype": "text/x-python",
   "name": "python",
   "nbconvert_exporter": "python",
   "pygments_lexer": "ipython3",
   "version": "3.7.3"
  },
  "toc": {
   "base_numbering": 1,
   "nav_menu": {},
   "number_sections": true,
   "sideBar": true,
   "skip_h1_title": false,
   "title_cell": "Table of Contents",
   "title_sidebar": "Contents",
   "toc_cell": false,
   "toc_position": {},
   "toc_section_display": true,
   "toc_window_display": false
  },
  "varInspector": {
   "cols": {
    "lenName": 16,
    "lenType": 16,
    "lenVar": 40
   },
   "kernels_config": {
    "python": {
     "delete_cmd_postfix": "",
     "delete_cmd_prefix": "del ",
     "library": "var_list.py",
     "varRefreshCmd": "print(var_dic_list())"
    },
    "r": {
     "delete_cmd_postfix": ") ",
     "delete_cmd_prefix": "rm(",
     "library": "var_list.r",
     "varRefreshCmd": "cat(var_dic_list()) "
    }
   },
   "types_to_exclude": [
    "module",
    "function",
    "builtin_function_or_method",
    "instance",
    "_Feature"
   ],
   "window_display": false
  }
 },
 "nbformat": 4,
 "nbformat_minor": 4
}
