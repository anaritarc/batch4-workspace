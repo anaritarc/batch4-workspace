{
 "cells": [
  {
   "cell_type": "markdown",
   "metadata": {},
   "source": [
    "Data dictionary <p>\n",
    "<p>\n",
    "DATE_DEPARTURE_UTC - UTC timestamp of the flight departure.<p>\n",
    "DATE_ARRIVAL_UTC - UTC timestamp of the flight arrival.<p>\n",
    "DATE_DEPARTURE_LCL - Local timestamp of the flight departure.<p>\n",
    "DATE_ARRIVAL _LCL - Local timestamp of the flight arrival.<p>\n",
    "ORIGIN - The name associated with each unique airport from which an airplane departs.<p>\n",
    "ORIGIN_AIRPORT_ID - ID associated with each unique airport from which an airplane departs.<p>\n",
    "DEST - The name associated with each unique airport to which an airplane arrives.<p>\n",
    "DEST_AIRPORT_ID - ID associated with each unique airport to which an airplane arrives.<p>\n",
    "TAIL_NUM - The number of the airplane, we can see this as the airplane “licence plate number”.<p>\n",
    "OP_CARRIER - The name of the airline company associated with each unique flight.<p>\n",
    "OP_CARRIER_AIRLINE_ID - ID associated with each unique airline company.<p>\n",
    "OP_CARRIER_FL_NUM - The number of the flight given by the airline company. <p>\n",
    "DISTANCE - The distance between the origin and destination airports<p>\n",
    "CANCELLED - Whether or not the flight was cancelled.<p>\n",
    "DEP_DEL15 - Discriminates whether an airplane departed with delay or not. A plane is considered delayed if it departs more than 15 minutes after the scheduled time.<p>\n",
    "ARR_DEL15 - Target Variable Discriminates whether an airplane arrives with delay or not. A plane is considered delayed if it arrives more than 15 minutes after the scheduled time.<p>\n"
   ]
  },
  {
   "cell_type": "code",
   "execution_count": null,
   "metadata": {},
   "outputs": [],
   "source": []
  }
 ],
 "metadata": {
  "kernelspec": {
   "display_name": "Python 3",
   "language": "python",
   "name": "python3"
  },
  "language_info": {
   "codemirror_mode": {
    "name": "ipython",
    "version": 3
   },
   "file_extension": ".py",
   "mimetype": "text/x-python",
   "name": "python",
   "nbconvert_exporter": "python",
   "pygments_lexer": "ipython3",
   "version": "3.8.3"
  },
  "toc": {
   "base_numbering": 1,
   "nav_menu": {},
   "number_sections": true,
   "sideBar": true,
   "skip_h1_title": false,
   "title_cell": "Table of Contents",
   "title_sidebar": "Contents",
   "toc_cell": false,
   "toc_position": {},
   "toc_section_display": true,
   "toc_window_display": false
  },
  "varInspector": {
   "cols": {
    "lenName": 16,
    "lenType": 16,
    "lenVar": 40
   },
   "kernels_config": {
    "python": {
     "delete_cmd_postfix": "",
     "delete_cmd_prefix": "del ",
     "library": "var_list.py",
     "varRefreshCmd": "print(var_dic_list())"
    },
    "r": {
     "delete_cmd_postfix": ") ",
     "delete_cmd_prefix": "rm(",
     "library": "var_list.r",
     "varRefreshCmd": "cat(var_dic_list()) "
    }
   },
   "types_to_exclude": [
    "module",
    "function",
    "builtin_function_or_method",
    "instance",
    "_Feature"
   ],
   "window_display": false
  }
 },
 "nbformat": 4,
 "nbformat_minor": 4
}
