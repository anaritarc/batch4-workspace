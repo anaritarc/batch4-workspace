{
 "cells": [
  {
   "cell_type": "code",
   "execution_count": 1,
   "metadata": {
    "ExecuteTime": {
     "end_time": "2020-08-02T08:49:51.523875Z",
     "start_time": "2020-08-02T08:49:31.416255Z"
    }
   },
   "outputs": [],
   "source": [
    "import pandas as pd\n",
    "import numpy as np\n",
    "\n",
    "import category_encoders as ce\n",
    "\n",
    "from matplotlib import pyplot as plt\n",
    "%matplotlib inline\n",
    "\n",
    "from sklearn.model_selection import train_test_split\n",
    "\n",
    "from sklearn import datasets\n",
    "from sklearn.metrics import accuracy_score\n",
    "from sklearn.model_selection import train_test_split\n",
    "from sklearn.neighbors import KNeighborsClassifier\n",
    "from sklearn.svm import SVC\n"
   ]
  },
  {
   "cell_type": "code",
   "execution_count": 2,
   "metadata": {
    "ExecuteTime": {
     "end_time": "2020-08-02T08:49:54.627253Z",
     "start_time": "2020-08-02T08:49:51.716709Z"
    }
   },
   "outputs": [],
   "source": [
    "#Load data train\n",
    "data_train = pd.read_csv(\"data/train_worked.csv\")\n",
    "data_train_ = data_train.copy()\n",
    "\n",
    "data_train_ = data_train_.set_index('ID')\n",
    "\n",
    "X = data_train_.drop('ARR_DEL15', axis=1)\n",
    "y = data_train_['ARR_DEL15']\n",
    "\n",
    "\n",
    "X_train, X_test, y_train, y_test = train_test_split(X, y, test_size=0.4, random_state=42)\n"
   ]
  },
  {
   "cell_type": "code",
   "execution_count": 10,
   "metadata": {},
   "outputs": [],
   "source": [
    "linear_svc = SVC(kernel=\"linear\", C=1, probability=True)"
   ]
  },
  {
   "cell_type": "code",
   "execution_count": null,
   "metadata": {},
   "outputs": [],
   "source": [
    "linear_svc.fit(X_train, y_train)"
   ]
  },
  {
   "cell_type": "code",
   "execution_count": null,
   "metadata": {},
   "outputs": [],
   "source": []
  },
  {
   "cell_type": "code",
   "execution_count": 5,
   "metadata": {},
   "outputs": [],
   "source": [
    "#Load Submission Data\n",
    "data_sub = pd.read_csv(\"data/test_worked.csv\")\n",
    "data_sub_ = data_sub.copy()"
   ]
  },
  {
   "cell_type": "code",
   "execution_count": 6,
   "metadata": {},
   "outputs": [
    {
     "data": {
      "text/html": [
       "<div>\n",
       "<style scoped>\n",
       "    .dataframe tbody tr th:only-of-type {\n",
       "        vertical-align: middle;\n",
       "    }\n",
       "\n",
       "    .dataframe tbody tr th {\n",
       "        vertical-align: top;\n",
       "    }\n",
       "\n",
       "    .dataframe thead th {\n",
       "        text-align: right;\n",
       "    }\n",
       "</style>\n",
       "<table border=\"1\" class=\"dataframe\">\n",
       "  <thead>\n",
       "    <tr style=\"text-align: right;\">\n",
       "      <th></th>\n",
       "      <th>ORIGIN_AIRPORT_ID</th>\n",
       "      <th>DEST_AIRPORT_ID</th>\n",
       "      <th>OP_CARRIER_AIRLINE_ID</th>\n",
       "      <th>OP_CARRIER_FL_NUM</th>\n",
       "      <th>DISTANCE</th>\n",
       "      <th>DEP_DEL15</th>\n",
       "      <th>Hours_Departure</th>\n",
       "      <th>Date_Departure</th>\n",
       "      <th>Date_Arrival</th>\n",
       "      <th>Hours_Arrival</th>\n",
       "      <th>TAIL_NUM_Encode</th>\n",
       "    </tr>\n",
       "    <tr>\n",
       "      <th>ID</th>\n",
       "      <th></th>\n",
       "      <th></th>\n",
       "      <th></th>\n",
       "      <th></th>\n",
       "      <th></th>\n",
       "      <th></th>\n",
       "      <th></th>\n",
       "      <th></th>\n",
       "      <th></th>\n",
       "      <th></th>\n",
       "      <th></th>\n",
       "    </tr>\n",
       "  </thead>\n",
       "  <tbody>\n",
       "    <tr>\n",
       "      <th>425552</th>\n",
       "      <td>0.023400</td>\n",
       "      <td>-0.843876</td>\n",
       "      <td>0.667820</td>\n",
       "      <td>0.959218</td>\n",
       "      <td>378.0</td>\n",
       "      <td>0.0</td>\n",
       "      <td>1</td>\n",
       "      <td>20200123</td>\n",
       "      <td>20200123</td>\n",
       "      <td>1</td>\n",
       "      <td>1</td>\n",
       "    </tr>\n",
       "    <tr>\n",
       "      <th>415418</th>\n",
       "      <td>0.125411</td>\n",
       "      <td>0.442779</td>\n",
       "      <td>-1.010381</td>\n",
       "      <td>-0.321950</td>\n",
       "      <td>668.0</td>\n",
       "      <td>0.0</td>\n",
       "      <td>1</td>\n",
       "      <td>20200123</td>\n",
       "      <td>20200123</td>\n",
       "      <td>1</td>\n",
       "      <td>2</td>\n",
       "    </tr>\n",
       "    <tr>\n",
       "      <th>414222</th>\n",
       "      <td>-0.583912</td>\n",
       "      <td>0.000000</td>\n",
       "      <td>-1.010381</td>\n",
       "      <td>-0.444297</td>\n",
       "      <td>628.0</td>\n",
       "      <td>0.0</td>\n",
       "      <td>1</td>\n",
       "      <td>20200123</td>\n",
       "      <td>20200123</td>\n",
       "      <td>1</td>\n",
       "      <td>3</td>\n",
       "    </tr>\n",
       "    <tr>\n",
       "      <th>421432</th>\n",
       "      <td>0.710055</td>\n",
       "      <td>0.654479</td>\n",
       "      <td>-1.010381</td>\n",
       "      <td>0.767573</td>\n",
       "      <td>417.0</td>\n",
       "      <td>0.0</td>\n",
       "      <td>1</td>\n",
       "      <td>20200123</td>\n",
       "      <td>20200123</td>\n",
       "      <td>1</td>\n",
       "      <td>4</td>\n",
       "    </tr>\n",
       "    <tr>\n",
       "      <th>421356</th>\n",
       "      <td>0.710055</td>\n",
       "      <td>-0.763803</td>\n",
       "      <td>-1.010381</td>\n",
       "      <td>-0.038130</td>\n",
       "      <td>296.0</td>\n",
       "      <td>0.0</td>\n",
       "      <td>1</td>\n",
       "      <td>20200123</td>\n",
       "      <td>20200123</td>\n",
       "      <td>1</td>\n",
       "      <td>5</td>\n",
       "    </tr>\n",
       "    <tr>\n",
       "      <th>...</th>\n",
       "      <td>...</td>\n",
       "      <td>...</td>\n",
       "      <td>...</td>\n",
       "      <td>...</td>\n",
       "      <td>...</td>\n",
       "      <td>...</td>\n",
       "      <td>...</td>\n",
       "      <td>...</td>\n",
       "      <td>...</td>\n",
       "      <td>...</td>\n",
       "      <td>...</td>\n",
       "    </tr>\n",
       "    <tr>\n",
       "      <th>595550</th>\n",
       "      <td>-0.047898</td>\n",
       "      <td>0.688117</td>\n",
       "      <td>0.000000</td>\n",
       "      <td>-0.137599</td>\n",
       "      <td>2367.0</td>\n",
       "      <td>0.0</td>\n",
       "      <td>9</td>\n",
       "      <td>20200201</td>\n",
       "      <td>20200201</td>\n",
       "      <td>9</td>\n",
       "      <td>363</td>\n",
       "    </tr>\n",
       "    <tr>\n",
       "      <th>605277</th>\n",
       "      <td>0.034004</td>\n",
       "      <td>0.001097</td>\n",
       "      <td>-0.323529</td>\n",
       "      <td>-0.251326</td>\n",
       "      <td>2615.0</td>\n",
       "      <td>0.0</td>\n",
       "      <td>9</td>\n",
       "      <td>20200201</td>\n",
       "      <td>20200201</td>\n",
       "      <td>9</td>\n",
       "      <td>2366</td>\n",
       "    </tr>\n",
       "    <tr>\n",
       "      <th>588211</th>\n",
       "      <td>-0.047898</td>\n",
       "      <td>0.679342</td>\n",
       "      <td>-0.081315</td>\n",
       "      <td>-0.417440</td>\n",
       "      <td>2688.0</td>\n",
       "      <td>1.0</td>\n",
       "      <td>9</td>\n",
       "      <td>20200201</td>\n",
       "      <td>20200201</td>\n",
       "      <td>9</td>\n",
       "      <td>4187</td>\n",
       "    </tr>\n",
       "    <tr>\n",
       "      <th>605355</th>\n",
       "      <td>-0.261792</td>\n",
       "      <td>0.679342</td>\n",
       "      <td>-0.323529</td>\n",
       "      <td>-0.228448</td>\n",
       "      <td>2677.0</td>\n",
       "      <td>0.0</td>\n",
       "      <td>9</td>\n",
       "      <td>20200201</td>\n",
       "      <td>20200201</td>\n",
       "      <td>9</td>\n",
       "      <td>5216</td>\n",
       "    </tr>\n",
       "    <tr>\n",
       "      <th>588169</th>\n",
       "      <td>0.034004</td>\n",
       "      <td>0.679342</td>\n",
       "      <td>-0.081315</td>\n",
       "      <td>-0.438660</td>\n",
       "      <td>2701.0</td>\n",
       "      <td>0.0</td>\n",
       "      <td>9</td>\n",
       "      <td>20200201</td>\n",
       "      <td>20200201</td>\n",
       "      <td>9</td>\n",
       "      <td>1890</td>\n",
       "    </tr>\n",
       "  </tbody>\n",
       "</table>\n",
       "<p>179781 rows × 11 columns</p>\n",
       "</div>"
      ],
      "text/plain": [
       "        ORIGIN_AIRPORT_ID  DEST_AIRPORT_ID  OP_CARRIER_AIRLINE_ID  \\\n",
       "ID                                                                  \n",
       "425552           0.023400        -0.843876               0.667820   \n",
       "415418           0.125411         0.442779              -1.010381   \n",
       "414222          -0.583912         0.000000              -1.010381   \n",
       "421432           0.710055         0.654479              -1.010381   \n",
       "421356           0.710055        -0.763803              -1.010381   \n",
       "...                   ...              ...                    ...   \n",
       "595550          -0.047898         0.688117               0.000000   \n",
       "605277           0.034004         0.001097              -0.323529   \n",
       "588211          -0.047898         0.679342              -0.081315   \n",
       "605355          -0.261792         0.679342              -0.323529   \n",
       "588169           0.034004         0.679342              -0.081315   \n",
       "\n",
       "        OP_CARRIER_FL_NUM  DISTANCE  DEP_DEL15  Hours_Departure  \\\n",
       "ID                                                                \n",
       "425552           0.959218     378.0        0.0                1   \n",
       "415418          -0.321950     668.0        0.0                1   \n",
       "414222          -0.444297     628.0        0.0                1   \n",
       "421432           0.767573     417.0        0.0                1   \n",
       "421356          -0.038130     296.0        0.0                1   \n",
       "...                   ...       ...        ...              ...   \n",
       "595550          -0.137599    2367.0        0.0                9   \n",
       "605277          -0.251326    2615.0        0.0                9   \n",
       "588211          -0.417440    2688.0        1.0                9   \n",
       "605355          -0.228448    2677.0        0.0                9   \n",
       "588169          -0.438660    2701.0        0.0                9   \n",
       "\n",
       "        Date_Departure  Date_Arrival  Hours_Arrival  TAIL_NUM_Encode  \n",
       "ID                                                                    \n",
       "425552        20200123      20200123              1                1  \n",
       "415418        20200123      20200123              1                2  \n",
       "414222        20200123      20200123              1                3  \n",
       "421432        20200123      20200123              1                4  \n",
       "421356        20200123      20200123              1                5  \n",
       "...                ...           ...            ...              ...  \n",
       "595550        20200201      20200201              9              363  \n",
       "605277        20200201      20200201              9             2366  \n",
       "588211        20200201      20200201              9             4187  \n",
       "605355        20200201      20200201              9             5216  \n",
       "588169        20200201      20200201              9             1890  \n",
       "\n",
       "[179781 rows x 11 columns]"
      ]
     },
     "execution_count": 6,
     "metadata": {},
     "output_type": "execute_result"
    }
   ],
   "source": [
    "data_sub_ = data_sub_.set_index('ID')\n",
    "X_sub = data_sub_\n",
    "X_sub"
   ]
  },
  {
   "cell_type": "code",
   "execution_count": null,
   "metadata": {},
   "outputs": [],
   "source": []
  },
  {
   "cell_type": "code",
   "execution_count": 9,
   "metadata": {},
   "outputs": [
    {
     "ename": "AttributeError",
     "evalue": "predict_proba is not available when  probability=False",
     "output_type": "error",
     "traceback": [
      "\u001b[0;31m---------------------------------------------------------------------------\u001b[0m",
      "\u001b[0;31mAttributeError\u001b[0m                            Traceback (most recent call last)",
      "\u001b[0;32m<ipython-input-9-e2946c89396d>\u001b[0m in \u001b[0;36m<module>\u001b[0;34m\u001b[0m\n\u001b[0;32m----> 1\u001b[0;31m \u001b[0mprobs\u001b[0m \u001b[0;34m=\u001b[0m \u001b[0mlinear_svc\u001b[0m\u001b[0;34m.\u001b[0m\u001b[0mpredict_proba\u001b[0m\u001b[0;34m(\u001b[0m\u001b[0mX_sub\u001b[0m\u001b[0;34m)\u001b[0m\u001b[0;34m[\u001b[0m\u001b[0;36m1\u001b[0m\u001b[0;34m]\u001b[0m\u001b[0;34m\u001b[0m\u001b[0;34m\u001b[0m\u001b[0m\n\u001b[0m",
      "\u001b[0;32m~/.virtualenvs/hk01/lib/python3.7/site-packages/sklearn/svm/_base.py\u001b[0m in \u001b[0;36mpredict_proba\u001b[0;34m(self)\u001b[0m\n\u001b[1;32m    655\u001b[0m         \u001b[0mdatasets\u001b[0m\u001b[0;34m.\u001b[0m\u001b[0;34m\u001b[0m\u001b[0;34m\u001b[0m\u001b[0m\n\u001b[1;32m    656\u001b[0m         \"\"\"\n\u001b[0;32m--> 657\u001b[0;31m         \u001b[0mself\u001b[0m\u001b[0;34m.\u001b[0m\u001b[0m_check_proba\u001b[0m\u001b[0;34m(\u001b[0m\u001b[0;34m)\u001b[0m\u001b[0;34m\u001b[0m\u001b[0;34m\u001b[0m\u001b[0m\n\u001b[0m\u001b[1;32m    658\u001b[0m         \u001b[0;32mreturn\u001b[0m \u001b[0mself\u001b[0m\u001b[0;34m.\u001b[0m\u001b[0m_predict_proba\u001b[0m\u001b[0;34m\u001b[0m\u001b[0;34m\u001b[0m\u001b[0m\n\u001b[1;32m    659\u001b[0m \u001b[0;34m\u001b[0m\u001b[0m\n",
      "\u001b[0;32m~/.virtualenvs/hk01/lib/python3.7/site-packages/sklearn/svm/_base.py\u001b[0m in \u001b[0;36m_check_proba\u001b[0;34m(self)\u001b[0m\n\u001b[1;32m    622\u001b[0m     \u001b[0;32mdef\u001b[0m \u001b[0m_check_proba\u001b[0m\u001b[0;34m(\u001b[0m\u001b[0mself\u001b[0m\u001b[0;34m)\u001b[0m\u001b[0;34m:\u001b[0m\u001b[0;34m\u001b[0m\u001b[0;34m\u001b[0m\u001b[0m\n\u001b[1;32m    623\u001b[0m         \u001b[0;32mif\u001b[0m \u001b[0;32mnot\u001b[0m \u001b[0mself\u001b[0m\u001b[0;34m.\u001b[0m\u001b[0mprobability\u001b[0m\u001b[0;34m:\u001b[0m\u001b[0;34m\u001b[0m\u001b[0;34m\u001b[0m\u001b[0m\n\u001b[0;32m--> 624\u001b[0;31m             raise AttributeError(\"predict_proba is not available when \"\n\u001b[0m\u001b[1;32m    625\u001b[0m                                  \" probability=False\")\n\u001b[1;32m    626\u001b[0m         \u001b[0;32mif\u001b[0m \u001b[0mself\u001b[0m\u001b[0;34m.\u001b[0m\u001b[0m_impl\u001b[0m \u001b[0;32mnot\u001b[0m \u001b[0;32min\u001b[0m \u001b[0;34m(\u001b[0m\u001b[0;34m'c_svc'\u001b[0m\u001b[0;34m,\u001b[0m \u001b[0;34m'nu_svc'\u001b[0m\u001b[0;34m)\u001b[0m\u001b[0;34m:\u001b[0m\u001b[0;34m\u001b[0m\u001b[0;34m\u001b[0m\u001b[0m\n",
      "\u001b[0;31mAttributeError\u001b[0m: predict_proba is not available when  probability=False"
     ]
    }
   ],
   "source": [
    "probs = linear_svc.predict_proba(X_sub)[1]"
   ]
  },
  {
   "cell_type": "code",
   "execution_count": null,
   "metadata": {},
   "outputs": [],
   "source": []
  },
  {
   "cell_type": "code",
   "execution_count": null,
   "metadata": {},
   "outputs": [],
   "source": [
    "probs.head()"
   ]
  },
  {
   "cell_type": "code",
   "execution_count": null,
   "metadata": {},
   "outputs": [],
   "source": [
    "probs.to_csv('probs.csv')"
   ]
  },
  {
   "cell_type": "code",
   "execution_count": null,
   "metadata": {},
   "outputs": [],
   "source": [
    "data_test = pd.read_csv(\"data/test_worked.csv\")"
   ]
  },
  {
   "cell_type": "code",
   "execution_count": null,
   "metadata": {},
   "outputs": [],
   "source": [
    "predictions = linear_svc.predict(X_test)"
   ]
  },
  {
   "cell_type": "code",
   "execution_count": null,
   "metadata": {},
   "outputs": [],
   "source": [
    "\n",
    "linear_svc.score(X_test, y_test)"
   ]
  },
  {
   "cell_type": "code",
   "execution_count": null,
   "metadata": {},
   "outputs": [],
   "source": []
  }
 ],
 "metadata": {
  "kernelspec": {
   "display_name": "Python 3",
   "language": "python",
   "name": "python3"
  },
  "language_info": {
   "codemirror_mode": {
    "name": "ipython",
    "version": 3
   },
   "file_extension": ".py",
   "mimetype": "text/x-python",
   "name": "python",
   "nbconvert_exporter": "python",
   "pygments_lexer": "ipython3",
   "version": "3.7.3"
  },
  "toc": {
   "base_numbering": 1,
   "nav_menu": {},
   "number_sections": true,
   "sideBar": true,
   "skip_h1_title": false,
   "title_cell": "Table of Contents",
   "title_sidebar": "Contents",
   "toc_cell": false,
   "toc_position": {},
   "toc_section_display": true,
   "toc_window_display": false
  },
  "varInspector": {
   "cols": {
    "lenName": 16,
    "lenType": 16,
    "lenVar": 40
   },
   "kernels_config": {
    "python": {
     "delete_cmd_postfix": "",
     "delete_cmd_prefix": "del ",
     "library": "var_list.py",
     "varRefreshCmd": "print(var_dic_list())"
    },
    "r": {
     "delete_cmd_postfix": ") ",
     "delete_cmd_prefix": "rm(",
     "library": "var_list.r",
     "varRefreshCmd": "cat(var_dic_list()) "
    }
   },
   "types_to_exclude": [
    "module",
    "function",
    "builtin_function_or_method",
    "instance",
    "_Feature"
   ],
   "window_display": false
  }
 },
 "nbformat": 4,
 "nbformat_minor": 4
}
