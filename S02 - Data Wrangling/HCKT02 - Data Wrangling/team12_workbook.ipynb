{
 "cells": [
  {
   "cell_type": "code",
   "execution_count": 1,
   "metadata": {},
   "outputs": [],
   "source": [
    "# Import basic libraries\n",
    "import os\n",
    "import pandas as pd\n",
    "\n",
    "# Sklearn libraries\n",
    "from sklearn.pipeline import Pipeline\n",
    "from sklearn.model_selection import train_test_split\n",
    "from sklearn.impute import SimpleImputer\n",
    "from sklearn.linear_model import LogisticRegression\n",
    "from sklearn.preprocessing import StandardScaler\n",
    "\n",
    "import numpy as np\n",
    "import matplotlib.pyplot as plt\n",
    "\n",
    "from sklearn.neighbors import KNeighborsClassifier\n",
    "from sklearn.ensemble import RandomForestClassifier, GradientBoostingClassifier"
   ]
  },
  {
   "cell_type": "code",
   "execution_count": 2,
   "metadata": {},
   "outputs": [],
   "source": [
    "# directories\n",
    "current_dir = os.getcwd()\n",
    "csv_folder = 'data'\n",
    "acq_data_folder = 'acquired_data'"
   ]
  },
  {
   "cell_type": "code",
   "execution_count": 3,
   "metadata": {},
   "outputs": [],
   "source": [
    "## reading data\n",
    "\n",
    "# from csv's\n",
    "train_csv = pd.read_csv(os.path.join(current_dir,csv_folder,'train.csv')).set_index('game_id')\n",
    "test_csv = pd.read_csv(os.path.join(current_dir,csv_folder,'test.csv')).set_index('game_id')\n",
    "\n",
    "# from scraping\n",
    "scrape_csv = pd.read_csv(os.path.join(current_dir,acq_data_folder,'df_website.csv'))\n",
    "\n",
    "# from API\n",
    "api_csv = pd.read_csv(os.path.join(current_dir,acq_data_folder,'api_df_working_dist.csv'))\n",
    "\n",
    "# from SQL\n",
    "sql_csv = pd.read_csv(os.path.join(current_dir,acq_data_folder,'sql_blue_x_red_diff.csv'),sep=';')"
   ]
  },
  {
   "cell_type": "code",
   "execution_count": 4,
   "metadata": {},
   "outputs": [
    {
     "data": {
      "text/html": [
       "<div>\n",
       "<style scoped>\n",
       "    .dataframe tbody tr th:only-of-type {\n",
       "        vertical-align: middle;\n",
       "    }\n",
       "\n",
       "    .dataframe tbody tr th {\n",
       "        vertical-align: top;\n",
       "    }\n",
       "\n",
       "    .dataframe thead th {\n",
       "        text-align: right;\n",
       "    }\n",
       "</style>\n",
       "<table border=\"1\" class=\"dataframe\">\n",
       "  <thead>\n",
       "    <tr style=\"text-align: right;\">\n",
       "      <th></th>\n",
       "      <th>Year</th>\n",
       "      <th>Season</th>\n",
       "      <th>blueTeamTag</th>\n",
       "      <th>bResult</th>\n",
       "      <th>redTeamTag</th>\n",
       "      <th>gamelength</th>\n",
       "    </tr>\n",
       "    <tr>\n",
       "      <th>game_id</th>\n",
       "      <th></th>\n",
       "      <th></th>\n",
       "      <th></th>\n",
       "      <th></th>\n",
       "      <th></th>\n",
       "      <th></th>\n",
       "    </tr>\n",
       "  </thead>\n",
       "  <tbody>\n",
       "    <tr>\n",
       "      <th>b96f782c-da04-4641-9306-68968036bfd9</th>\n",
       "      <td>2016</td>\n",
       "      <td>Summer</td>\n",
       "      <td>TT</td>\n",
       "      <td>1</td>\n",
       "      <td>HWA</td>\n",
       "      <td>50</td>\n",
       "    </tr>\n",
       "    <tr>\n",
       "      <th>2a7e2cb1-5ac2-4ea2-bd18-0b261e43345a</th>\n",
       "      <td>2016</td>\n",
       "      <td>Summer</td>\n",
       "      <td>CRW</td>\n",
       "      <td>0</td>\n",
       "      <td>HWA</td>\n",
       "      <td>31</td>\n",
       "    </tr>\n",
       "    <tr>\n",
       "      <th>e04ed84d-929b-4f0e-a769-e7bffc2b5162</th>\n",
       "      <td>2016</td>\n",
       "      <td>Summer</td>\n",
       "      <td>SUP</td>\n",
       "      <td>1</td>\n",
       "      <td>AUR</td>\n",
       "      <td>50</td>\n",
       "    </tr>\n",
       "    <tr>\n",
       "      <th>8829614a-313e-413c-9520-d95d7b95af31</th>\n",
       "      <td>2016</td>\n",
       "      <td>Spring</td>\n",
       "      <td>JAG</td>\n",
       "      <td>1</td>\n",
       "      <td>SSB</td>\n",
       "      <td>40</td>\n",
       "    </tr>\n",
       "    <tr>\n",
       "      <th>db2cf98d-a55e-4e28-9702-d7363fad2ebb</th>\n",
       "      <td>2016</td>\n",
       "      <td>Spring</td>\n",
       "      <td>SIN</td>\n",
       "      <td>0</td>\n",
       "      <td>CHF</td>\n",
       "      <td>36</td>\n",
       "    </tr>\n",
       "  </tbody>\n",
       "</table>\n",
       "</div>"
      ],
      "text/plain": [
       "                                      Year  Season blueTeamTag  bResult  \\\n",
       "game_id                                                                   \n",
       "b96f782c-da04-4641-9306-68968036bfd9  2016  Summer          TT        1   \n",
       "2a7e2cb1-5ac2-4ea2-bd18-0b261e43345a  2016  Summer         CRW        0   \n",
       "e04ed84d-929b-4f0e-a769-e7bffc2b5162  2016  Summer         SUP        1   \n",
       "8829614a-313e-413c-9520-d95d7b95af31  2016  Spring         JAG        1   \n",
       "db2cf98d-a55e-4e28-9702-d7363fad2ebb  2016  Spring         SIN        0   \n",
       "\n",
       "                                     redTeamTag  gamelength  \n",
       "game_id                                                      \n",
       "b96f782c-da04-4641-9306-68968036bfd9        HWA          50  \n",
       "2a7e2cb1-5ac2-4ea2-bd18-0b261e43345a        HWA          31  \n",
       "e04ed84d-929b-4f0e-a769-e7bffc2b5162        AUR          50  \n",
       "8829614a-313e-413c-9520-d95d7b95af31        SSB          40  \n",
       "db2cf98d-a55e-4e28-9702-d7363fad2ebb        CHF          36  "
      ]
     },
     "execution_count": 4,
     "metadata": {},
     "output_type": "execute_result"
    }
   ],
   "source": [
    "# short display of data\n",
    "train_csv.head(5)"
   ]
  },
  {
   "cell_type": "code",
   "execution_count": 5,
   "metadata": {},
   "outputs": [],
   "source": [
    "def tidy_up_gold_df(df):\n",
    "    df = df.copy()\\\n",
    "           .pivot(index=['game_id'], columns='Type')\\\n",
    "           .astype(int) \n",
    "    return df\n",
    "\n",
    "def gold_lead_blue(df):\n",
    "    # define teams\n",
    "    blue_players = ['goldblueTop','goldblueJungle','goldblueMiddle','goldblueADC','goldblueSupport']\n",
    "    red_players = ['goldredTop','goldredJungle','goldredMiddle','goldredADC','goldredSupport']\n",
    "\n",
    "    # aggregate team gold\n",
    "    blue_gold = df['min_10'][blue_players]\\\n",
    "                    .astype(int)\\\n",
    "                    .sum(axis=1)\n",
    "    \n",
    "    red_gold= df['min_10'][red_players]\\\n",
    "                    .astype(int)\\\n",
    "                    .sum(axis=1)\n",
    "    \n",
    "    # return team difference\n",
    "    gold_lead_blue = pd.DataFrame(blue_gold-red_gold,columns=['value'])\n",
    "    return gold_lead_blue\n",
    "\n",
    "gold_lead_blue = scrape_csv.pipe(tidy_up_gold_df).pipe(gold_lead_blue)"
   ]
  },
  {
   "cell_type": "code",
   "execution_count": 6,
   "metadata": {},
   "outputs": [
    {
     "data": {
      "text/html": [
       "<div>\n",
       "<style scoped>\n",
       "    .dataframe tbody tr th:only-of-type {\n",
       "        vertical-align: middle;\n",
       "    }\n",
       "\n",
       "    .dataframe tbody tr th {\n",
       "        vertical-align: top;\n",
       "    }\n",
       "\n",
       "    .dataframe thead th {\n",
       "        text-align: right;\n",
       "    }\n",
       "</style>\n",
       "<table border=\"1\" class=\"dataframe\">\n",
       "  <thead>\n",
       "    <tr style=\"text-align: right;\">\n",
       "      <th></th>\n",
       "      <th>value</th>\n",
       "    </tr>\n",
       "    <tr>\n",
       "      <th>game_id</th>\n",
       "      <th></th>\n",
       "    </tr>\n",
       "  </thead>\n",
       "  <tbody>\n",
       "    <tr>\n",
       "      <th>0001c4f2-b421-41e7-ae5e-6e8a61c7ad26</th>\n",
       "      <td>-1805</td>\n",
       "    </tr>\n",
       "    <tr>\n",
       "      <th>00032e36-8a18-472c-bf38-61b836b72e45</th>\n",
       "      <td>1815</td>\n",
       "    </tr>\n",
       "    <tr>\n",
       "      <th>0024055a-f824-4a82-818f-22443bd2e080</th>\n",
       "      <td>325</td>\n",
       "    </tr>\n",
       "    <tr>\n",
       "      <th>00265d98-0c54-4c63-935e-7367e934f06f</th>\n",
       "      <td>-1222</td>\n",
       "    </tr>\n",
       "    <tr>\n",
       "      <th>00281254-1bf8-42c0-9af5-9e54c6b36616</th>\n",
       "      <td>1298</td>\n",
       "    </tr>\n",
       "    <tr>\n",
       "      <th>...</th>\n",
       "      <td>...</td>\n",
       "    </tr>\n",
       "    <tr>\n",
       "      <th>ffc83dc9-b51c-4698-9963-650653ddd8e0</th>\n",
       "      <td>-3110</td>\n",
       "    </tr>\n",
       "    <tr>\n",
       "      <th>ffd309f7-3663-41b3-8e72-cac59c8ef3ce</th>\n",
       "      <td>-185</td>\n",
       "    </tr>\n",
       "    <tr>\n",
       "      <th>ffda9bac-102f-4bfd-a82f-8eb62a1af58f</th>\n",
       "      <td>-1576</td>\n",
       "    </tr>\n",
       "    <tr>\n",
       "      <th>ffdf061a-fa45-49cd-b03c-b5f7bb09d39b</th>\n",
       "      <td>-769</td>\n",
       "    </tr>\n",
       "    <tr>\n",
       "      <th>fff9bdae-70c7-459c-8e30-fcba4b5d0160</th>\n",
       "      <td>-622</td>\n",
       "    </tr>\n",
       "  </tbody>\n",
       "</table>\n",
       "<p>7620 rows × 1 columns</p>\n",
       "</div>"
      ],
      "text/plain": [
       "                                      value\n",
       "game_id                                    \n",
       "0001c4f2-b421-41e7-ae5e-6e8a61c7ad26  -1805\n",
       "00032e36-8a18-472c-bf38-61b836b72e45   1815\n",
       "0024055a-f824-4a82-818f-22443bd2e080    325\n",
       "00265d98-0c54-4c63-935e-7367e934f06f  -1222\n",
       "00281254-1bf8-42c0-9af5-9e54c6b36616   1298\n",
       "...                                     ...\n",
       "ffc83dc9-b51c-4698-9963-650653ddd8e0  -3110\n",
       "ffd309f7-3663-41b3-8e72-cac59c8ef3ce   -185\n",
       "ffda9bac-102f-4bfd-a82f-8eb62a1af58f  -1576\n",
       "ffdf061a-fa45-49cd-b03c-b5f7bb09d39b   -769\n",
       "fff9bdae-70c7-459c-8e30-fcba4b5d0160   -622\n",
       "\n",
       "[7620 rows x 1 columns]"
      ]
     },
     "execution_count": 6,
     "metadata": {},
     "output_type": "execute_result"
    }
   ],
   "source": [
    "gold_lead_blue"
   ]
  },
  {
   "cell_type": "code",
   "execution_count": 7,
   "metadata": {},
   "outputs": [],
   "source": [
    "# merge gold_diff into train_csv and test_csv\n",
    "train_csv = train_csv.merge(gold_lead_blue, on='game_id', how='left')\n",
    "test_csv = test_csv.merge(gold_lead_blue, on='game_id', how='left')\n",
    "\n",
    "# merge api stuff into train_csv and test_csv\n",
    "train_csv = train_csv.merge(api_csv, on='game_id', how='left').fillna(0)\n",
    "test_csv = test_csv.merge(api_csv, on='game_id', how='left').fillna(0)\n",
    "train_csv['Kills_diff'] = train_csv['bKills']-train_csv['rKills']\n",
    "test_csv['Kills_diff'] = test_csv['bKills']-test_csv['rKills']\n",
    "\n",
    "# merge sql stuff into train_csv and test_csv\n",
    "train_csv = train_csv.merge(sql_csv, on='game_id', how='left').fillna(0)\n",
    "test_csv = test_csv.merge(sql_csv, on='game_id', how='left').fillna(0)"
   ]
  },
  {
   "cell_type": "code",
   "execution_count": 8,
   "metadata": {},
   "outputs": [
    {
     "data": {
      "text/html": [
       "<div>\n",
       "<style scoped>\n",
       "    .dataframe tbody tr th:only-of-type {\n",
       "        vertical-align: middle;\n",
       "    }\n",
       "\n",
       "    .dataframe tbody tr th {\n",
       "        vertical-align: top;\n",
       "    }\n",
       "\n",
       "    .dataframe thead th {\n",
       "        text-align: right;\n",
       "    }\n",
       "</style>\n",
       "<table border=\"1\" class=\"dataframe\">\n",
       "  <thead>\n",
       "    <tr style=\"text-align: right;\">\n",
       "      <th></th>\n",
       "      <th>game_id</th>\n",
       "      <th>Year</th>\n",
       "      <th>Season</th>\n",
       "      <th>blueTeamTag</th>\n",
       "      <th>bResult</th>\n",
       "      <th>redTeamTag</th>\n",
       "      <th>gamelength</th>\n",
       "      <th>value</th>\n",
       "      <th>bKills</th>\n",
       "      <th>rKills</th>\n",
       "      <th>Kills_diff</th>\n",
       "      <th>monsters_blue</th>\n",
       "      <th>monsters_red</th>\n",
       "      <th>monsters_diff</th>\n",
       "      <th>towers_blue</th>\n",
       "      <th>towers_red</th>\n",
       "      <th>towers_diff</th>\n",
       "    </tr>\n",
       "  </thead>\n",
       "  <tbody>\n",
       "    <tr>\n",
       "      <th>0</th>\n",
       "      <td>b96f782c-da04-4641-9306-68968036bfd9</td>\n",
       "      <td>2016</td>\n",
       "      <td>Summer</td>\n",
       "      <td>TT</td>\n",
       "      <td>1</td>\n",
       "      <td>HWA</td>\n",
       "      <td>50</td>\n",
       "      <td>862</td>\n",
       "      <td>1.0</td>\n",
       "      <td>0.0</td>\n",
       "      <td>1.0</td>\n",
       "      <td>0.0</td>\n",
       "      <td>0.0</td>\n",
       "      <td>0.0</td>\n",
       "      <td>0.0</td>\n",
       "      <td>0.0</td>\n",
       "      <td>0.0</td>\n",
       "    </tr>\n",
       "    <tr>\n",
       "      <th>1</th>\n",
       "      <td>2a7e2cb1-5ac2-4ea2-bd18-0b261e43345a</td>\n",
       "      <td>2016</td>\n",
       "      <td>Summer</td>\n",
       "      <td>CRW</td>\n",
       "      <td>0</td>\n",
       "      <td>HWA</td>\n",
       "      <td>31</td>\n",
       "      <td>568</td>\n",
       "      <td>3.0</td>\n",
       "      <td>0.0</td>\n",
       "      <td>3.0</td>\n",
       "      <td>1.0</td>\n",
       "      <td>0.0</td>\n",
       "      <td>1.0</td>\n",
       "      <td>0.0</td>\n",
       "      <td>0.0</td>\n",
       "      <td>0.0</td>\n",
       "    </tr>\n",
       "    <tr>\n",
       "      <th>2</th>\n",
       "      <td>e04ed84d-929b-4f0e-a769-e7bffc2b5162</td>\n",
       "      <td>2016</td>\n",
       "      <td>Summer</td>\n",
       "      <td>SUP</td>\n",
       "      <td>1</td>\n",
       "      <td>AUR</td>\n",
       "      <td>50</td>\n",
       "      <td>-56</td>\n",
       "      <td>1.0</td>\n",
       "      <td>1.0</td>\n",
       "      <td>0.0</td>\n",
       "      <td>1.0</td>\n",
       "      <td>0.0</td>\n",
       "      <td>1.0</td>\n",
       "      <td>1.0</td>\n",
       "      <td>0.0</td>\n",
       "      <td>1.0</td>\n",
       "    </tr>\n",
       "    <tr>\n",
       "      <th>3</th>\n",
       "      <td>8829614a-313e-413c-9520-d95d7b95af31</td>\n",
       "      <td>2016</td>\n",
       "      <td>Spring</td>\n",
       "      <td>JAG</td>\n",
       "      <td>1</td>\n",
       "      <td>SSB</td>\n",
       "      <td>40</td>\n",
       "      <td>-296</td>\n",
       "      <td>0.0</td>\n",
       "      <td>0.0</td>\n",
       "      <td>0.0</td>\n",
       "      <td>0.0</td>\n",
       "      <td>0.0</td>\n",
       "      <td>0.0</td>\n",
       "      <td>0.0</td>\n",
       "      <td>0.0</td>\n",
       "      <td>0.0</td>\n",
       "    </tr>\n",
       "    <tr>\n",
       "      <th>4</th>\n",
       "      <td>db2cf98d-a55e-4e28-9702-d7363fad2ebb</td>\n",
       "      <td>2016</td>\n",
       "      <td>Spring</td>\n",
       "      <td>SIN</td>\n",
       "      <td>0</td>\n",
       "      <td>CHF</td>\n",
       "      <td>36</td>\n",
       "      <td>-1018</td>\n",
       "      <td>0.0</td>\n",
       "      <td>0.0</td>\n",
       "      <td>0.0</td>\n",
       "      <td>0.0</td>\n",
       "      <td>0.0</td>\n",
       "      <td>0.0</td>\n",
       "      <td>1.0</td>\n",
       "      <td>1.0</td>\n",
       "      <td>0.0</td>\n",
       "    </tr>\n",
       "  </tbody>\n",
       "</table>\n",
       "</div>"
      ],
      "text/plain": [
       "                                game_id  Year  Season blueTeamTag  bResult  \\\n",
       "0  b96f782c-da04-4641-9306-68968036bfd9  2016  Summer          TT        1   \n",
       "1  2a7e2cb1-5ac2-4ea2-bd18-0b261e43345a  2016  Summer         CRW        0   \n",
       "2  e04ed84d-929b-4f0e-a769-e7bffc2b5162  2016  Summer         SUP        1   \n",
       "3  8829614a-313e-413c-9520-d95d7b95af31  2016  Spring         JAG        1   \n",
       "4  db2cf98d-a55e-4e28-9702-d7363fad2ebb  2016  Spring         SIN        0   \n",
       "\n",
       "  redTeamTag  gamelength  value  bKills  rKills  Kills_diff  monsters_blue  \\\n",
       "0        HWA          50    862     1.0     0.0         1.0            0.0   \n",
       "1        HWA          31    568     3.0     0.0         3.0            1.0   \n",
       "2        AUR          50    -56     1.0     1.0         0.0            1.0   \n",
       "3        SSB          40   -296     0.0     0.0         0.0            0.0   \n",
       "4        CHF          36  -1018     0.0     0.0         0.0            0.0   \n",
       "\n",
       "   monsters_red  monsters_diff  towers_blue  towers_red  towers_diff  \n",
       "0           0.0            0.0          0.0         0.0          0.0  \n",
       "1           0.0            1.0          0.0         0.0          0.0  \n",
       "2           0.0            1.0          1.0         0.0          1.0  \n",
       "3           0.0            0.0          0.0         0.0          0.0  \n",
       "4           0.0            0.0          1.0         1.0          0.0  "
      ]
     },
     "execution_count": 8,
     "metadata": {},
     "output_type": "execute_result"
    }
   ],
   "source": [
    "train_csv.head(5)"
   ]
  },
  {
   "cell_type": "code",
   "execution_count": 9,
   "metadata": {},
   "outputs": [],
   "source": [
    "# train-test splitting\n",
    "X = train_csv[['gamelength','value','Kills_diff','monsters_diff','towers_diff']]\n",
    "y = train_csv['bResult']\n",
    "\n",
    "X_train, X_test, y_train, y_test = train_test_split(X,y,test_size=0.2,shuffle=False)"
   ]
  },
  {
   "cell_type": "code",
   "execution_count": 10,
   "metadata": {},
   "outputs": [
    {
     "name": "stdout",
     "output_type": "stream",
     "text": [
      "   gamelength  value  Kills_diff  monsters_diff  towers_diff\n",
      "0          50    862         1.0            0.0          0.0\n",
      "1          31    568         3.0            1.0          0.0\n",
      "2          50    -56         0.0            1.0          1.0\n",
      "3          40   -296         0.0            0.0          0.0\n",
      "4          36  -1018         0.0            0.0          0.0\n"
     ]
    }
   ],
   "source": [
    "print(X_train.head(5))"
   ]
  },
  {
   "cell_type": "code",
   "execution_count": 11,
   "metadata": {},
   "outputs": [],
   "source": [
    "# creates pipeline\n",
    "pipeline = Pipeline([('rf', KNeighborsClassifier(n_neighbors=)\n",
    ")])"
   ]
  },
  {
   "cell_type": "code",
   "execution_count": 12,
   "metadata": {},
   "outputs": [
    {
     "name": "stderr",
     "output_type": "stream",
     "text": [
      "/Users/ritacarvalho/.virtualenvs/hk02/lib/python3.7/site-packages/pandas/core/indexing.py:1745: SettingWithCopyWarning: \n",
      "A value is trying to be set on a copy of a slice from a DataFrame.\n",
      "Try using .loc[row_indexer,col_indexer] = value instead\n",
      "\n",
      "See the caveats in the documentation: https://pandas.pydata.org/pandas-docs/stable/user_guide/indexing.html#returning-a-view-versus-a-copy\n",
      "  isetter(ilocs[0], value)\n",
      "/Users/ritacarvalho/.virtualenvs/hk02/lib/python3.7/site-packages/pandas/core/indexing.py:1783: SettingWithCopyWarning: \n",
      "A value is trying to be set on a copy of a slice from a DataFrame.\n",
      "Try using .loc[row_indexer,col_indexer] = value instead\n",
      "\n",
      "See the caveats in the documentation: https://pandas.pydata.org/pandas-docs/stable/user_guide/indexing.html#returning-a-view-versus-a-copy\n",
      "  self.obj[item_labels[indexer[info_axis]]] = value\n"
     ]
    },
    {
     "data": {
      "text/html": [
       "<div>\n",
       "<style scoped>\n",
       "    .dataframe tbody tr th:only-of-type {\n",
       "        vertical-align: middle;\n",
       "    }\n",
       "\n",
       "    .dataframe tbody tr th {\n",
       "        vertical-align: top;\n",
       "    }\n",
       "\n",
       "    .dataframe thead th {\n",
       "        text-align: right;\n",
       "    }\n",
       "</style>\n",
       "<table border=\"1\" class=\"dataframe\">\n",
       "  <thead>\n",
       "    <tr style=\"text-align: right;\">\n",
       "      <th></th>\n",
       "      <th>gamelength</th>\n",
       "      <th>value</th>\n",
       "      <th>Kills_diff</th>\n",
       "      <th>monsters_diff</th>\n",
       "      <th>towers_diff</th>\n",
       "    </tr>\n",
       "  </thead>\n",
       "  <tbody>\n",
       "    <tr>\n",
       "      <th>0</th>\n",
       "      <td>1.574330</td>\n",
       "      <td>0.764543</td>\n",
       "      <td>0.375630</td>\n",
       "      <td>0.050235</td>\n",
       "      <td>-0.055319</td>\n",
       "    </tr>\n",
       "    <tr>\n",
       "      <th>1</th>\n",
       "      <td>-0.817711</td>\n",
       "      <td>0.495872</td>\n",
       "      <td>1.530921</td>\n",
       "      <td>1.412454</td>\n",
       "      <td>-0.055319</td>\n",
       "    </tr>\n",
       "    <tr>\n",
       "      <th>2</th>\n",
       "      <td>1.574330</td>\n",
       "      <td>-0.074369</td>\n",
       "      <td>-0.202016</td>\n",
       "      <td>1.412454</td>\n",
       "      <td>1.709465</td>\n",
       "    </tr>\n",
       "    <tr>\n",
       "      <th>3</th>\n",
       "      <td>0.315361</td>\n",
       "      <td>-0.293693</td>\n",
       "      <td>-0.202016</td>\n",
       "      <td>0.050235</td>\n",
       "      <td>-0.055319</td>\n",
       "    </tr>\n",
       "    <tr>\n",
       "      <th>4</th>\n",
       "      <td>-0.188226</td>\n",
       "      <td>-0.953491</td>\n",
       "      <td>-0.202016</td>\n",
       "      <td>0.050235</td>\n",
       "      <td>-0.055319</td>\n",
       "    </tr>\n",
       "  </tbody>\n",
       "</table>\n",
       "</div>"
      ],
      "text/plain": [
       "   gamelength     value  Kills_diff  monsters_diff  towers_diff\n",
       "0    1.574330  0.764543    0.375630       0.050235    -0.055319\n",
       "1   -0.817711  0.495872    1.530921       1.412454    -0.055319\n",
       "2    1.574330 -0.074369   -0.202016       1.412454     1.709465\n",
       "3    0.315361 -0.293693   -0.202016       0.050235    -0.055319\n",
       "4   -0.188226 -0.953491   -0.202016       0.050235    -0.055319"
      ]
     },
     "execution_count": 12,
     "metadata": {},
     "output_type": "execute_result"
    }
   ],
   "source": [
    "#inputs preprocessing\n",
    "\n",
    "# initialize transformer with desired options\n",
    "\n",
    "standardscaler = StandardScaler()\n",
    "standardscaler.fit(X_train)\n",
    "\n",
    "\n",
    "# fit transformer to data\n",
    "X_train_scale = standardscaler.transform(X_train)\n",
    "\n",
    "X_test_scale = standardscaler.transform(X_test)\n",
    "\n",
    "# store scaled version of features\n",
    "# for some reason gives a warning\n",
    "for i in range(0,X_train.shape[1]):\n",
    "    X_train.loc[:,X_train.columns[i]] = X_train_scale[:,i]\n",
    "    X_test.loc[:,X_test.columns[i]] = X_test_scale[:,i]\n",
    "    \n",
    "X_train.head(5)"
   ]
  },
  {
   "cell_type": "code",
   "execution_count": 13,
   "metadata": {},
   "outputs": [
    {
     "data": {
      "text/html": [
       "<div>\n",
       "<style scoped>\n",
       "    .dataframe tbody tr th:only-of-type {\n",
       "        vertical-align: middle;\n",
       "    }\n",
       "\n",
       "    .dataframe tbody tr th {\n",
       "        vertical-align: top;\n",
       "    }\n",
       "\n",
       "    .dataframe thead th {\n",
       "        text-align: right;\n",
       "    }\n",
       "</style>\n",
       "<table border=\"1\" class=\"dataframe\">\n",
       "  <thead>\n",
       "    <tr style=\"text-align: right;\">\n",
       "      <th></th>\n",
       "      <th>bet_proba</th>\n",
       "    </tr>\n",
       "  </thead>\n",
       "  <tbody>\n",
       "    <tr>\n",
       "      <th>0</th>\n",
       "      <td>0.611111</td>\n",
       "    </tr>\n",
       "    <tr>\n",
       "      <th>1</th>\n",
       "      <td>0.833333</td>\n",
       "    </tr>\n",
       "    <tr>\n",
       "      <th>2</th>\n",
       "      <td>0.611111</td>\n",
       "    </tr>\n",
       "    <tr>\n",
       "      <th>3</th>\n",
       "      <td>0.444444</td>\n",
       "    </tr>\n",
       "    <tr>\n",
       "      <th>4</th>\n",
       "      <td>0.277778</td>\n",
       "    </tr>\n",
       "  </tbody>\n",
       "</table>\n",
       "</div>"
      ],
      "text/plain": [
       "   bet_proba\n",
       "0   0.611111\n",
       "1   0.833333\n",
       "2   0.611111\n",
       "3   0.444444\n",
       "4   0.277778"
      ]
     },
     "execution_count": 13,
     "metadata": {},
     "output_type": "execute_result"
    }
   ],
   "source": [
    "# trains model\n",
    "pipeline.fit(X_train.values, y_train.values)\n",
    "\n",
    "# predicts probabilities\n",
    "y_scores = pipeline.predict_proba(X_train)[:,1]\n",
    "y_scores_test = pipeline.predict_proba(X_test)[:,1]\n",
    "\n",
    "results_df = pd.DataFrame(y_scores,columns=['bet_proba']).set_index(X_train.index)\n",
    "results_df_test = pd.DataFrame(y_scores_test,columns=['bet_proba']).set_index(X_test.index)\n",
    "\n",
    "results_df.head(5)"
   ]
  },
  {
   "cell_type": "code",
   "execution_count": 14,
   "metadata": {},
   "outputs": [
    {
     "data": {
      "text/plain": [
       "array([[<AxesSubplot:title={'center':'bet_proba'}>]], dtype=object)"
      ]
     },
     "execution_count": 14,
     "metadata": {},
     "output_type": "execute_result"
    },
    {
     "data": {
      "image/png": "[encoded data removed]",
      "text/plain": [
       "<Figure size 432x288 with 1 Axes>"
      ]
     },
     "metadata": {
      "needs_background": "light"
     },
     "output_type": "display_data"
    }
   ],
   "source": [
    "results_df.hist()"
   ]
  },
  {
   "cell_type": "code",
   "execution_count": 15,
   "metadata": {},
   "outputs": [
    {
     "data": {
      "text/html": [
       "<div>\n",
       "<style scoped>\n",
       "    .dataframe tbody tr th:only-of-type {\n",
       "        vertical-align: middle;\n",
       "    }\n",
       "\n",
       "    .dataframe tbody tr th {\n",
       "        vertical-align: top;\n",
       "    }\n",
       "\n",
       "    .dataframe thead th {\n",
       "        text-align: right;\n",
       "    }\n",
       "</style>\n",
       "<table border=\"1\" class=\"dataframe\">\n",
       "  <thead>\n",
       "    <tr style=\"text-align: right;\">\n",
       "      <th></th>\n",
       "      <th>bet_proba</th>\n",
       "      <th>actual_bet</th>\n",
       "    </tr>\n",
       "  </thead>\n",
       "  <tbody>\n",
       "    <tr>\n",
       "      <th>0</th>\n",
       "      <td>0.611111</td>\n",
       "      <td>NO BET</td>\n",
       "    </tr>\n",
       "    <tr>\n",
       "      <th>1</th>\n",
       "      <td>0.833333</td>\n",
       "      <td>WIN</td>\n",
       "    </tr>\n",
       "    <tr>\n",
       "      <th>2</th>\n",
       "      <td>0.611111</td>\n",
       "      <td>NO BET</td>\n",
       "    </tr>\n",
       "    <tr>\n",
       "      <th>3</th>\n",
       "      <td>0.444444</td>\n",
       "      <td>NO BET</td>\n",
       "    </tr>\n",
       "    <tr>\n",
       "      <th>4</th>\n",
       "      <td>0.277778</td>\n",
       "      <td>LOSS</td>\n",
       "    </tr>\n",
       "  </tbody>\n",
       "</table>\n",
       "</div>"
      ],
      "text/plain": [
       "   bet_proba actual_bet\n",
       "0   0.611111     NO BET\n",
       "1   0.833333        WIN\n",
       "2   0.611111     NO BET\n",
       "3   0.444444     NO BET\n",
       "4   0.277778       LOSS"
      ]
     },
     "execution_count": 15,
     "metadata": {},
     "output_type": "execute_result"
    }
   ],
   "source": [
    "# create actual_bet column\n",
    "results_df['actual_bet'] = None\n",
    "results_df_test['actual_bet'] = None\n",
    "\n",
    "# converting a probability to a bet\n",
    "results_df.loc[results_df['bet_proba']>0.7,'actual_bet'] = 'WIN'\n",
    "results_df.loc[results_df['bet_proba']<0.3,'actual_bet'] = 'LOSS'\n",
    "results_df.loc[results_df['actual_bet'].isnull(),'actual_bet'] = 'NO BET'\n",
    "\n",
    "results_df_test.loc[results_df_test['bet_proba']>0.7,'actual_bet'] = 'WIN'\n",
    "results_df_test.loc[results_df_test['bet_proba']<0.3,'actual_bet'] = 'LOSS'\n",
    "results_df_test.loc[results_df_test['actual_bet'].isnull(),'actual_bet'] = 'NO BET'\n",
    "\n",
    "results_df.head(5)"
   ]
  },
  {
   "cell_type": "code",
   "execution_count": 16,
   "metadata": {},
   "outputs": [
    {
     "name": "stdout",
     "output_type": "stream",
     "text": [
      "5410\n"
     ]
    }
   ],
   "source": [
    "# results assessment\n",
    "win_results = y_train.loc[results_df['actual_bet'] == \"WIN\"]\n",
    "loss_results = y_train.loc[results_df['actual_bet'] == \"LOSS\"]\n",
    "no_bet_results = y_train.loc[results_df['actual_bet'] == \"NO BET\"]\n",
    "\n",
    "\n",
    "a = y_train.loc[results_df['actual_bet'] == 'WIN'].values\n",
    "b = y_train.loc[results_df['actual_bet'] == 'LOSS'].values\n",
    "\n",
    "print(sum(a==1)*5 + sum(a==0)*-5 + sum(b==1)*-5 + sum(b==0)*5)"
   ]
  },
  {
   "cell_type": "code",
   "execution_count": 17,
   "metadata": {},
   "outputs": [
    {
     "name": "stdout",
     "output_type": "stream",
     "text": [
      "1090\n"
     ]
    }
   ],
   "source": [
    "# results assessment test\n",
    "win_results = y_test.loc[results_df_test['actual_bet'] == \"WIN\"]\n",
    "loss_results = y_test.loc[results_df_test['actual_bet'] == \"LOSS\"]\n",
    "no_bet_results = y_test.loc[results_df_test['actual_bet'] == \"NO BET\"]\n",
    "\n",
    "\n",
    "a = y_test.loc[results_df_test['actual_bet'] == 'WIN'].values\n",
    "b = y_test.loc[results_df_test['actual_bet'] == 'LOSS'].values\n",
    "\n",
    "print(sum(a==1)*5 + sum(a==0)*-5 + sum(b==1)*-5 + sum(b==0)*5)\n",
    "\n"
   ]
  },
  {
   "cell_type": "code",
   "execution_count": 18,
   "metadata": {},
   "outputs": [],
   "source": [
    "overall_results = np.ones((10,10))*np.nan\n",
    "overall_results_test = np.ones((10,10))*np.nan\n",
    "for row,a in enumerate(np.arange(0,1,0.1)):\n",
    "    for col,b in enumerate(np.arange(0,1,0.1)):\n",
    "        if a>b:\n",
    "            continue\n",
    "        results_df['actual_bet'] = None\n",
    "        results_df.loc[results_df['bet_proba']<=a,'actual_bet'] = 'LOSS'\n",
    "        results_df.loc[results_df['bet_proba']>b,'actual_bet'] = 'WIN'\n",
    "        check_wins = y_train.loc[results_df['actual_bet'] == 'WIN'].values\n",
    "        check_losses = y_train.loc[results_df['actual_bet'] == 'LOSS'].values\n",
    "        overall_results[row,col] = sum(check_wins==1)*5 + sum(check_wins==0)*-5 + \\\n",
    "            sum(check_losses==0)*5 + sum(check_losses==1)*-5\n",
    "        results_df_test['actual_bet'] = None\n",
    "        results_df_test.loc[results_df_test['bet_proba']<=a,'actual_bet'] = 'LOSS'\n",
    "        results_df_test.loc[results_df_test['bet_proba']>b,'actual_bet'] = 'WIN'\n",
    "        check_wins = y_test.loc[results_df_test['actual_bet'] == 'WIN'].values\n",
    "        check_losses = y_test.loc[results_df_test['actual_bet'] == 'LOSS'].values\n",
    "        overall_results_test[row,col] = sum(check_wins==1)*5 + sum(check_wins==0)*-5 + \\\n",
    "            sum(check_losses==0)*5 + sum(check_losses==1)*-5"
   ]
  },
  {
   "cell_type": "code",
   "execution_count": 19,
   "metadata": {},
   "outputs": [],
   "source": [
    "# actual hackathon deliverable/output\n",
    "X_final = test_csv[['gamelength','value','Kills_diff','monsters_diff','towers_diff','game_id']].set_index('game_id')\n",
    "\n",
    "#inputs preprocessing\n",
    "# initialize transformer with desired options\n",
    "standardscaler = StandardScaler()\n",
    "standardscaler.fit(X_final)\n",
    "\n",
    "# fit transformer to data\n",
    "X_final_scale = standardscaler.transform(X_final)\n",
    "\n",
    "# store scaled version of features\n",
    "# for some reason gives a warning\n",
    "for i in range(0,X_final.shape[1]):\n",
    "    X_final.loc[:,X_final.columns[i]] = X_final_scale[:,i]\n",
    "\n",
    "# predicts probabilities\n",
    "y_scores_final = pipeline.predict_proba(X_final)[:,1]\n",
    "\n",
    "results_df_final = pd.DataFrame(y_scores_final,columns=['bet_proba']).set_index(X_final.index)\n",
    "\n",
    "# create actual_bet column\n",
    "results_df_final['bet'] = None\n",
    "\n",
    "# converting a probability to a bet\n",
    "results_df_final.loc[results_df_final['bet_proba']>0.7,'bet'] = 'WIN'\n",
    "results_df_final.loc[results_df_final['bet_proba']<0.3,'bet'] = 'LOSS'\n",
    "results_df_final.loc[results_df_final['bet'].isnull(),'bet'] = 'NO BET'\n",
    "\n",
    "results_df_final = results_df_final.drop('bet_proba',axis=1)\n",
    "\n",
    "results_df_final.head(5)\n",
    "\n",
    "results_df_final.to_csv('bets_hck02_team12_rt.csv')"
   ]
  },
  {
   "cell_type": "code",
   "execution_count": 20,
   "metadata": {},
   "outputs": [
    {
     "data": {
      "text/plain": [
       "<matplotlib.image.AxesImage at 0x7f9bc3b92ba8>"
      ]
     },
     "execution_count": 20,
     "metadata": {},
     "output_type": "execute_result"
    },
    {
     "data": {
      "image/png": "[encoded data removed]",
      "text/plain": [
       "<Figure size 288x288 with 1 Axes>"
      ]
     },
     "metadata": {
      "needs_background": "light"
     },
     "output_type": "display_data"
    }
   ],
   "source": [
    "plt.matshow(overall_results)"
   ]
  },
  {
   "cell_type": "code",
   "execution_count": 21,
   "metadata": {},
   "outputs": [
    {
     "data": {
      "text/plain": [
       "<matplotlib.image.AxesImage at 0x7f9bc4008780>"
      ]
     },
     "execution_count": 21,
     "metadata": {},
     "output_type": "execute_result"
    },
    {
     "data": {
      "image/png": "[encoded data removed]",
      "text/plain": [
       "<Figure size 288x288 with 1 Axes>"
      ]
     },
     "metadata": {
      "needs_background": "light"
     },
     "output_type": "display_data"
    }
   ],
   "source": [
    "plt.matshow(overall_results_test)"
   ]
  },
  {
   "cell_type": "code",
   "execution_count": 22,
   "metadata": {},
   "outputs": [
    {
     "name": "stdout",
     "output_type": "stream",
     "text": [
      "                                         bet\n",
      "game_id                                     \n",
      "9564c32b-dad9-4292-8efb-8fa41f026fe9    LOSS\n",
      "8160b53f-417a-416c-bd66-41b115e91039  NO BET\n",
      "5bd6d56b-e337-4f61-83b6-cfe21a481892  NO BET\n",
      "614fd189-86c9-4f44-9b13-cf980e1ccc9f     WIN\n",
      "539f6975-88f2-40ea-8d22-4b500370e971  NO BET\n",
      "...                                      ...\n",
      "a59e0afe-9c05-4000-9ec5-c3468f6a473b     WIN\n",
      "36ae936c-e159-49b1-96c6-3b8b877269d8  NO BET\n",
      "8a2f2bb9-c899-4861-b5bb-b44e00d5a309     WIN\n",
      "b6e7e76a-60e0-4494-87c6-36a036f19353  NO BET\n",
      "16d6cc6f-e923-4686-a23f-d277f65d12d9  NO BET\n",
      "\n",
      "[3552 rows x 1 columns]\n"
     ]
    }
   ],
   "source": [
    "print(results_df_final)"
   ]
  },
  {
   "cell_type": "code",
   "execution_count": null,
   "metadata": {},
   "outputs": [],
   "source": []
  },
  {
   "cell_type": "code",
   "execution_count": null,
   "metadata": {},
   "outputs": [],
   "source": []
  },
  {
   "cell_type": "code",
   "execution_count": null,
   "metadata": {},
   "outputs": [],
   "source": []
  },
  {
   "cell_type": "code",
   "execution_count": null,
   "metadata": {},
   "outputs": [],
   "source": []
  },
  {
   "cell_type": "code",
   "execution_count": null,
   "metadata": {},
   "outputs": [],
   "source": []
  }
 ],
 "metadata": {
  "kernelspec": {
   "display_name": "Python 3",
   "language": "python",
   "name": "python3"
  },
  "language_info": {
   "codemirror_mode": {
    "name": "ipython",
    "version": 3
   },
   "file_extension": ".py",
   "mimetype": "text/x-python",
   "name": "python",
   "nbconvert_exporter": "python",
   "pygments_lexer": "ipython3",
   "version": "3.7.3"
  }
 },
 "nbformat": 4,
 "nbformat_minor": 4
}
